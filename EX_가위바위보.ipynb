{
  "nbformat": 4,
  "nbformat_minor": 0,
  "metadata": {
    "colab": {
      "name": "EX. 가위바위보",
      "provenance": [],
      "collapsed_sections": []
    },
    "kernelspec": {
      "name": "python3",
      "display_name": "Python 3"
    },
    "language_info": {
      "name": "python"
    }
  },
  "cells": [
    {
      "cell_type": "code",
      "execution_count": 1,
      "metadata": {
        "colab": {
          "base_uri": "https://localhost:8080/"
        },
        "id": "wXwjbuEeA8TS",
        "outputId": "51a54e0a-1524-4d40-e505-47a7c880306b"
      },
      "outputs": [
        {
          "output_type": "stream",
          "name": "stdout",
          "text": [
            "2.8.2\n",
            "1.21.6\n"
          ]
        }
      ],
      "source": [
        "import tensorflow as tf\n",
        "import numpy as np\n",
        "\n",
        "print(tf.__version__)\n",
        "print(np.__version__)"
      ]
    },
    {
      "cell_type": "code",
      "source": [
        "from google.colab import drive\n",
        "drive.mount('/content/drive')"
      ],
      "metadata": {
        "colab": {
          "base_uri": "https://localhost:8080/"
        },
        "id": "NpjgLkkmA_RZ",
        "outputId": "9d1b8505-96b8-4dd3-c961-c437f7443e97"
      },
      "execution_count": 2,
      "outputs": [
        {
          "output_type": "stream",
          "name": "stdout",
          "text": [
            "Drive already mounted at /content/drive; to attempt to forcibly remount, call drive.mount(\"/content/drive\", force_remount=True).\n"
          ]
        }
      ]
    },
    {
      "cell_type": "code",
      "source": [
        "from PIL import Image\n",
        "import glob\n",
        "def resize_images(img_path):\n",
        "\timages=glob.glob(img_path + \"/*.jpg\")  \n",
        "    \n",
        "\tprint(len(images), \" images to be resized.\")\n",
        "\n",
        "    # 파일마다 모두 28x28 사이즈로 바꾸어 저장한다.\n",
        "\ttarget_size=(28,28)\n",
        "\tfor img in images:\n",
        "\t\told_img=Image.open(img)\n",
        "\t\tnew_img=old_img.resize(target_size,Image.ANTIALIAS)\n",
        "\t\tnew_img.save(img, \"JPEG\")\n",
        "    \n",
        "\tprint(len(images), \" images resized.\")\n",
        "\t\n",
        "# 가위 이미지가 저장된 디렉토리 아래의 모든 jpg 파일을 읽어들여서\n",
        "image_dir_path =   \"/content/drive/MyDrive/Class 1.zip (Unzipped Files)\"\n",
        "resize_images(image_dir_path)\n",
        "\n",
        "print(\"가위 이미지 resize 완료!\")\n",
        "\n"
      ],
      "metadata": {
        "colab": {
          "base_uri": "https://localhost:8080/"
        },
        "id": "aKLBGiF_ESR2",
        "outputId": "e9fa8bbd-450d-46dc-dc5b-850e95807cfc"
      },
      "execution_count": 3,
      "outputs": [
        {
          "output_type": "stream",
          "name": "stdout",
          "text": [
            "0  images to be resized.\n",
            "0  images resized.\n",
            "가위 이미지 resize 완료!\n"
          ]
        }
      ]
    },
    {
      "cell_type": "code",
      "source": [
        "# 바위 이미지\n",
        "\n",
        "image_dir_path =   \"/content/drive/MyDrive/바위.zip (Unzipped Files)\"\n",
        "resize_images(image_dir_path)"
      ],
      "metadata": {
        "colab": {
          "base_uri": "https://localhost:8080/"
        },
        "id": "1A7wSfPTGV5K",
        "outputId": "abd7b907-ee9e-43b3-8eca-24524aa38125"
      },
      "execution_count": 4,
      "outputs": [
        {
          "output_type": "stream",
          "name": "stdout",
          "text": [
            "0  images to be resized.\n",
            "0  images resized.\n"
          ]
        }
      ]
    },
    {
      "cell_type": "code",
      "source": [
        "# 보 이미지\n",
        "image_dir_path = \"/content/drive/MyDrive/보.zip (Unzipped Files)\"\n",
        "resize_images(image_dir_path)\n"
      ],
      "metadata": {
        "colab": {
          "base_uri": "https://localhost:8080/"
        },
        "id": "uz-cfJYbEn1z",
        "outputId": "bcc76713-c24f-4d5b-b549-0490c139ff12"
      },
      "execution_count": 5,
      "outputs": [
        {
          "output_type": "stream",
          "name": "stdout",
          "text": [
            "0  images to be resized.\n",
            "0  images resized.\n"
          ]
        }
      ]
    },
    {
      "cell_type": "code",
      "source": [
        "from numpy.lib.arraysetops import in1d\n",
        "import numpy as np\n",
        "\n",
        "def load_data(img_path, number_of_data=312):   #이미지 개수 총합 312\n",
        "    # 가위: 0, 바위: 1, 보: 2\n",
        "    img_size=28\n",
        "    color=3\n",
        "    # 이미지 데이터와 라벨(가위: 0, 바위: 1, 보: 2) 데이터를 담을 행렬(matrix)영역 생성.\n",
        "    imgs=np.zeros(number_of_data*img_size*img_size*color,dtype=np.int32).reshape(number_of_data,img_size,img_size,color)\n",
        "    labels=np.zeros(number_of_data,dtype=np.int32)\n",
        "\n",
        "    idx=0\n",
        "    for file in glob.iglob(img_path+'/Class 1.zip (Unzipped Files)/*.jpg'):\n",
        "        img = np.array(Image.open(file),dtype=np.int32)\n",
        "        imgs[idx,:,:,:]=img # 데이터 영역에 이미지 행렬을 복사\n",
        "        labels[idx]=0 # 가위 : 0\n",
        "        idx=idx+1\n",
        "\n",
        "    for file in glob.iglob(img_path+'/바위.zip (Unzipped Files)/*.jpg'):\n",
        "        img = np.array(Image.open(file),dtype=np.int32)\n",
        "        imgs[idx,:,:,:]=img  #데이터 영역에 이미지 행렬을 복사\n",
        "        labels[idx]=1 # 바위 : 1\n",
        "        idx=idx+1\n",
        "\n",
        "    for file in glob.iglob(img_path+'/보.zip (Unzipped Files)/*.jpg'):\n",
        "        img = np.array(Image.open(file),dtype=np.int32)\n",
        "        imgs[idx]=2  # 보 : 2\n",
        "\n",
        "    print(\"학습데이터(x_train)의 이미지 개수는\", idx,\"입니다.\")\n",
        "    return imgs, labels\n",
        "\n",
        "image_dir_path = '/content/drive/MyDrive/가위바위보'\n",
        "(x_train, y_train)=load_data(image_dir_path)\n",
        "x_train_norm = x_train/255.0   # 입력은 0~1 사이의 값으로 정규화\n",
        "\n",
        "print(\"x_train shape: {}\".format(x_train.shape))\n",
        "print(\"y_train shape: {}\".format(y_train.shape))\n"
      ],
      "metadata": {
        "colab": {
          "base_uri": "https://localhost:8080/"
        },
        "id": "tMA1QwcULoSG",
        "outputId": "a9dc7e48-9c4c-41db-d15f-88f0eee2be96"
      },
      "execution_count": 6,
      "outputs": [
        {
          "output_type": "stream",
          "name": "stdout",
          "text": [
            "학습데이터(x_train)의 이미지 개수는 212 입니다.\n",
            "x_train shape: (312, 28, 28, 3)\n",
            "y_train shape: (312,)\n"
          ]
        }
      ]
    },
    {
      "cell_type": "code",
      "source": [
        "import tensorflow as tf\n",
        "from tensorflow import keras\n",
        "import numpy as np\n",
        "\n",
        "# model을 직접 만들어 보자.\n",
        "# Hint! model의 입력/출력부에 특히 유의 할 것!. 가위바위보 데이터 셋은 MNIST 데이터셋과 어떤 점이 달라졌나?\n",
        "# [[MY Code]]----\n",
        "model=keras.models.Sequential()\n",
        "\n",
        "model.add(keras.layers.Conv2D(32, (3,3), kernel_regularizer=keras.regularizers.l2(0.001), activation='relu', input_shape=(28,28,3)))\n",
        "model.add(keras.layers.MaxPool2D(2,2))\n",
        "model.add(keras.layers.Conv2D(32, (3,3), kernel_regularizer=keras.regularizers.l2(0.001), activation='relu'))\n",
        "model.add(keras.layers.MaxPooling2D((2,2)))\n",
        "model.add(keras.layers.Flatten())\n",
        "model.add(keras.layers.Dropout(0.2))\n",
        "model.add(keras.layers.Dense(64, kernel_regularizer=keras.regularizers.l2(0.001), activation='relu'))\n",
        "model.add(keras.layers.Dense(3, activation='softmax'))\n",
        "\n",
        "print('Model에 추가된 Layer 개수:', len(model.layers))\n",
        "model.summary()"
      ],
      "metadata": {
        "colab": {
          "base_uri": "https://localhost:8080/"
        },
        "id": "Hnvo2AN7Yq0U",
        "outputId": "b68dba9b-25f2-4b17-8821-da49d8f07a9c"
      },
      "execution_count": 7,
      "outputs": [
        {
          "output_type": "stream",
          "name": "stdout",
          "text": [
            "Model에 추가된 Layer 개수: 8\n",
            "Model: \"sequential\"\n",
            "_________________________________________________________________\n",
            " Layer (type)                Output Shape              Param #   \n",
            "=================================================================\n",
            " conv2d (Conv2D)             (None, 26, 26, 32)        896       \n",
            "                                                                 \n",
            " max_pooling2d (MaxPooling2D  (None, 13, 13, 32)       0         \n",
            " )                                                               \n",
            "                                                                 \n",
            " conv2d_1 (Conv2D)           (None, 11, 11, 32)        9248      \n",
            "                                                                 \n",
            " max_pooling2d_1 (MaxPooling  (None, 5, 5, 32)         0         \n",
            " 2D)                                                             \n",
            "                                                                 \n",
            " flatten (Flatten)           (None, 800)               0         \n",
            "                                                                 \n",
            " dropout (Dropout)           (None, 800)               0         \n",
            "                                                                 \n",
            " dense (Dense)               (None, 64)                51264     \n",
            "                                                                 \n",
            " dense_1 (Dense)             (None, 3)                 195       \n",
            "                                                                 \n",
            "=================================================================\n",
            "Total params: 61,603\n",
            "Trainable params: 61,603\n",
            "Non-trainable params: 0\n",
            "_________________________________________________________________\n"
          ]
        }
      ]
    },
    {
      "cell_type": "markdown",
      "source": [
        "**2.2 모델 학습하기**\n",
        "굵은 텍스트**\n",
        "Dataset이 커질수록 epoch 수를 늘려가는 편이좋다.\n",
        "연속 촬영된 데이터셋이나 일련의 연속된 이미지를 학습하기 보다 순서를 섞어 주는 것이 학습에 더 도움된다.\n",
        "\n",
        "\n",
        "\n",
        "\n"
      ],
      "metadata": {
        "id": "u0kE0Ko-eMg5"
      }
    },
    {
      "cell_type": "code",
      "source": [
        "model.compile(optimizer='adam',\n",
        "              loss='sparse_categorical_crossentropy',\n",
        "              metrics=['accuracy'])\n",
        " # 모델 훈련\n",
        "history = model.fit(x_train, y_train, epochs = 19, shuffle = True) \n"
      ],
      "metadata": {
        "colab": {
          "base_uri": "https://localhost:8080/"
        },
        "id": "O94rNXghcSOx",
        "outputId": "608b49f3-8047-43b7-b64f-65e479b5018e"
      },
      "execution_count": 8,
      "outputs": [
        {
          "output_type": "stream",
          "name": "stdout",
          "text": [
            "Epoch 1/19\n",
            "10/10 [==============================] - 1s 27ms/step - loss: 10.5378 - accuracy: 0.6378\n",
            "Epoch 2/19\n",
            "10/10 [==============================] - 0s 26ms/step - loss: 1.7083 - accuracy: 0.8397\n",
            "Epoch 3/19\n",
            "10/10 [==============================] - 0s 27ms/step - loss: 0.9714 - accuracy: 0.9038\n",
            "Epoch 4/19\n",
            "10/10 [==============================] - 0s 25ms/step - loss: 0.7373 - accuracy: 0.9263\n",
            "Epoch 5/19\n",
            "10/10 [==============================] - 0s 27ms/step - loss: 0.4841 - accuracy: 0.9519\n",
            "Epoch 6/19\n",
            "10/10 [==============================] - 0s 26ms/step - loss: 0.2521 - accuracy: 0.9712\n",
            "Epoch 7/19\n",
            "10/10 [==============================] - 0s 30ms/step - loss: 0.1854 - accuracy: 0.9872\n",
            "Epoch 8/19\n",
            "10/10 [==============================] - 0s 26ms/step - loss: 0.1658 - accuracy: 0.9872\n",
            "Epoch 9/19\n",
            "10/10 [==============================] - 0s 26ms/step - loss: 0.1555 - accuracy: 0.9904\n",
            "Epoch 10/19\n",
            "10/10 [==============================] - 0s 26ms/step - loss: 0.1501 - accuracy: 0.9936\n",
            "Epoch 11/19\n",
            "10/10 [==============================] - 0s 28ms/step - loss: 0.1422 - accuracy: 0.9968\n",
            "Epoch 12/19\n",
            "10/10 [==============================] - 0s 26ms/step - loss: 0.1502 - accuracy: 0.9968\n",
            "Epoch 13/19\n",
            "10/10 [==============================] - 0s 26ms/step - loss: 0.1388 - accuracy: 0.9936\n",
            "Epoch 14/19\n",
            "10/10 [==============================] - 0s 26ms/step - loss: 0.1418 - accuracy: 0.9968\n",
            "Epoch 15/19\n",
            "10/10 [==============================] - 0s 27ms/step - loss: 0.1430 - accuracy: 0.9968\n",
            "Epoch 16/19\n",
            "10/10 [==============================] - 0s 26ms/step - loss: 0.1326 - accuracy: 1.0000\n",
            "Epoch 17/19\n",
            "10/10 [==============================] - 0s 26ms/step - loss: 0.1356 - accuracy: 0.9936\n",
            "Epoch 18/19\n",
            "10/10 [==============================] - 0s 27ms/step - loss: 0.1329 - accuracy: 0.9968\n",
            "Epoch 19/19\n",
            "10/10 [==============================] - 0s 27ms/step - loss: 0.1309 - accuracy: 1.0000\n"
          ]
        }
      ]
    },
    {
      "cell_type": "code",
      "source": [
        "# 훈련과정 시각화( 정확도와 손실)\n",
        "import matplotlib.pyplot as plt\n",
        "\n",
        "plt.plot(history.history['accuracy'])\n",
        "plt.plot(history.history['loss'])\n",
        "\n",
        "plt.title('Model accuracy & loss')\n",
        "plt.xlabel('Epoch')\n",
        "plt.ylabel('Accuracy & Loss')\n",
        "plt.legend(['Train accur', 'Train loss'], loc='upper left')\n",
        "plt.show()"
      ],
      "metadata": {
        "colab": {
          "base_uri": "https://localhost:8080/",
          "height": 295
        },
        "id": "H30PA4QHfrXY",
        "outputId": "db8ccd9d-bab8-4356-a9d1-5d5d3641cb1e"
      },
      "execution_count": 9,
      "outputs": [
        {
          "output_type": "display_data",
          "data": {
            "text/plain": [
              "<Figure size 432x288 with 1 Axes>"
            ],
            "image/png": "[encoded data removed]"
          },
          "metadata": {
            "needs_background": "light"
          }
        }
      ]
    },
    {
      "cell_type": "markdown",
      "source": [
        "# 3. 모델 확인하기\n",
        "\n"
      ],
      "metadata": {
        "id": "4Cuiu9Vdip2I"
      }
    },
    {
      "cell_type": "markdown",
      "source": [
        "**3-1.  모델 평가하기**\n",
        "--- Test set 을 활용해 fit함수로 학습된 model의 성능을 확인한다.\n"
      ],
      "metadata": {
        "id": "YZNr6poEi30V"
      }
    },
    {
      "cell_type": "markdown",
      "source": [
        "# 회고\n",
        "\n",
        "난 회고한다.\n"
      ],
      "metadata": {
        "id": "1jGwNA0cT9_W"
      }
    },
    {
      "cell_type": "markdown",
      "source": [
        " 이미 다른 사람이 해 놓은 코드를 따라 치다가 길을 잃었다. 보고 치던 자료를 못찾음.\n",
        "훈성님이 코드가 똑같다며 다른 사람의 자료를 찾아 주었으나, 이 조금을 못 고친다. 오늘은  조퇴를 해야하니 여기서 끝낸다. 아, 아쉽다. 항상 한발 더 가고 싶다."
      ],
      "metadata": {
        "id": "6BE0ODZCULEk"
      }
    },
    {
      "cell_type": "markdown",
      "source": [
        "**보고 따라 칠 때는 눈에 익은 것 같다가도 막상 눈앞에서 사라지면 깜깜하다. 그래도...\n",
        "뭔가 익숙해 지는 느낌은 있다. 이렇게라도 계속하면 혹시 내가 코드 한 줄 내 힘으로 고치는 날이 오려나~~??\n",
        "밀린 노드를 해야하니, 아쉽지만 여기까지 만 한다. 매우 아쉽다.**"
      ],
      "metadata": {
        "id": "2VPisum1VO6U"
      }
    },
    {
      "cell_type": "code",
      "source": [
        ""
      ],
      "metadata": {
        "id": "bJr7tE1jWnBX"
      },
      "execution_count": null,
      "outputs": []
    }
  ]
}