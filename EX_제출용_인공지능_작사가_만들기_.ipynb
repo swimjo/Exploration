{
  "nbformat": 4,
  "nbformat_minor": 0,
  "metadata": {
    "colab": {
      "name": "EX.   제출용. 인공지능 작사가 만들기.",
      "provenance": [],
      "collapsed_sections": []
    },
    "kernelspec": {
      "name": "python3",
      "display_name": "Python 3"
    },
    "language_info": {
      "name": "python"
    },
    "accelerator": "GPU",
    "gpuClass": "standard"
  },
  "cells": [
    {
      "cell_type": "markdown",
      "source": [
        ""
      ],
      "metadata": {
        "id": "gr6tkVUNoM62"
      }
    },
    {
      "cell_type": "markdown",
      "source": [
        "# Exploration 11. 인공지능 작사가 만들기."
      ],
      "metadata": {
        "id": "cJ8LdHhCoTYT"
      }
    },
    {
      "cell_type": "markdown",
      "source": [
        "**Import**"
      ],
      "metadata": {
        "id": "Uo6PXcLBohfi"
      }
    },
    {
      "cell_type": "code",
      "source": [
        "import os \n",
        "import glob\n",
        "import re\n",
        "import matplotlib.pyplot as plt\n",
        "import numpy as np\n",
        "\n",
        "import tensorflow as tf\n",
        "from sklearn.model_selection import train_test_split  # 기본 세팅을 한다. os와 glob이 새로운 놈들이다."
      ],
      "metadata": {
        "id": "PD398QhPofb3"
      },
      "execution_count": 1,
      "outputs": []
    },
    {
      "cell_type": "code",
      "source": [
        "# 파일을 읽기모드로 열고\n",
        "# 라인 단위로 끊어서 list 형태로 읽어온다.\n",
        "from google.colab import drive\n",
        "drive.mount('/content/drive')\n",
        "\n",
        "file_path = '/content/drive/MyDrive/aiffel/lyricist/data/lyrics/*'\n",
        "txt_list = glob.glob(file_path)\n",
        "\n",
        "raw_corpus = []\n",
        "\n",
        "# 여러개의 txt 파일을 모두 읽어서 raw_corpus 에 담는다.\n",
        "for txt_file in txt_list:\n",
        "    with open(txt_file, \"r\") as f:\n",
        "        raw = f.read().splitlines()\n",
        "        raw_corpus.extend(raw)\n",
        "\n",
        "print(\"데이터 크기:\", len(raw_corpus))\n",
        "print(\"Examples:\\n\", raw_corpus[:3])"
      ],
      "metadata": {
        "colab": {
          "base_uri": "https://localhost:8080/"
        },
        "id": "jmxtHEBWIp7Y",
        "outputId": "afd3778f-2fa5-4af0-d1de-04ba0d27601d"
      },
      "execution_count": 2,
      "outputs": [
        {
          "output_type": "stream",
          "name": "stdout",
          "text": [
            "Drive already mounted at /content/drive; to attempt to forcibly remount, call drive.mount(\"/content/drive\", force_remount=True).\n",
            "데이터 크기: 187088\n",
            "Examples:\n",
            " ['Looking for some education', 'Made my way into the night', 'All that bullshit conversation']\n"
          ]
        }
      ]
    },
    {
      "cell_type": "code",
      "source": [
        "def preprocess_sentence(sentence):\n",
        "    sentence = sentence.lower().strip() # 소문자로 바꾸고 양쪽 공백을 삭제 했다.\n",
        "\n",
        "    # 아래의 3 단계를 거쳐서 sentence는 스페이스 1 개를 delimeter로 하는 소문자 단어 시퀀스로 바뀐다.\n",
        "    sentence = re.sub(r\"([?.!,¿])\", r\" \\1 \", sentence)    # 패턴의 특수문자를 만나면 특수문자 양쪽에 공백을 추가.\n",
        "    sentence = re.sub(r'[\" \"]+', \" \", sentence)            # 공백 패턴을 만나면 스페이스 1개로 치환.\n",
        "    sentence = re.sub(r\"[^a-zA-Z?.!,¿]+\", \" \", sentence)  # # a-zA-Z?.!,¿ 패턴을 제외한 모든 문자(공백문자까지도)를 스페이스 1개로 치환.\n",
        "\n",
        "    sentence = sentence.strip()\n",
        "\n",
        "    sentence = '<start>' + sentence + ' <end>'             # 이전 스텝에서 본 것처럼 문장 앞뒤로 <start>와<end>를 단어처럼 붙여 준다. \n",
        "\n",
        "    return sentence"
      ],
      "metadata": {
        "id": "C2cZIRgTt24r"
      },
      "execution_count": 3,
      "outputs": []
    },
    {
      "cell_type": "code",
      "source": [
        "def tokenize(corpus):\n",
        "  # 텐서플로우에서 제공하는 Tokenizer 패키지를 생성\n",
        "    tokenizer = tf.keras.preprocessing.text.Tokenizer(\n",
        "      num_words=7000,  # 전체 단어의 개수\n",
        "      filters=' ',     # 별도로 전처리 로직을 추가 할 수 있다. 이번엔는 사용하지 않는다.\n",
        "      oov_token=\"<unk>\"# out-of-vocabulary, 사전에 없었던 단어는 어떤 토큰으로 대체할지\n",
        "  )\n",
        "    tokenizer.fit_on_texts(corpus) \n",
        "                       # 구축한 corpus로부터 Tokenizer가 사전을 자동구축하게 된다.\n",
        "    tensor = tokenizer.texts_to_sequences(corpus)\n",
        "                       # tokenizer는 구축한 사전으로부터 corpus를 해석해 Tensor 로 변환.\n",
        "                       # 입력 데이터의 시퀀스 길이를 일정하게 맞추기 위한 padding 메소드를 제공.\n",
        "                       # maxlen의 디폴트 값은 none.  이 경우 corpus의 가장 긴 문장을 기준으로 시퀀스 길이가 맞춰진다.\n",
        "\n",
        "    tensor = tf.keras.preprocessing.sequence.pad_sequences(tensor, padding='post', maxlen=15)\n",
        "\n",
        "    print(tensor,tokenizer)\n",
        "    return tensor, tokenizer       "
      ],
      "metadata": {
        "id": "9HStUA-wyDB3"
      },
      "execution_count": 4,
      "outputs": []
    },
    {
      "cell_type": "code",
      "source": [
        "def plot_curve(epochs, hist, list_of_metrics):\n",
        "\n",
        "    fig, ax = plt.subplots(1,2,figsize = (12, 8))\n",
        "\n",
        "    for i in range(len(ax)):\n",
        "        ax[i].set_xlabel('Epochs')\n",
        "        ax[i].set_ylabel('Value')\n",
        "\n",
        "        for n in range(len(list_of_metrics)):\n",
        "            if i == 0:\n",
        "                y = hist[list_of_metrics[n]]\n",
        "                if n == 0:\n",
        "                    ax[i].plot(epochs, y, label=\"train\")\n",
        "                else:\n",
        "                    ax[i].plot(epochs, y, label=\"val\")\n",
        "                ax[i].set_title('Loss')\n",
        "                ax[i].legend(loc='upper right')\n",
        "                if n == 1:\n",
        "                    break\n",
        "            else:\n",
        "                if n >= 2:\n",
        "                    y = hist[list_of_metrics[n]]\n",
        "                    if n == 2:\n",
        "                        ax[i].plot(epochs, y, label=\"train\")\n",
        "                    else:\n",
        "                        ax[i].plot(epochs, y, label=\"val\")\n",
        "                    ax[i].set_title('Accuracy')\n",
        "                    ax[i].legend(loc='lower right')      \n",
        "    plt.show()                \n",
        "                            "
      ],
      "metadata": {
        "id": "8Ski1MQm1kka"
      },
      "execution_count": 5,
      "outputs": []
    },
    {
      "cell_type": "code",
      "source": [
        "def generate_text(model, tokenizer, init_sentence=\"<start>\", max_len=20):\n",
        "    # 테스트를 위해서 입력받은 init_sentence 도 일단 텐서로 변환한다.\n",
        "    test_input = tokenizer.texts_to_sequences([init_sentence])\n",
        "    test_tensor = tf.convert_to_tensor(test_input, dtype=tf.int64)\n",
        "    end_token = tokenizer.word_index[\"<end>\"]\n",
        "\n",
        "    # 텍스트를 실제로 생성할 때는 루프를 돌면서 단어 하나씩 생성해야 한다.\n",
        "    while True:\n",
        "        predict = model(test_tensor) # 입력받은 문장의 텐서를 입력한다.\n",
        "        predict_word = tf.argmax(tf.nn.softmax(predict, axis=-1), axis=-1)[:, -1] \n",
        "                                    \n",
        "                                     # 우리 모델이 예측한 마지막 단어를 입력문장의 뒤에 붙여준다.\n",
        "        test_tensor = tf.concat([test_tensor,\n",
        "        tf.expand_dims(predict_word, axis=0)], axis=-1)\n",
        "\n",
        "        # 우리 모델이 <END>를 예측했거나, max_len에 도달하지 않았다면 while 루프를 또 돌면서 다음 단어를 예측해야 한다.\n",
        "        if predict_word.numpy()[0] == end_token: break\n",
        "        if test_tensor.shape[1] >= max_len: break\n",
        "\n",
        "    generated = \"\"\n",
        "    # 생성된 tensor 안에 있는 word index를 tokenizer.indez_word 사전을 통해 실제 단어로 하나씩 변환한다.\n",
        "    for word_index in test_tensor[0].numpy():\n",
        "        generated += tokenizer.index_word[word_index] + \" \"\n",
        "\n",
        "    return generated  # 이것이 최종적으로 모델이 생성한 자연어 문장이다.    \n",
        "                                     \n"
      ],
      "metadata": {
        "id": "yEwRXYRU6Q2P"
      },
      "execution_count": 6,
      "outputs": []
    },
    {
      "cell_type": "markdown",
      "source": [
        "# Dataset"
      ],
      "metadata": {
        "id": "8PORNdK5GUjr"
      }
    },
    {
      "cell_type": "code",
      "source": [
        "txt_file_path = '/content/drive/MyDrive/aiffel/lyricist/data/lyrics/*'\n",
        "# 경로를 불러올 때 마다 실수 투성이이다. 이번에는 구글드라이브에 옮겼다가 가져온다.\n",
        "txt_list = glob.glob(txt_file_path)\n",
        "\n",
        "raw_corpus = []\n",
        "\n",
        "# 여러개의 txt 파일을 모두 읽어서 raw_corpus 에 담는다.\n",
        "\n",
        "for txt_file in txt_list:\n",
        "    with open(txt_file, \"r\") as f:\n",
        "      raw = f.read().splitlines()\n",
        "      raw_corpus.extend(raw)\n",
        "\n",
        "print(\"데이터 크기:\", len(raw_corpus))\n",
        "print(\"Examples:\\n\", raw_corpus[:3])      "
      ],
      "metadata": {
        "colab": {
          "base_uri": "https://localhost:8080/"
        },
        "id": "pVfvqqWdGdiH",
        "outputId": "2eb66929-6576-4099-a553-67a40b4b312d"
      },
      "execution_count": 7,
      "outputs": [
        {
          "output_type": "stream",
          "name": "stdout",
          "text": [
            "데이터 크기: 187088\n",
            "Examples:\n",
            " ['Looking for some education', 'Made my way into the night', 'All that bullshit conversation']\n"
          ]
        }
      ]
    },
    {
      "cell_type": "code",
      "source": [
        ""
      ],
      "metadata": {
        "id": "br3OsXjLPLym"
      },
      "execution_count": 7,
      "outputs": []
    },
    {
      "cell_type": "markdown",
      "source": [
        "# Data Preprocessing\n",
        "\n"
      ],
      "metadata": {
        "id": "B9sqRGtaPIRU"
      }
    },
    {
      "cell_type": "code",
      "source": [
        "corpus = []\n",
        "\n",
        "for sentence in raw_corpus:\n",
        "    if len(sentence) == 0: continue\n",
        "    if sentence[-1] == \":\": continue\n",
        "        \n",
        "    corpus.append(preprocess_sentence(sentence))\n",
        "        \n",
        "corpus[:10]"
      ],
      "metadata": {
        "colab": {
          "base_uri": "https://localhost:8080/"
        },
        "id": "042QW-sIPVGS",
        "outputId": "a1b481a8-467d-446d-a16b-db45b35c7206"
      },
      "execution_count": 8,
      "outputs": [
        {
          "output_type": "execute_result",
          "data": {
            "text/plain": [
              "['<start>looking for some education <end>',\n",
              " '<start>made my way into the night <end>',\n",
              " '<start>all that bullshit conversation <end>',\n",
              " '<start>baby , can t you read the signs ? i won t bore you with the details , baby <end>',\n",
              " '<start>i don t even wanna waste your time <end>',\n",
              " '<start>let s just say that maybe <end>',\n",
              " '<start>you could help me ease my mind <end>',\n",
              " '<start>i ain t mr . right but if you re looking for fast love <end>',\n",
              " '<start>if that s love in your eyes <end>',\n",
              " '<start>it s more than enough <end>']"
            ]
          },
          "metadata": {},
          "execution_count": 8
        }
      ]
    },
    {
      "cell_type": "code",
      "source": [
        "tensor, tokenizer = tokenize(corpus)"
      ],
      "metadata": {
        "colab": {
          "base_uri": "https://localhost:8080/"
        },
        "id": "IRejVUpWPpRt",
        "outputId": "a0b13b26-4325-429a-ce33-cc197fca2c32"
      },
      "execution_count": 9,
      "outputs": [
        {
          "output_type": "stream",
          "name": "stdout",
          "text": [
            "[[1248   29  111 ...    0    0    0]\n",
            " [2251   13   84 ...    0    0    0]\n",
            " [ 141   17 1225 ...    0    0    0]\n",
            " ...\n",
            " [  10   57  115 ...    0    0    0]\n",
            " [1220  811  113 ...    0    0    0]\n",
            " [  19   60   13 ...    0    0    0]] <keras_preprocessing.text.Tokenizer object at 0x7f38a35741d0>\n"
          ]
        }
      ]
    },
    {
      "cell_type": "code",
      "source": [
        "src_input = tensor[:, :-1]    # tensor에서 마지막 토큰을 잘라내서 소스 문장을 생성. 마지막 토큰은 <END>가 아니라 <pad>일 가능성이 높습다.\n",
        "tgt_input = tensor[:, 1:]     # tensor에서 <START>를 잘라내서 타겟 문장을 생성한다.\n",
        "\n",
        "print(src_input[0])\n",
        "print(tgt_input[0])"
      ],
      "metadata": {
        "colab": {
          "base_uri": "https://localhost:8080/"
        },
        "id": "HuwI7_Y7Pw7b",
        "outputId": "ab33c215-031f-45df-f42e-3b2162f3a6ee"
      },
      "execution_count": 10,
      "outputs": [
        {
          "output_type": "stream",
          "name": "stdout",
          "text": [
            "[1248   29  111 5671    2    0    0    0    0    0    0    0    0    0]\n",
            "[  29  111 5671    2    0    0    0    0    0    0    0    0    0    0]\n"
          ]
        }
      ]
    },
    {
      "cell_type": "code",
      "source": [
        "enc_train, enc_val, dec_train, dec_val = train_test_split(src_input, tgt_input, test_size=0.2, random_state=2020)"
      ],
      "metadata": {
        "id": "cbMgUs__RDVJ"
      },
      "execution_count": 11,
      "outputs": []
    },
    {
      "cell_type": "code",
      "source": [
        "BUFFER_SIZE = len(src_input)\n",
        "BATCH_SIZE = 256\n",
        "steps_per_epoch = len(src_input) // BATCH_SIZE\n",
        "\n",
        "VOCAB_SIZE = tokenizer.num_words + 1    # tokenizer가 구축한 단어사전 내 7000개와, 여기 포함되지 않은 0:<pad>를 포함하여 7001개"
      ],
      "metadata": {
        "id": "AWhKMCIaROYJ"
      },
      "execution_count": 12,
      "outputs": []
    },
    {
      "cell_type": "code",
      "source": [
        "dataset = tf.data.Dataset.from_tensor_slices((enc_train, dec_train)).shuffle(BUFFER_SIZE)\n",
        "dataset = dataset.batch(BATCH_SIZE, drop_remainder=True)\n",
        "dataset"
      ],
      "metadata": {
        "colab": {
          "base_uri": "https://localhost:8080/"
        },
        "id": "5bOkX1rJRl5Z",
        "outputId": "66d96a71-6082-48b5-e0bf-143ac10c5e06"
      },
      "execution_count": 13,
      "outputs": [
        {
          "output_type": "execute_result",
          "data": {
            "text/plain": [
              "<BatchDataset element_spec=(TensorSpec(shape=(256, 14), dtype=tf.int32, name=None), TensorSpec(shape=(256, 14), dtype=tf.int32, name=None))>"
            ]
          },
          "metadata": {},
          "execution_count": 13
        }
      ]
    },
    {
      "cell_type": "code",
      "source": [
        "val_dataset = tf.data.Dataset.from_tensor_slices((enc_val, dec_val)).shuffle(BUFFER_SIZE)\n",
        "val_dataset = val_dataset.batch(BATCH_SIZE, drop_remainder=True)\n",
        "val_dataset"
      ],
      "metadata": {
        "colab": {
          "base_uri": "https://localhost:8080/"
        },
        "id": "eO9-vvqwR0nq",
        "outputId": "d2e74983-d44f-4313-92cb-1453c644f51c"
      },
      "execution_count": 14,
      "outputs": [
        {
          "output_type": "execute_result",
          "data": {
            "text/plain": [
              "<BatchDataset element_spec=(TensorSpec(shape=(256, 14), dtype=tf.int32, name=None), TensorSpec(shape=(256, 14), dtype=tf.int32, name=None))>"
            ]
          },
          "metadata": {},
          "execution_count": 14
        }
      ]
    },
    {
      "cell_type": "markdown",
      "source": [
        "# Model"
      ],
      "metadata": {
        "id": "gkMsU973R9Yy"
      }
    },
    {
      "cell_type": "code",
      "source": [
        "class TextGenerator(tf.keras.Model):\n",
        "    def __init__(self, vocab_size, embedding_size, hidden_size):\n",
        "        super(TextGenerator, self).__init__()\n",
        "        \n",
        "        self.embedding = tf.keras.layers.Embedding(vocab_size, embedding_size)\n",
        "        self.rnn_1 = tf.keras.layers.LSTM(hidden_size, return_sequences=True)\n",
        "        self.drop1 = tf.keras.layers.Dropout(0.3)\n",
        "        self.rnn_2 = tf.keras.layers.LSTM(hidden_size, return_sequences=True)\n",
        "        self.linear = tf.keras.layers.Dense(vocab_size)\n",
        "        \n",
        "    def call(self, x):\n",
        "        out = self.embedding(x)\n",
        "        out = self.rnn_1(out)\n",
        "        out = self.drop1(out)\n",
        "        out = self.rnn_2(out)\n",
        "        out = self.linear(out)\n",
        "        \n",
        "        return out\n",
        "    \n",
        "embedding_size = 2048\n",
        "hidden_size = 2048\n",
        "model = TextGenerator(tokenizer.num_words + 1, embedding_size , hidden_size)"
      ],
      "metadata": {
        "id": "tOvn17bASEeT"
      },
      "execution_count": 15,
      "outputs": []
    },
    {
      "cell_type": "code",
      "source": [
        "for src_sample, tgt_sample in dataset.take(1): break\n",
        "model(src_sample)"
      ],
      "metadata": {
        "colab": {
          "base_uri": "https://localhost:8080/"
        },
        "id": "UmRvI_AeSM4f",
        "outputId": "81dc777a-875e-45f4-dc85-ec51e82689ac"
      },
      "execution_count": 16,
      "outputs": [
        {
          "output_type": "execute_result",
          "data": {
            "text/plain": [
              "<tf.Tensor: shape=(256, 14, 7001), dtype=float32, numpy=\n",
              "array([[[-2.36661566e-04,  6.10262505e-04, -7.91068451e-05, ...,\n",
              "          3.52213276e-04, -1.23382022e-03,  7.60795547e-06],\n",
              "        [-4.54970199e-04,  1.20507379e-03,  6.65117041e-05, ...,\n",
              "          1.15269577e-04, -1.36611809e-03,  3.33167816e-04],\n",
              "        [-1.12034869e-03,  1.15249399e-03,  5.20670146e-04, ...,\n",
              "          6.07189781e-04, -1.24874583e-03, -3.20482039e-04],\n",
              "        ...,\n",
              "        [ 9.50512534e-04, -1.60094153e-03,  8.36144015e-03, ...,\n",
              "          5.37763257e-03,  1.60840875e-03,  2.49824300e-03],\n",
              "        [ 7.83437688e-04, -2.11916445e-03,  9.02945921e-03, ...,\n",
              "          5.50457137e-03,  1.64675491e-03,  2.94811931e-03],\n",
              "        [ 5.86260983e-04, -2.57099210e-03,  9.54719540e-03, ...,\n",
              "          5.59502607e-03,  1.63452642e-03,  3.36419698e-03]],\n",
              "\n",
              "       [[-1.05119555e-03, -1.78988965e-04,  5.94347948e-04, ...,\n",
              "         -6.15678669e-04, -2.31035825e-04, -2.55611783e-04],\n",
              "        [-1.66009599e-03,  1.83445081e-04,  1.25990016e-03, ...,\n",
              "          1.86445235e-04,  4.32674233e-06, -4.34971123e-04],\n",
              "        [-2.49737105e-03,  1.21182937e-03,  1.41578773e-03, ...,\n",
              "          5.30087214e-04, -3.27385555e-04, -4.31087858e-04],\n",
              "        ...,\n",
              "        [-4.42678062e-03, -9.48307686e-04,  5.07208891e-03, ...,\n",
              "          3.42664425e-03,  2.71295779e-03, -3.49182810e-04],\n",
              "        [-4.37059952e-03, -6.11143885e-04,  4.88952361e-03, ...,\n",
              "          3.93855106e-03,  2.43782741e-03, -1.28654021e-04],\n",
              "        [-3.84779717e-03, -6.85762207e-04,  5.33544645e-03, ...,\n",
              "          4.69864439e-03,  2.43126974e-03,  3.43063439e-04]],\n",
              "\n",
              "       [[-8.91155505e-04,  2.17114677e-04,  2.23434792e-04, ...,\n",
              "          3.89693538e-04, -1.67382997e-04, -6.75948968e-06],\n",
              "        [-1.42779562e-03,  1.62152777e-04,  9.20185528e-04, ...,\n",
              "          1.31778675e-03, -2.80021020e-04, -2.88725947e-04],\n",
              "        [-1.30757433e-03, -4.16004012e-04,  1.85098418e-03, ...,\n",
              "          1.47833757e-03, -1.29141903e-04, -3.87006701e-04],\n",
              "        ...,\n",
              "        [ 4.22660669e-04, -3.43986740e-03,  8.63004476e-03, ...,\n",
              "          4.25810646e-03,  1.04037800e-03,  1.51636545e-03],\n",
              "        [ 2.91022909e-04, -3.67145380e-03,  9.10986308e-03, ...,\n",
              "          4.43540467e-03,  1.00149319e-03,  2.03387742e-03],\n",
              "        [ 1.46630133e-04, -3.86267575e-03,  9.48271714e-03, ...,\n",
              "          4.58410243e-03,  9.27631219e-04,  2.52948818e-03]],\n",
              "\n",
              "       ...,\n",
              "\n",
              "       [[ 8.12045066e-04, -3.51545968e-05, -9.75227216e-04, ...,\n",
              "         -2.95426762e-05, -2.90992612e-04,  1.68158382e-04],\n",
              "        [ 1.68281374e-03, -8.82736786e-05, -1.88105216e-03, ...,\n",
              "          1.79805211e-04, -9.99494921e-04, -5.15656022e-04],\n",
              "        [ 1.71512028e-03,  1.13546004e-04, -2.44821236e-03, ...,\n",
              "          5.41981659e-04, -1.66008447e-03, -5.52981161e-04],\n",
              "        ...,\n",
              "        [ 1.06080854e-03, -2.45388900e-03,  5.34533709e-03, ...,\n",
              "          5.05975401e-03, -9.32551047e-04,  2.32004328e-03],\n",
              "        [ 7.97010958e-04, -2.80611310e-03,  6.33236067e-03, ...,\n",
              "          5.13570942e-03, -6.09121460e-04,  2.78055971e-03],\n",
              "        [ 5.40952838e-04, -3.10716731e-03,  7.15425424e-03, ...,\n",
              "          5.18789934e-03, -3.46999441e-04,  3.20314080e-03]],\n",
              "\n",
              "       [[-5.93375764e-04, -5.66763978e-04, -1.56905240e-04, ...,\n",
              "          9.81317135e-04,  3.22644191e-04, -1.41109209e-04],\n",
              "        [-1.08163804e-03, -4.52546723e-04, -8.35492101e-04, ...,\n",
              "          1.59795873e-03,  3.35002725e-04,  5.31076876e-05],\n",
              "        [-2.28774152e-03, -3.24990891e-04, -9.66261374e-04, ...,\n",
              "          1.20258669e-03,  5.28287550e-04, -5.07940131e-04],\n",
              "        ...,\n",
              "        [-3.10466136e-03, -1.67226058e-03,  1.04089454e-03, ...,\n",
              "          3.62221291e-03,  9.27171961e-04, -1.63535250e-03],\n",
              "        [-2.57322681e-03, -2.41426541e-03,  2.50099087e-03, ...,\n",
              "          4.27953759e-03,  1.11921923e-03, -1.11519988e-03],\n",
              "        [-2.11479305e-03, -3.01508652e-03,  3.88162327e-03, ...,\n",
              "          4.75128880e-03,  1.25035958e-03, -5.63161564e-04]],\n",
              "\n",
              "       [[ 3.14421661e-04, -4.42144112e-04, -6.89013279e-04, ...,\n",
              "         -1.07620137e-04, -1.29893902e-04, -3.82305880e-04],\n",
              "        [ 3.25778528e-04, -4.67567123e-04, -1.60983822e-03, ...,\n",
              "          1.28259577e-04, -2.45909148e-04, -1.57868199e-04],\n",
              "        [-1.45109414e-04, -1.67117582e-03, -2.13142601e-03, ...,\n",
              "         -2.06243756e-04, -1.40562374e-03,  1.75785623e-04],\n",
              "        ...,\n",
              "        [-3.15877446e-03,  2.03525275e-03, -2.52539362e-03, ...,\n",
              "          1.90855388e-03, -2.47707183e-04, -2.14667199e-03],\n",
              "        [-2.72816955e-03,  1.94925745e-03, -2.78391433e-03, ...,\n",
              "          2.56613898e-03, -6.34682423e-04, -2.32499442e-03],\n",
              "        [-2.04350101e-03,  1.32503593e-03, -2.26310804e-03, ...,\n",
              "          3.50376894e-03, -4.97876608e-04, -2.25956505e-03]]],\n",
              "      dtype=float32)>"
            ]
          },
          "metadata": {},
          "execution_count": 16
        }
      ]
    },
    {
      "cell_type": "code",
      "source": [
        "model.summary()"
      ],
      "metadata": {
        "colab": {
          "base_uri": "https://localhost:8080/"
        },
        "id": "Z-e8F4tzSkVa",
        "outputId": "d2fb149a-51e6-4fe7-b7ee-dfb060b3fbae"
      },
      "execution_count": 17,
      "outputs": [
        {
          "output_type": "stream",
          "name": "stdout",
          "text": [
            "Model: \"text_generator\"\n",
            "_________________________________________________________________\n",
            " Layer (type)                Output Shape              Param #   \n",
            "=================================================================\n",
            " embedding (Embedding)       multiple                  14338048  \n",
            "                                                                 \n",
            " lstm (LSTM)                 multiple                  33562624  \n",
            "                                                                 \n",
            " dropout (Dropout)           multiple                  0         \n",
            "                                                                 \n",
            " lstm_1 (LSTM)               multiple                  33562624  \n",
            "                                                                 \n",
            " dense (Dense)               multiple                  14345049  \n",
            "                                                                 \n",
            "=================================================================\n",
            "Total params: 95,808,345\n",
            "Trainable params: 95,808,345\n",
            "Non-trainable params: 0\n",
            "_________________________________________________________________\n"
          ]
        }
      ]
    },
    {
      "cell_type": "markdown",
      "source": [
        "# Train"
      ],
      "metadata": {
        "id": "6jOpzWusSqZk"
      }
    },
    {
      "cell_type": "code",
      "source": [
        "\n",
        "optimizer = tf.keras.optimizers.Adam(learning_rate=0.001)\n",
        "loss = tf.keras.losses.SparseCategoricalCrossentropy(\n",
        "    from_logits=True,\n",
        "    reduction='none'\n",
        ")\n",
        "\n",
        "model.compile(loss=loss, optimizer=optimizer, metrics=['accuracy'])"
      ],
      "metadata": {
        "id": "FtC62IrwSulY"
      },
      "execution_count": 18,
      "outputs": []
    },
    {
      "cell_type": "code",
      "source": [
        "history = model.fit(dataset,\n",
        "          epochs=7,\n",
        "          validation_data=val_dataset,\n",
        "          verbose=1)  # 함수 인자로 verbose--> 함수 수행시 발생하는 상세한 정보들을 표준출력으로 자세히  내보냄.\n",
        "                      # 보통 0은 출력하지 않고, 1은 자세히, 2는 함축적인 정보만 출력."
      ],
      "metadata": {
        "colab": {
          "base_uri": "https://localhost:8080/"
        },
        "id": "Q7_XRVvdS4K5",
        "outputId": "e85bfb3e-9b7f-4193-97d4-21d6dc292c4c"
      },
      "execution_count": 19,
      "outputs": [
        {
          "output_type": "stream",
          "name": "stdout",
          "text": [
            "Epoch 1/7\n",
            "549/549 [==============================] - 156s 280ms/step - loss: 2.9034 - accuracy: 0.5334 - val_loss: 2.5158 - val_accuracy: 0.5655\n",
            "Epoch 2/7\n",
            "549/549 [==============================] - 153s 279ms/step - loss: 2.3389 - accuracy: 0.5814 - val_loss: 2.2403 - val_accuracy: 0.5961\n",
            "Epoch 3/7\n",
            "549/549 [==============================] - 153s 279ms/step - loss: 2.0007 - accuracy: 0.6182 - val_loss: 2.0703 - val_accuracy: 0.6222\n",
            "Epoch 4/7\n",
            "549/549 [==============================] - 154s 279ms/step - loss: 1.6907 - accuracy: 0.6596 - val_loss: 1.9554 - val_accuracy: 0.6442\n",
            "Epoch 5/7\n",
            "549/549 [==============================] - 153s 279ms/step - loss: 1.4182 - accuracy: 0.7029 - val_loss: 1.8799 - val_accuracy: 0.6633\n",
            "Epoch 6/7\n",
            "549/549 [==============================] - 153s 279ms/step - loss: 1.1933 - accuracy: 0.7431 - val_loss: 1.8436 - val_accuracy: 0.6790\n",
            "Epoch 7/7\n",
            "549/549 [==============================] - 154s 280ms/step - loss: 1.0185 - accuracy: 0.7770 - val_loss: 1.8342 - val_accuracy: 0.6900\n"
          ]
        }
      ]
    },
    {
      "cell_type": "code",
      "source": [
        "plot_curve(history.epoch, history.history, ['loss', 'val_loss', 'accuracy', 'val_accuracy'])"
      ],
      "metadata": {
        "colab": {
          "base_uri": "https://localhost:8080/",
          "height": 458
        },
        "id": "3AcsCgTrspQG",
        "outputId": "281fd5ab-b37b-4052-9346-b77899c6a1da"
      },
      "execution_count": 20,
      "outputs": [
        {
          "output_type": "display_data",
          "data": {
            "text/plain": [
              "<Figure size 864x576 with 2 Axes>"
            ],
            "image/png": "[encoded data removed]"
          },
          "metadata": {
            "needs_background": "light"
          }
        }
      ]
    },
    {
      "cell_type": "markdown",
      "source": [
        "# Generate lyrics(가사 생성기?) "
      ],
      "metadata": {
        "id": "oqOfQbeC4YWS"
      }
    },
    {
      "cell_type": "code",
      "source": [
        "generate_text(model, tokenizer, init_sentence=\"<start> i love\", max_len=20)"
      ],
      "metadata": {
        "colab": {
          "base_uri": "https://localhost:8080/",
          "height": 35
        },
        "id": "VNCQHKwA47CS",
        "outputId": "2b6e1f4a-65ac-4423-9140-97ec0af52d94"
      },
      "execution_count": 21,
      "outputs": [
        {
          "output_type": "execute_result",
          "data": {
            "text/plain": [
              "'<start> i love you , i need you <end> '"
            ],
            "application/vnd.google.colaboratory.intrinsic+json": {
              "type": "string"
            }
          },
          "metadata": {},
          "execution_count": 21
        }
      ]
    },
    {
      "cell_type": "code",
      "source": [
        "generate_text(model, tokenizer, init_sentence=\"<start> i am\", max_len=20)"
      ],
      "metadata": {
        "colab": {
          "base_uri": "https://localhost:8080/",
          "height": 35
        },
        "id": "NC8navD_5FLq",
        "outputId": "068de902-63bc-419f-d0e3-638580fce894"
      },
      "execution_count": 22,
      "outputs": [
        {
          "output_type": "execute_result",
          "data": {
            "text/plain": [
              "'<start> i am not a man , <end> '"
            ],
            "application/vnd.google.colaboratory.intrinsic+json": {
              "type": "string"
            }
          },
          "metadata": {},
          "execution_count": 22
        }
      ]
    },
    {
      "cell_type": "markdown",
      "source": [
        "# Report"
      ],
      "metadata": {
        "id": "HBEP8f4C5Knx"
      }
    },
    {
      "cell_type": "markdown",
      "source": [
        "Model\n",
        "LSTM layer 사이에 Dropout(0.3)을 적용하였습니다.\n",
        "\n",
        "embedding_size, hidden_size를 각각 다음과 같이 설정하였습니다.\n",
        "\n",
        "embedding_size = 2048, hidden_size = 2048"
      ],
      "metadata": {
        "id": "xsI6K1mU5PIZ"
      }
    },
    {
      "cell_type": "markdown",
      "source": [
        "나는 그냥 똑같이 따라서 배끼려고 했다.\n",
        "그것도 어려웠다. 내 눈에는 진짜 똑 같은데, 돌아가지 않고 에러, 에러, 에러.\n",
        "\n"
      ],
      "metadata": {
        "id": "oiqlopp45T_m"
      }
    },
    {
      "cell_type": "markdown",
      "source": [
        "내가 코드를 그대로 따라 치려고 했던 이분의 Report에는 \n",
        "\n",
        "***'최종적으로 val_loss를 2.1772을 얻었습니다.'::::***\n",
        "\n",
        "라고 한다.\n",
        "\n",
        "나는 무엇을 얻었나?\n",
        "\n",
        "생각하고, 예측하고, 컴퓨터에게 맡기기 전에 미리 문제해결 방법을 꿰뚫어 보아야 한다는 것?\n",
        "\n",
        "가까워 질수록 서먹서먹해 지는 인공지능과의 관계. . .\n",
        "\n",
        "한 발 가까이, 오늘도 간다.\n",
        "\n",
        "이 작업을 능숙하게, 고민하며, 결국 해 내고 나서 기뻐하는 분들을 본다. 앞으로가 기대된다. 나도 내일 한 발 더 나가면, 내 힘으로 작업을 끝내고 다른 사람도 도울 수 있으려나.. .\n",
        "\n",
        "\n"
      ],
      "metadata": {
        "id": "8ksrCMQP55ld"
      }
    },
    {
      "cell_type": "markdown",
      "source": [
        "[링크 텍스트](https://github.com/JaeHeee/AIFFEL_Project/blob/master/EXPLORATION/EXPLORATION%2011.%20%EC%9E%91%EC%82%AC%EA%B0%80%20%EC%9D%B8%EA%B3%B5%EC%A7%80%EB%8A%A5%20%EB%A7%8C%EB%93%A4%EA%B8%B0.ipynb)"
      ],
      "metadata": {
        "id": "Z94RRoNQn1tx"
      }
    }
  ]
}