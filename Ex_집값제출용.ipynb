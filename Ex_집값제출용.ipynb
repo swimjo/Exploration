{
  "nbformat": 4,
  "nbformat_minor": 0,
  "metadata": {
    "colab": {
      "name": "Ex.  .  집값제출용",
      "provenance": [],
      "collapsed_sections": []
    },
    "kernelspec": {
      "name": "python3",
      "display_name": "Python 3"
    },
    "language_info": {
      "name": "python"
    }
  },
  "cells": [
    {
      "cell_type": "markdown",
      "source": [
        ""
      ],
      "metadata": {
        "id": "MINBX4YfuAt0"
      }
    },
    {
      "cell_type": "markdown",
      "source": [
        "# 미리 쓰는 회고 - 각오\n"
      ],
      "metadata": {
        "id": "y54HggEeuDk0"
      }
    },
    {
      "cell_type": "markdown",
      "source": [
        "영문도 모르고 필사한다. 코드는 따라친다.\n",
        "오늘은 제출한다. "
      ],
      "metadata": {
        "id": "OjRG4CoAuJ0d"
      }
    },
    {
      "cell_type": "markdown",
      "source": [
        "# 집 값 예측"
      ],
      "metadata": {
        "id": "LstCI3sIucX4"
      }
    },
    {
      "cell_type": "code",
      "execution_count": 28,
      "metadata": {
        "id": "OXbxerLLtuLT"
      },
      "outputs": [],
      "source": [
        "import warnings\n",
        "warnings.filterwarnings(\"ignore\")\n",
        "\n",
        "import os\n",
        "from os.path import join\n",
        "\n",
        "import pandas as pd #데이퍼프레임 관리 툴\n",
        "import numpy as np  # array 배열 툴\n",
        "\n",
        "import missingno as msno\n",
        "\n",
        "from sklearn. ensemble import GradientBoostingRegressor\n",
        "from sklearn. model_selection import KFold, cross_val_score\n",
        "import xgboost as xgb\n",
        "import lightgbm as lgb\n",
        "\n",
        "import matplotlib.pyplot as plt #시각화 툴\n",
        "import seaborn as sns  # 고급 시각화 툴\n"
      ]
    },
    {
      "cell_type": "code",
      "source": [
        "train = pd.read_csv('/content/train.csv') # 데이터 불러오기\n",
        "test = pd.read_csv('/content/test.csv') #데이터 불러오는데 며칠이 걸린다. 그래도 다시 불러온다.데이터 불러와야 코딩을 하지!!"
      ],
      "metadata": {
        "id": "s4HuV9ImwGR3"
      },
      "execution_count": 29,
      "outputs": []
    },
    {
      "cell_type": "markdown",
      "source": [
        "# Category"
      ],
      "metadata": {
        "id": "J2HwccFn3gzi"
      }
    },
    {
      "cell_type": "markdown",
      "source": [
        "1. ID : 집을 구분하는 번호\n",
        "2. date : 집을 구매한 날짜\n",
        "3. price : 타겟 변수인 집의 가격\n",
        "4. bedrooms : 침실의 수\n",
        "5. bathrooms : 침실당 화장실 개수\n",
        "6. sqft_living : 주거 공간의 평방 피트\n",
        "7. sqft_lot : 부지의 평방 피트\n",
        "8. floors : 집의 충수\n",
        "9. waterfront: 집의 전방에 강이 흐르는지 유무\n",
        "10. view : 집이 얼마나 좋아 보이는지의 정도\n",
        "11. condition : 집의 전반적인 상태\n",
        "12. grade : King County grading 시스템 기준의 집의 등급\n",
        "13. sqft_above : 지하실을 제외한 평방 피트\n",
        "14. sqft_basement : 지하실의 평방피트\n",
        "15. yr_built : 집을 지은 년도\n",
        "16. yr_renovated : 집을 재건축한 년도\n",
        "17. zipcode : 우편번호\n",
        "18. lat : 위도\n",
        "19. long : 경도\n",
        "20. sqft_living15 : 근처 15 가구의 주거공간, 평방 피트\n",
        "21. sqft_lot15 : 근처 15가구의 부지, 평방 피트\n",
        " "
      ],
      "metadata": {
        "id": "LWTbzWjG4A81"
      }
    },
    {
      "cell_type": "code",
      "source": [
        "train.head() # data feature 들을 확인\n"
      ],
      "metadata": {
        "id": "26fC5uJd-aty",
        "colab": {
          "base_uri": "https://localhost:8080/",
          "height": 300
        },
        "outputId": "c20f38d3-c50e-495c-895e-de7fe305feaa"
      },
      "execution_count": 30,
      "outputs": [
        {
          "output_type": "execute_result",
          "data": {
            "text/plain": [
              "   id             date     price  bedrooms  bathrooms  sqft_living  sqft_lot  \\\n",
              "0   0  20141013T000000  221900.0         3       1.00         1180      5650   \n",
              "1   1  20150225T000000  180000.0         2       1.00          770     10000   \n",
              "2   2  20150218T000000  510000.0         3       2.00         1680      8080   \n",
              "3   3  20140627T000000  257500.0         3       2.25         1715      6819   \n",
              "4   4  20150115T000000  291850.0         3       1.50         1060      9711   \n",
              "\n",
              "   floors  waterfront  view  ...  grade  sqft_above  sqft_basement  yr_built  \\\n",
              "0     1.0           0     0  ...      7        1180              0      1955   \n",
              "1     1.0           0     0  ...      6         770              0      1933   \n",
              "2     1.0           0     0  ...      8        1680              0      1987   \n",
              "3     2.0           0     0  ...      7        1715              0      1995   \n",
              "4     1.0           0     0  ...      7        1060              0      1963   \n",
              "\n",
              "   yr_renovated  zipcode      lat     long  sqft_living15  sqft_lot15  \n",
              "0             0    98178  47.5112 -122.257           1340        5650  \n",
              "1             0    98028  47.7379 -122.233           2720        8062  \n",
              "2             0    98074  47.6168 -122.045           1800        7503  \n",
              "3             0    98003  47.3097 -122.327           2238        6819  \n",
              "4             0    98198  47.4095 -122.315           1650        9711  \n",
              "\n",
              "[5 rows x 21 columns]"
            ],
            "text/html": [
              "\n",
              "  <div id=\"df-88bc642e-4b4a-40e4-a45d-44226f2a38cd\">\n",
              "    <div class=\"colab-df-container\">\n",
              "      <div>\n",
              "<style scoped>\n",
              "    .dataframe tbody tr th:only-of-type {\n",
              "        vertical-align: middle;\n",
              "    }\n",
              "\n",
              "    .dataframe tbody tr th {\n",
              "        vertical-align: top;\n",
              "    }\n",
              "\n",
              "    .dataframe thead th {\n",
              "        text-align: right;\n",
              "    }\n",
              "</style>\n",
              "<table border=\"1\" class=\"dataframe\">\n",
              "  <thead>\n",
              "    <tr style=\"text-align: right;\">\n",
              "      <th></th>\n",
              "      <th>id</th>\n",
              "      <th>date</th>\n",
              "      <th>price</th>\n",
              "      <th>bedrooms</th>\n",
              "      <th>bathrooms</th>\n",
              "      <th>sqft_living</th>\n",
              "      <th>sqft_lot</th>\n",
              "      <th>floors</th>\n",
              "      <th>waterfront</th>\n",
              "      <th>view</th>\n",
              "      <th>...</th>\n",
              "      <th>grade</th>\n",
              "      <th>sqft_above</th>\n",
              "      <th>sqft_basement</th>\n",
              "      <th>yr_built</th>\n",
              "      <th>yr_renovated</th>\n",
              "      <th>zipcode</th>\n",
              "      <th>lat</th>\n",
              "      <th>long</th>\n",
              "      <th>sqft_living15</th>\n",
              "      <th>sqft_lot15</th>\n",
              "    </tr>\n",
              "  </thead>\n",
              "  <tbody>\n",
              "    <tr>\n",
              "      <th>0</th>\n",
              "      <td>0</td>\n",
              "      <td>20141013T000000</td>\n",
              "      <td>221900.0</td>\n",
              "      <td>3</td>\n",
              "      <td>1.00</td>\n",
              "      <td>1180</td>\n",
              "      <td>5650</td>\n",
              "      <td>1.0</td>\n",
              "      <td>0</td>\n",
              "      <td>0</td>\n",
              "      <td>...</td>\n",
              "      <td>7</td>\n",
              "      <td>1180</td>\n",
              "      <td>0</td>\n",
              "      <td>1955</td>\n",
              "      <td>0</td>\n",
              "      <td>98178</td>\n",
              "      <td>47.5112</td>\n",
              "      <td>-122.257</td>\n",
              "      <td>1340</td>\n",
              "      <td>5650</td>\n",
              "    </tr>\n",
              "    <tr>\n",
              "      <th>1</th>\n",
              "      <td>1</td>\n",
              "      <td>20150225T000000</td>\n",
              "      <td>180000.0</td>\n",
              "      <td>2</td>\n",
              "      <td>1.00</td>\n",
              "      <td>770</td>\n",
              "      <td>10000</td>\n",
              "      <td>1.0</td>\n",
              "      <td>0</td>\n",
              "      <td>0</td>\n",
              "      <td>...</td>\n",
              "      <td>6</td>\n",
              "      <td>770</td>\n",
              "      <td>0</td>\n",
              "      <td>1933</td>\n",
              "      <td>0</td>\n",
              "      <td>98028</td>\n",
              "      <td>47.7379</td>\n",
              "      <td>-122.233</td>\n",
              "      <td>2720</td>\n",
              "      <td>8062</td>\n",
              "    </tr>\n",
              "    <tr>\n",
              "      <th>2</th>\n",
              "      <td>2</td>\n",
              "      <td>20150218T000000</td>\n",
              "      <td>510000.0</td>\n",
              "      <td>3</td>\n",
              "      <td>2.00</td>\n",
              "      <td>1680</td>\n",
              "      <td>8080</td>\n",
              "      <td>1.0</td>\n",
              "      <td>0</td>\n",
              "      <td>0</td>\n",
              "      <td>...</td>\n",
              "      <td>8</td>\n",
              "      <td>1680</td>\n",
              "      <td>0</td>\n",
              "      <td>1987</td>\n",
              "      <td>0</td>\n",
              "      <td>98074</td>\n",
              "      <td>47.6168</td>\n",
              "      <td>-122.045</td>\n",
              "      <td>1800</td>\n",
              "      <td>7503</td>\n",
              "    </tr>\n",
              "    <tr>\n",
              "      <th>3</th>\n",
              "      <td>3</td>\n",
              "      <td>20140627T000000</td>\n",
              "      <td>257500.0</td>\n",
              "      <td>3</td>\n",
              "      <td>2.25</td>\n",
              "      <td>1715</td>\n",
              "      <td>6819</td>\n",
              "      <td>2.0</td>\n",
              "      <td>0</td>\n",
              "      <td>0</td>\n",
              "      <td>...</td>\n",
              "      <td>7</td>\n",
              "      <td>1715</td>\n",
              "      <td>0</td>\n",
              "      <td>1995</td>\n",
              "      <td>0</td>\n",
              "      <td>98003</td>\n",
              "      <td>47.3097</td>\n",
              "      <td>-122.327</td>\n",
              "      <td>2238</td>\n",
              "      <td>6819</td>\n",
              "    </tr>\n",
              "    <tr>\n",
              "      <th>4</th>\n",
              "      <td>4</td>\n",
              "      <td>20150115T000000</td>\n",
              "      <td>291850.0</td>\n",
              "      <td>3</td>\n",
              "      <td>1.50</td>\n",
              "      <td>1060</td>\n",
              "      <td>9711</td>\n",
              "      <td>1.0</td>\n",
              "      <td>0</td>\n",
              "      <td>0</td>\n",
              "      <td>...</td>\n",
              "      <td>7</td>\n",
              "      <td>1060</td>\n",
              "      <td>0</td>\n",
              "      <td>1963</td>\n",
              "      <td>0</td>\n",
              "      <td>98198</td>\n",
              "      <td>47.4095</td>\n",
              "      <td>-122.315</td>\n",
              "      <td>1650</td>\n",
              "      <td>9711</td>\n",
              "    </tr>\n",
              "  </tbody>\n",
              "</table>\n",
              "<p>5 rows × 21 columns</p>\n",
              "</div>\n",
              "      <button class=\"colab-df-convert\" onclick=\"convertToInteractive('df-88bc642e-4b4a-40e4-a45d-44226f2a38cd')\"\n",
              "              title=\"Convert this dataframe to an interactive table.\"\n",
              "              style=\"display:none;\">\n",
              "        \n",
              "  <svg xmlns=\"http://www.w3.org/2000/svg\" height=\"24px\"viewBox=\"0 0 24 24\"\n",
              "       width=\"24px\">\n",
              "    <path d=\"M0 0h24v24H0V0z\" fill=\"none\"/>\n",
              "    <path d=\"M18.56 5.44l.94 2.06.94-2.06 2.06-.94-2.06-.94-.94-2.06-.94 2.06-2.06.94zm-11 1L8.5 8.5l.94-2.06 2.06-.94-2.06-.94L8.5 2.5l-.94 2.06-2.06.94zm10 10l.94 2.06.94-2.06 2.06-.94-2.06-.94-.94-2.06-.94 2.06-2.06.94z\"/><path d=\"M17.41 7.96l-1.37-1.37c-.4-.4-.92-.59-1.43-.59-.52 0-1.04.2-1.43.59L10.3 9.45l-7.72 7.72c-.78.78-.78 2.05 0 2.83L4 21.41c.39.39.9.59 1.41.59.51 0 1.02-.2 1.41-.59l7.78-7.78 2.81-2.81c.8-.78.8-2.07 0-2.86zM5.41 20L4 18.59l7.72-7.72 1.47 1.35L5.41 20z\"/>\n",
              "  </svg>\n",
              "      </button>\n",
              "      \n",
              "  <style>\n",
              "    .colab-df-container {\n",
              "      display:flex;\n",
              "      flex-wrap:wrap;\n",
              "      gap: 12px;\n",
              "    }\n",
              "\n",
              "    .colab-df-convert {\n",
              "      background-color: #E8F0FE;\n",
              "      border: none;\n",
              "      border-radius: 50%;\n",
              "      cursor: pointer;\n",
              "      display: none;\n",
              "      fill: #1967D2;\n",
              "      height: 32px;\n",
              "      padding: 0 0 0 0;\n",
              "      width: 32px;\n",
              "    }\n",
              "\n",
              "    .colab-df-convert:hover {\n",
              "      background-color: #E2EBFA;\n",
              "      box-shadow: 0px 1px 2px rgba(60, 64, 67, 0.3), 0px 1px 3px 1px rgba(60, 64, 67, 0.15);\n",
              "      fill: #174EA6;\n",
              "    }\n",
              "\n",
              "    [theme=dark] .colab-df-convert {\n",
              "      background-color: #3B4455;\n",
              "      fill: #D2E3FC;\n",
              "    }\n",
              "\n",
              "    [theme=dark] .colab-df-convert:hover {\n",
              "      background-color: #434B5C;\n",
              "      box-shadow: 0px 1px 3px 1px rgba(0, 0, 0, 0.15);\n",
              "      filter: drop-shadow(0px 1px 2px rgba(0, 0, 0, 0.3));\n",
              "      fill: #FFFFFF;\n",
              "    }\n",
              "  </style>\n",
              "\n",
              "      <script>\n",
              "        const buttonEl =\n",
              "          document.querySelector('#df-88bc642e-4b4a-40e4-a45d-44226f2a38cd button.colab-df-convert');\n",
              "        buttonEl.style.display =\n",
              "          google.colab.kernel.accessAllowed ? 'block' : 'none';\n",
              "\n",
              "        async function convertToInteractive(key) {\n",
              "          const element = document.querySelector('#df-88bc642e-4b4a-40e4-a45d-44226f2a38cd');\n",
              "          const dataTable =\n",
              "            await google.colab.kernel.invokeFunction('convertToInteractive',\n",
              "                                                     [key], {});\n",
              "          if (!dataTable) return;\n",
              "\n",
              "          const docLinkHtml = 'Like what you see? Visit the ' +\n",
              "            '<a target=\"_blank\" href=https://colab.research.google.com/notebooks/data_table.ipynb>data table notebook</a>'\n",
              "            + ' to learn more about interactive tables.';\n",
              "          element.innerHTML = '';\n",
              "          dataTable['output_type'] = 'display_data';\n",
              "          await google.colab.output.renderOutput(dataTable, element);\n",
              "          const docLink = document.createElement('div');\n",
              "          docLink.innerHTML = docLinkHtml;\n",
              "          element.appendChild(docLink);\n",
              "        }\n",
              "      </script>\n",
              "    </div>\n",
              "  </div>\n",
              "  "
            ]
          },
          "metadata": {},
          "execution_count": 30
        }
      ]
    },
    {
      "cell_type": "code",
      "source": [
        "msno.matrix(train) # 널 값 확인"
      ],
      "metadata": {
        "id": "XdUAxG7c_GOR",
        "colab": {
          "base_uri": "https://localhost:8080/",
          "height": 317
        },
        "outputId": "c845cb59-4e8d-4244-93f5-fe7e2068eda5"
      },
      "execution_count": 31,
      "outputs": [
        {
          "output_type": "execute_result",
          "data": {
            "text/plain": [
              "<matplotlib.axes._subplots.AxesSubplot at 0x7f3c266fc990>"
            ]
          },
          "metadata": {},
          "execution_count": 31
        },
        {
          "output_type": "display_data",
          "data": {
            "text/plain": [
              "<Figure size 1800x720 with 2 Axes>"
            ],
            "image/png": "[encoded data removed]"
          },
          "metadata": {
            "needs_background": "light"
          }
        }
      ]
    },
    {
      "cell_type": "code",
      "source": [
        "train.isnull().sum().sum()"
      ],
      "metadata": {
        "id": "rOOo1iFR_Rsi",
        "colab": {
          "base_uri": "https://localhost:8080/"
        },
        "outputId": "bfa579af-6c5c-4e13-a035-9f984b283f23"
      },
      "execution_count": 32,
      "outputs": [
        {
          "output_type": "execute_result",
          "data": {
            "text/plain": [
              "0"
            ]
          },
          "metadata": {},
          "execution_count": 32
        }
      ]
    },
    {
      "cell_type": "markdown",
      "source": [
        "yr_renovated, yr_built는 view로 대체 가능하기 때문에 필요 없어 보인다.- 명찬님\n",
        "ID 정보는 엄청나게 필요해 보이진 않는다. date 집을 구매한 정보다 필요 없어 보인다.zip code, lat, long 이 비슷한 걸로 보아, 같은 동네인 것을 알 수 있다. 같은 동네라고 가정한다면,집 값에 영향을 주지 않는다."
      ],
      "metadata": {
        "id": "iufO-UXGAEDK"
      }
    },
    {
      "cell_type": "code",
      "source": [
        "train.columns"
      ],
      "metadata": {
        "colab": {
          "base_uri": "https://localhost:8080/"
        },
        "id": "XFuOhKkt-jZ7",
        "outputId": "d972a545-b5c2-4ca5-85cf-b2ebf8884558"
      },
      "execution_count": 34,
      "outputs": [
        {
          "output_type": "execute_result",
          "data": {
            "text/plain": [
              "Index(['id', 'date', 'price', 'bedrooms', 'bathrooms', 'sqft_living',\n",
              "       'sqft_lot', 'floors', 'waterfront', 'view', 'condition', 'grade',\n",
              "       'sqft_above', 'sqft_basement', 'yr_built', 'yr_renovated', 'zipcode',\n",
              "       'lat', 'long', 'sqft_living15', 'sqft_lot15'],\n",
              "      dtype='object')"
            ]
          },
          "metadata": {},
          "execution_count": 34
        }
      ]
    },
    {
      "cell_type": "code",
      "source": [
        "train.drop(['id','date', 'yr_built', 'yr_renovated', 'zipcode','lat', 'long'],axis=1,inplace=True)"
      ],
      "metadata": {
        "id": "Y5dpFzW_-0x0"
      },
      "execution_count": 35,
      "outputs": []
    },
    {
      "cell_type": "code",
      "source": [
        "test.drop(['id','date', 'yr_built', 'yr_renovated', 'zipcode','lat', 'long'],axis=1,inplace=True)"
      ],
      "metadata": {
        "id": "e_TLrm9F_-a3"
      },
      "execution_count": 37,
      "outputs": []
    },
    {
      "cell_type": "code",
      "source": [
        "y = train['price']\n",
        "train.drop(['price'],axis=1,inplace=True)"
      ],
      "metadata": {
        "id": "tQmptxjhA0xc"
      },
      "execution_count": 46,
      "outputs": []
    },
    {
      "cell_type": "code",
      "source": [
        "from sklearn.model_selection import train_test_split\n",
        "\n",
        "X_train, X_test, y_train, y_test = train_test_split(train, y, test_size = 0.2, random_state=42)\n",
        "print(X_train.shape, y_train.shape)\n",
        "print(X_test.shape, y_test.shape)"
      ],
      "metadata": {
        "id": "o1P2OhgoGPJD",
        "colab": {
          "base_uri": "https://localhost:8080/"
        },
        "outputId": "c30ba0a2-0eb7-41d3-d586-8e64bdb0e5e5"
      },
      "execution_count": 48,
      "outputs": [
        {
          "output_type": "stream",
          "name": "stdout",
          "text": [
            "(12028, 13) (12028,)\n",
            "(3007, 13) (3007,)\n"
          ]
        }
      ]
    },
    {
      "cell_type": "markdown",
      "source": [
        "# 선형회귀"
      ],
      "metadata": {
        "id": "3j4lIDKcIemn"
      }
    },
    {
      "cell_type": "code",
      "source": [
        "from sklearn.linear_model import LinearRegression\n",
        "model = LinearRegression()"
      ],
      "metadata": {
        "id": "yIshRTB_IcSR"
      },
      "execution_count": 49,
      "outputs": []
    },
    {
      "cell_type": "code",
      "source": [
        "model.fit(X_train, y_train)"
      ],
      "metadata": {
        "id": "CiuYUmzSL4Eh",
        "colab": {
          "base_uri": "https://localhost:8080/"
        },
        "outputId": "b36f904d-4cf6-4120-8bac-126fb79cab0d"
      },
      "execution_count": 50,
      "outputs": [
        {
          "output_type": "execute_result",
          "data": {
            "text/plain": [
              "LinearRegression()"
            ]
          },
          "metadata": {},
          "execution_count": 50
        }
      ]
    },
    {
      "cell_type": "code",
      "source": [
        "prediction = model.predict(X_test)\n",
        "prediction"
      ],
      "metadata": {
        "id": "_C9fkyapMAtU",
        "colab": {
          "base_uri": "https://localhost:8080/"
        },
        "outputId": "3f0289c6-d248-4eaf-ffd4-d7de3fd73ac7"
      },
      "execution_count": 52,
      "outputs": [
        {
          "output_type": "execute_result",
          "data": {
            "text/plain": [
              "array([424716.82034986, 435460.2404179 , 320670.62517062, ...,\n",
              "       298879.32029946, 500593.78408729, 354256.98302211])"
            ]
          },
          "metadata": {},
          "execution_count": 52
        }
      ]
    },
    {
      "cell_type": "code",
      "source": [
        "from sklearn.metrics import mean_squared_error\n",
        "\n",
        "mse = mean_squared_error(y_test, prediction)\n",
        "mse"
      ],
      "metadata": {
        "id": "ED2uCSspNQt6",
        "colab": {
          "base_uri": "https://localhost:8080/"
        },
        "outputId": "cb33aa3a-4cf3-4e45-b3bd-48705bed1809"
      },
      "execution_count": 55,
      "outputs": [
        {
          "output_type": "execute_result",
          "data": {
            "text/plain": [
              "49683543098.94455"
            ]
          },
          "metadata": {},
          "execution_count": 55
        }
      ]
    },
    {
      "cell_type": "code",
      "source": [
        "mse**0.5"
      ],
      "metadata": {
        "id": "Pc-Ij4OsNi8R",
        "colab": {
          "base_uri": "https://localhost:8080/"
        },
        "outputId": "36c47b86-e432-44e4-c6ac-563c55a15822"
      },
      "execution_count": 56,
      "outputs": [
        {
          "output_type": "execute_result",
          "data": {
            "text/plain": [
              "222898.05539516165"
            ]
          },
          "metadata": {},
          "execution_count": 56
        }
      ]
    },
    {
      "cell_type": "markdown",
      "source": [
        "**오류 값 범람 대실패**"
      ],
      "metadata": {
        "id": "AeRnhBfkNuks"
      }
    },
    {
      "cell_type": "markdown",
      "source": [
        "# Average Blending"
      ],
      "metadata": {
        "id": "Wn7PK9nrN3_-"
      }
    },
    {
      "cell_type": "code",
      "source": [
        "train_data_path = ('/content/train.csv')\n",
        "test_data_path = ('/content/test.csv')\n",
        "\n",
        "train = pd.read_csv(train_data_path)\n",
        "test = pd.read_csv(test_data_path)"
      ],
      "metadata": {
        "id": "IsDr91hcOEMg"
      },
      "execution_count": 104,
      "outputs": []
    },
    {
      "cell_type": "code",
      "source": [
        "# 카테고리 값 쓰기 위해 의미있는 수로 바꿔주기\n",
        "\n",
        "train = pd.get_dummies(train, columns = ['yr_built', 'waterfront', 'zipcode'])\n",
        "test = pd.get_dummies(test, columns = ['yr_built', 'waterfront', 'zipcode'])"
      ],
      "metadata": {
        "id": "kXHjgUtaOeA3"
      },
      "execution_count": 105,
      "outputs": []
    },
    {
      "cell_type": "code",
      "source": [
        "train.head()"
      ],
      "metadata": {
        "id": "k0mJ_9-SPm6m",
        "colab": {
          "base_uri": "https://localhost:8080/",
          "height": 300
        },
        "outputId": "a872d9d8-8f9d-45e1-9b7c-3e80489dd980"
      },
      "execution_count": 106,
      "outputs": [
        {
          "output_type": "execute_result",
          "data": {
            "text/plain": [
              "   id             date     price  bedrooms  bathrooms  sqft_living  sqft_lot  \\\n",
              "0   0  20141013T000000  221900.0         3       1.00         1180      5650   \n",
              "1   1  20150225T000000  180000.0         2       1.00          770     10000   \n",
              "2   2  20150218T000000  510000.0         3       2.00         1680      8080   \n",
              "3   3  20140627T000000  257500.0         3       2.25         1715      6819   \n",
              "4   4  20150115T000000  291850.0         3       1.50         1060      9711   \n",
              "\n",
              "   floors  view  condition  ...  zipcode_98146  zipcode_98148  zipcode_98155  \\\n",
              "0     1.0     0          3  ...              0              0              0   \n",
              "1     1.0     0          3  ...              0              0              0   \n",
              "2     1.0     0          3  ...              0              0              0   \n",
              "3     2.0     0          3  ...              0              0              0   \n",
              "4     1.0     0          3  ...              0              0              0   \n",
              "\n",
              "   zipcode_98166  zipcode_98168  zipcode_98177  zipcode_98178  zipcode_98188  \\\n",
              "0              0              0              0              1              0   \n",
              "1              0              0              0              0              0   \n",
              "2              0              0              0              0              0   \n",
              "3              0              0              0              0              0   \n",
              "4              0              0              0              0              0   \n",
              "\n",
              "   zipcode_98198  zipcode_98199  \n",
              "0              0              0  \n",
              "1              0              0  \n",
              "2              0              0  \n",
              "3              0              0  \n",
              "4              1              0  \n",
              "\n",
              "[5 rows x 206 columns]"
            ],
            "text/html": [
              "\n",
              "  <div id=\"df-2a458e7f-eb64-4284-aa93-03567a344ddf\">\n",
              "    <div class=\"colab-df-container\">\n",
              "      <div>\n",
              "<style scoped>\n",
              "    .dataframe tbody tr th:only-of-type {\n",
              "        vertical-align: middle;\n",
              "    }\n",
              "\n",
              "    .dataframe tbody tr th {\n",
              "        vertical-align: top;\n",
              "    }\n",
              "\n",
              "    .dataframe thead th {\n",
              "        text-align: right;\n",
              "    }\n",
              "</style>\n",
              "<table border=\"1\" class=\"dataframe\">\n",
              "  <thead>\n",
              "    <tr style=\"text-align: right;\">\n",
              "      <th></th>\n",
              "      <th>id</th>\n",
              "      <th>date</th>\n",
              "      <th>price</th>\n",
              "      <th>bedrooms</th>\n",
              "      <th>bathrooms</th>\n",
              "      <th>sqft_living</th>\n",
              "      <th>sqft_lot</th>\n",
              "      <th>floors</th>\n",
              "      <th>view</th>\n",
              "      <th>condition</th>\n",
              "      <th>...</th>\n",
              "      <th>zipcode_98146</th>\n",
              "      <th>zipcode_98148</th>\n",
              "      <th>zipcode_98155</th>\n",
              "      <th>zipcode_98166</th>\n",
              "      <th>zipcode_98168</th>\n",
              "      <th>zipcode_98177</th>\n",
              "      <th>zipcode_98178</th>\n",
              "      <th>zipcode_98188</th>\n",
              "      <th>zipcode_98198</th>\n",
              "      <th>zipcode_98199</th>\n",
              "    </tr>\n",
              "  </thead>\n",
              "  <tbody>\n",
              "    <tr>\n",
              "      <th>0</th>\n",
              "      <td>0</td>\n",
              "      <td>20141013T000000</td>\n",
              "      <td>221900.0</td>\n",
              "      <td>3</td>\n",
              "      <td>1.00</td>\n",
              "      <td>1180</td>\n",
              "      <td>5650</td>\n",
              "      <td>1.0</td>\n",
              "      <td>0</td>\n",
              "      <td>3</td>\n",
              "      <td>...</td>\n",
              "      <td>0</td>\n",
              "      <td>0</td>\n",
              "      <td>0</td>\n",
              "      <td>0</td>\n",
              "      <td>0</td>\n",
              "      <td>0</td>\n",
              "      <td>1</td>\n",
              "      <td>0</td>\n",
              "      <td>0</td>\n",
              "      <td>0</td>\n",
              "    </tr>\n",
              "    <tr>\n",
              "      <th>1</th>\n",
              "      <td>1</td>\n",
              "      <td>20150225T000000</td>\n",
              "      <td>180000.0</td>\n",
              "      <td>2</td>\n",
              "      <td>1.00</td>\n",
              "      <td>770</td>\n",
              "      <td>10000</td>\n",
              "      <td>1.0</td>\n",
              "      <td>0</td>\n",
              "      <td>3</td>\n",
              "      <td>...</td>\n",
              "      <td>0</td>\n",
              "      <td>0</td>\n",
              "      <td>0</td>\n",
              "      <td>0</td>\n",
              "      <td>0</td>\n",
              "      <td>0</td>\n",
              "      <td>0</td>\n",
              "      <td>0</td>\n",
              "      <td>0</td>\n",
              "      <td>0</td>\n",
              "    </tr>\n",
              "    <tr>\n",
              "      <th>2</th>\n",
              "      <td>2</td>\n",
              "      <td>20150218T000000</td>\n",
              "      <td>510000.0</td>\n",
              "      <td>3</td>\n",
              "      <td>2.00</td>\n",
              "      <td>1680</td>\n",
              "      <td>8080</td>\n",
              "      <td>1.0</td>\n",
              "      <td>0</td>\n",
              "      <td>3</td>\n",
              "      <td>...</td>\n",
              "      <td>0</td>\n",
              "      <td>0</td>\n",
              "      <td>0</td>\n",
              "      <td>0</td>\n",
              "      <td>0</td>\n",
              "      <td>0</td>\n",
              "      <td>0</td>\n",
              "      <td>0</td>\n",
              "      <td>0</td>\n",
              "      <td>0</td>\n",
              "    </tr>\n",
              "    <tr>\n",
              "      <th>3</th>\n",
              "      <td>3</td>\n",
              "      <td>20140627T000000</td>\n",
              "      <td>257500.0</td>\n",
              "      <td>3</td>\n",
              "      <td>2.25</td>\n",
              "      <td>1715</td>\n",
              "      <td>6819</td>\n",
              "      <td>2.0</td>\n",
              "      <td>0</td>\n",
              "      <td>3</td>\n",
              "      <td>...</td>\n",
              "      <td>0</td>\n",
              "      <td>0</td>\n",
              "      <td>0</td>\n",
              "      <td>0</td>\n",
              "      <td>0</td>\n",
              "      <td>0</td>\n",
              "      <td>0</td>\n",
              "      <td>0</td>\n",
              "      <td>0</td>\n",
              "      <td>0</td>\n",
              "    </tr>\n",
              "    <tr>\n",
              "      <th>4</th>\n",
              "      <td>4</td>\n",
              "      <td>20150115T000000</td>\n",
              "      <td>291850.0</td>\n",
              "      <td>3</td>\n",
              "      <td>1.50</td>\n",
              "      <td>1060</td>\n",
              "      <td>9711</td>\n",
              "      <td>1.0</td>\n",
              "      <td>0</td>\n",
              "      <td>3</td>\n",
              "      <td>...</td>\n",
              "      <td>0</td>\n",
              "      <td>0</td>\n",
              "      <td>0</td>\n",
              "      <td>0</td>\n",
              "      <td>0</td>\n",
              "      <td>0</td>\n",
              "      <td>0</td>\n",
              "      <td>0</td>\n",
              "      <td>1</td>\n",
              "      <td>0</td>\n",
              "    </tr>\n",
              "  </tbody>\n",
              "</table>\n",
              "<p>5 rows × 206 columns</p>\n",
              "</div>\n",
              "      <button class=\"colab-df-convert\" onclick=\"convertToInteractive('df-2a458e7f-eb64-4284-aa93-03567a344ddf')\"\n",
              "              title=\"Convert this dataframe to an interactive table.\"\n",
              "              style=\"display:none;\">\n",
              "        \n",
              "  <svg xmlns=\"http://www.w3.org/2000/svg\" height=\"24px\"viewBox=\"0 0 24 24\"\n",
              "       width=\"24px\">\n",
              "    <path d=\"M0 0h24v24H0V0z\" fill=\"none\"/>\n",
              "    <path d=\"M18.56 5.44l.94 2.06.94-2.06 2.06-.94-2.06-.94-.94-2.06-.94 2.06-2.06.94zm-11 1L8.5 8.5l.94-2.06 2.06-.94-2.06-.94L8.5 2.5l-.94 2.06-2.06.94zm10 10l.94 2.06.94-2.06 2.06-.94-2.06-.94-.94-2.06-.94 2.06-2.06.94z\"/><path d=\"M17.41 7.96l-1.37-1.37c-.4-.4-.92-.59-1.43-.59-.52 0-1.04.2-1.43.59L10.3 9.45l-7.72 7.72c-.78.78-.78 2.05 0 2.83L4 21.41c.39.39.9.59 1.41.59.51 0 1.02-.2 1.41-.59l7.78-7.78 2.81-2.81c.8-.78.8-2.07 0-2.86zM5.41 20L4 18.59l7.72-7.72 1.47 1.35L5.41 20z\"/>\n",
              "  </svg>\n",
              "      </button>\n",
              "      \n",
              "  <style>\n",
              "    .colab-df-container {\n",
              "      display:flex;\n",
              "      flex-wrap:wrap;\n",
              "      gap: 12px;\n",
              "    }\n",
              "\n",
              "    .colab-df-convert {\n",
              "      background-color: #E8F0FE;\n",
              "      border: none;\n",
              "      border-radius: 50%;\n",
              "      cursor: pointer;\n",
              "      display: none;\n",
              "      fill: #1967D2;\n",
              "      height: 32px;\n",
              "      padding: 0 0 0 0;\n",
              "      width: 32px;\n",
              "    }\n",
              "\n",
              "    .colab-df-convert:hover {\n",
              "      background-color: #E2EBFA;\n",
              "      box-shadow: 0px 1px 2px rgba(60, 64, 67, 0.3), 0px 1px 3px 1px rgba(60, 64, 67, 0.15);\n",
              "      fill: #174EA6;\n",
              "    }\n",
              "\n",
              "    [theme=dark] .colab-df-convert {\n",
              "      background-color: #3B4455;\n",
              "      fill: #D2E3FC;\n",
              "    }\n",
              "\n",
              "    [theme=dark] .colab-df-convert:hover {\n",
              "      background-color: #434B5C;\n",
              "      box-shadow: 0px 1px 3px 1px rgba(0, 0, 0, 0.15);\n",
              "      filter: drop-shadow(0px 1px 2px rgba(0, 0, 0, 0.3));\n",
              "      fill: #FFFFFF;\n",
              "    }\n",
              "  </style>\n",
              "\n",
              "      <script>\n",
              "        const buttonEl =\n",
              "          document.querySelector('#df-2a458e7f-eb64-4284-aa93-03567a344ddf button.colab-df-convert');\n",
              "        buttonEl.style.display =\n",
              "          google.colab.kernel.accessAllowed ? 'block' : 'none';\n",
              "\n",
              "        async function convertToInteractive(key) {\n",
              "          const element = document.querySelector('#df-2a458e7f-eb64-4284-aa93-03567a344ddf');\n",
              "          const dataTable =\n",
              "            await google.colab.kernel.invokeFunction('convertToInteractive',\n",
              "                                                     [key], {});\n",
              "          if (!dataTable) return;\n",
              "\n",
              "          const docLinkHtml = 'Like what you see? Visit the ' +\n",
              "            '<a target=\"_blank\" href=https://colab.research.google.com/notebooks/data_table.ipynb>data table notebook</a>'\n",
              "            + ' to learn more about interactive tables.';\n",
              "          element.innerHTML = '';\n",
              "          dataTable['output_type'] = 'display_data';\n",
              "          await google.colab.output.renderOutput(dataTable, element);\n",
              "          const docLink = document.createElement('div');\n",
              "          docLink.innerHTML = docLinkHtml;\n",
              "          element.appendChild(docLink);\n",
              "        }\n",
              "      </script>\n",
              "    </div>\n",
              "  </div>\n",
              "  "
            ]
          },
          "metadata": {},
          "execution_count": 106
        }
      ]
    },
    {
      "cell_type": "code",
      "source": [
        "train['date'] = train['date'].apply(lambda i: i[:6]).astype(int)\n",
        "train.head()"
      ],
      "metadata": {
        "id": "ebDD0j44PtBz",
        "colab": {
          "base_uri": "https://localhost:8080/",
          "height": 300
        },
        "outputId": "3b97e7de-76ca-4928-fc02-bc9ec8d08aca"
      },
      "execution_count": 107,
      "outputs": [
        {
          "output_type": "execute_result",
          "data": {
            "text/plain": [
              "   id    date     price  bedrooms  bathrooms  sqft_living  sqft_lot  floors  \\\n",
              "0   0  201410  221900.0         3       1.00         1180      5650     1.0   \n",
              "1   1  201502  180000.0         2       1.00          770     10000     1.0   \n",
              "2   2  201502  510000.0         3       2.00         1680      8080     1.0   \n",
              "3   3  201406  257500.0         3       2.25         1715      6819     2.0   \n",
              "4   4  201501  291850.0         3       1.50         1060      9711     1.0   \n",
              "\n",
              "   view  condition  ...  zipcode_98146  zipcode_98148  zipcode_98155  \\\n",
              "0     0          3  ...              0              0              0   \n",
              "1     0          3  ...              0              0              0   \n",
              "2     0          3  ...              0              0              0   \n",
              "3     0          3  ...              0              0              0   \n",
              "4     0          3  ...              0              0              0   \n",
              "\n",
              "   zipcode_98166  zipcode_98168  zipcode_98177  zipcode_98178  zipcode_98188  \\\n",
              "0              0              0              0              1              0   \n",
              "1              0              0              0              0              0   \n",
              "2              0              0              0              0              0   \n",
              "3              0              0              0              0              0   \n",
              "4              0              0              0              0              0   \n",
              "\n",
              "   zipcode_98198  zipcode_98199  \n",
              "0              0              0  \n",
              "1              0              0  \n",
              "2              0              0  \n",
              "3              0              0  \n",
              "4              1              0  \n",
              "\n",
              "[5 rows x 206 columns]"
            ],
            "text/html": [
              "\n",
              "  <div id=\"df-d76b39de-90a5-4f0c-bbdd-c38bfa20a08e\">\n",
              "    <div class=\"colab-df-container\">\n",
              "      <div>\n",
              "<style scoped>\n",
              "    .dataframe tbody tr th:only-of-type {\n",
              "        vertical-align: middle;\n",
              "    }\n",
              "\n",
              "    .dataframe tbody tr th {\n",
              "        vertical-align: top;\n",
              "    }\n",
              "\n",
              "    .dataframe thead th {\n",
              "        text-align: right;\n",
              "    }\n",
              "</style>\n",
              "<table border=\"1\" class=\"dataframe\">\n",
              "  <thead>\n",
              "    <tr style=\"text-align: right;\">\n",
              "      <th></th>\n",
              "      <th>id</th>\n",
              "      <th>date</th>\n",
              "      <th>price</th>\n",
              "      <th>bedrooms</th>\n",
              "      <th>bathrooms</th>\n",
              "      <th>sqft_living</th>\n",
              "      <th>sqft_lot</th>\n",
              "      <th>floors</th>\n",
              "      <th>view</th>\n",
              "      <th>condition</th>\n",
              "      <th>...</th>\n",
              "      <th>zipcode_98146</th>\n",
              "      <th>zipcode_98148</th>\n",
              "      <th>zipcode_98155</th>\n",
              "      <th>zipcode_98166</th>\n",
              "      <th>zipcode_98168</th>\n",
              "      <th>zipcode_98177</th>\n",
              "      <th>zipcode_98178</th>\n",
              "      <th>zipcode_98188</th>\n",
              "      <th>zipcode_98198</th>\n",
              "      <th>zipcode_98199</th>\n",
              "    </tr>\n",
              "  </thead>\n",
              "  <tbody>\n",
              "    <tr>\n",
              "      <th>0</th>\n",
              "      <td>0</td>\n",
              "      <td>201410</td>\n",
              "      <td>221900.0</td>\n",
              "      <td>3</td>\n",
              "      <td>1.00</td>\n",
              "      <td>1180</td>\n",
              "      <td>5650</td>\n",
              "      <td>1.0</td>\n",
              "      <td>0</td>\n",
              "      <td>3</td>\n",
              "      <td>...</td>\n",
              "      <td>0</td>\n",
              "      <td>0</td>\n",
              "      <td>0</td>\n",
              "      <td>0</td>\n",
              "      <td>0</td>\n",
              "      <td>0</td>\n",
              "      <td>1</td>\n",
              "      <td>0</td>\n",
              "      <td>0</td>\n",
              "      <td>0</td>\n",
              "    </tr>\n",
              "    <tr>\n",
              "      <th>1</th>\n",
              "      <td>1</td>\n",
              "      <td>201502</td>\n",
              "      <td>180000.0</td>\n",
              "      <td>2</td>\n",
              "      <td>1.00</td>\n",
              "      <td>770</td>\n",
              "      <td>10000</td>\n",
              "      <td>1.0</td>\n",
              "      <td>0</td>\n",
              "      <td>3</td>\n",
              "      <td>...</td>\n",
              "      <td>0</td>\n",
              "      <td>0</td>\n",
              "      <td>0</td>\n",
              "      <td>0</td>\n",
              "      <td>0</td>\n",
              "      <td>0</td>\n",
              "      <td>0</td>\n",
              "      <td>0</td>\n",
              "      <td>0</td>\n",
              "      <td>0</td>\n",
              "    </tr>\n",
              "    <tr>\n",
              "      <th>2</th>\n",
              "      <td>2</td>\n",
              "      <td>201502</td>\n",
              "      <td>510000.0</td>\n",
              "      <td>3</td>\n",
              "      <td>2.00</td>\n",
              "      <td>1680</td>\n",
              "      <td>8080</td>\n",
              "      <td>1.0</td>\n",
              "      <td>0</td>\n",
              "      <td>3</td>\n",
              "      <td>...</td>\n",
              "      <td>0</td>\n",
              "      <td>0</td>\n",
              "      <td>0</td>\n",
              "      <td>0</td>\n",
              "      <td>0</td>\n",
              "      <td>0</td>\n",
              "      <td>0</td>\n",
              "      <td>0</td>\n",
              "      <td>0</td>\n",
              "      <td>0</td>\n",
              "    </tr>\n",
              "    <tr>\n",
              "      <th>3</th>\n",
              "      <td>3</td>\n",
              "      <td>201406</td>\n",
              "      <td>257500.0</td>\n",
              "      <td>3</td>\n",
              "      <td>2.25</td>\n",
              "      <td>1715</td>\n",
              "      <td>6819</td>\n",
              "      <td>2.0</td>\n",
              "      <td>0</td>\n",
              "      <td>3</td>\n",
              "      <td>...</td>\n",
              "      <td>0</td>\n",
              "      <td>0</td>\n",
              "      <td>0</td>\n",
              "      <td>0</td>\n",
              "      <td>0</td>\n",
              "      <td>0</td>\n",
              "      <td>0</td>\n",
              "      <td>0</td>\n",
              "      <td>0</td>\n",
              "      <td>0</td>\n",
              "    </tr>\n",
              "    <tr>\n",
              "      <th>4</th>\n",
              "      <td>4</td>\n",
              "      <td>201501</td>\n",
              "      <td>291850.0</td>\n",
              "      <td>3</td>\n",
              "      <td>1.50</td>\n",
              "      <td>1060</td>\n",
              "      <td>9711</td>\n",
              "      <td>1.0</td>\n",
              "      <td>0</td>\n",
              "      <td>3</td>\n",
              "      <td>...</td>\n",
              "      <td>0</td>\n",
              "      <td>0</td>\n",
              "      <td>0</td>\n",
              "      <td>0</td>\n",
              "      <td>0</td>\n",
              "      <td>0</td>\n",
              "      <td>0</td>\n",
              "      <td>0</td>\n",
              "      <td>1</td>\n",
              "      <td>0</td>\n",
              "    </tr>\n",
              "  </tbody>\n",
              "</table>\n",
              "<p>5 rows × 206 columns</p>\n",
              "</div>\n",
              "      <button class=\"colab-df-convert\" onclick=\"convertToInteractive('df-d76b39de-90a5-4f0c-bbdd-c38bfa20a08e')\"\n",
              "              title=\"Convert this dataframe to an interactive table.\"\n",
              "              style=\"display:none;\">\n",
              "        \n",
              "  <svg xmlns=\"http://www.w3.org/2000/svg\" height=\"24px\"viewBox=\"0 0 24 24\"\n",
              "       width=\"24px\">\n",
              "    <path d=\"M0 0h24v24H0V0z\" fill=\"none\"/>\n",
              "    <path d=\"M18.56 5.44l.94 2.06.94-2.06 2.06-.94-2.06-.94-.94-2.06-.94 2.06-2.06.94zm-11 1L8.5 8.5l.94-2.06 2.06-.94-2.06-.94L8.5 2.5l-.94 2.06-2.06.94zm10 10l.94 2.06.94-2.06 2.06-.94-2.06-.94-.94-2.06-.94 2.06-2.06.94z\"/><path d=\"M17.41 7.96l-1.37-1.37c-.4-.4-.92-.59-1.43-.59-.52 0-1.04.2-1.43.59L10.3 9.45l-7.72 7.72c-.78.78-.78 2.05 0 2.83L4 21.41c.39.39.9.59 1.41.59.51 0 1.02-.2 1.41-.59l7.78-7.78 2.81-2.81c.8-.78.8-2.07 0-2.86zM5.41 20L4 18.59l7.72-7.72 1.47 1.35L5.41 20z\"/>\n",
              "  </svg>\n",
              "      </button>\n",
              "      \n",
              "  <style>\n",
              "    .colab-df-container {\n",
              "      display:flex;\n",
              "      flex-wrap:wrap;\n",
              "      gap: 12px;\n",
              "    }\n",
              "\n",
              "    .colab-df-convert {\n",
              "      background-color: #E8F0FE;\n",
              "      border: none;\n",
              "      border-radius: 50%;\n",
              "      cursor: pointer;\n",
              "      display: none;\n",
              "      fill: #1967D2;\n",
              "      height: 32px;\n",
              "      padding: 0 0 0 0;\n",
              "      width: 32px;\n",
              "    }\n",
              "\n",
              "    .colab-df-convert:hover {\n",
              "      background-color: #E2EBFA;\n",
              "      box-shadow: 0px 1px 2px rgba(60, 64, 67, 0.3), 0px 1px 3px 1px rgba(60, 64, 67, 0.15);\n",
              "      fill: #174EA6;\n",
              "    }\n",
              "\n",
              "    [theme=dark] .colab-df-convert {\n",
              "      background-color: #3B4455;\n",
              "      fill: #D2E3FC;\n",
              "    }\n",
              "\n",
              "    [theme=dark] .colab-df-convert:hover {\n",
              "      background-color: #434B5C;\n",
              "      box-shadow: 0px 1px 3px 1px rgba(0, 0, 0, 0.15);\n",
              "      filter: drop-shadow(0px 1px 2px rgba(0, 0, 0, 0.3));\n",
              "      fill: #FFFFFF;\n",
              "    }\n",
              "  </style>\n",
              "\n",
              "      <script>\n",
              "        const buttonEl =\n",
              "          document.querySelector('#df-d76b39de-90a5-4f0c-bbdd-c38bfa20a08e button.colab-df-convert');\n",
              "        buttonEl.style.display =\n",
              "          google.colab.kernel.accessAllowed ? 'block' : 'none';\n",
              "\n",
              "        async function convertToInteractive(key) {\n",
              "          const element = document.querySelector('#df-d76b39de-90a5-4f0c-bbdd-c38bfa20a08e');\n",
              "          const dataTable =\n",
              "            await google.colab.kernel.invokeFunction('convertToInteractive',\n",
              "                                                     [key], {});\n",
              "          if (!dataTable) return;\n",
              "\n",
              "          const docLinkHtml = 'Like what you see? Visit the ' +\n",
              "            '<a target=\"_blank\" href=https://colab.research.google.com/notebooks/data_table.ipynb>data table notebook</a>'\n",
              "            + ' to learn more about interactive tables.';\n",
              "          element.innerHTML = '';\n",
              "          dataTable['output_type'] = 'display_data';\n",
              "          await google.colab.output.renderOutput(dataTable, element);\n",
              "          const docLink = document.createElement('div');\n",
              "          docLink.innerHTML = docLinkHtml;\n",
              "          element.appendChild(docLink);\n",
              "        }\n",
              "      </script>\n",
              "    </div>\n",
              "  </div>\n",
              "  "
            ]
          },
          "metadata": {},
          "execution_count": 107
        }
      ]
    },
    {
      "cell_type": "code",
      "source": [
        "#y에 정답값 넣기\n",
        "\n",
        "y = train['price']\n",
        "del train['price']\n",
        "\n",
        "print(train.columns)\n",
        "y.head()"
      ],
      "metadata": {
        "id": "gh7BewoDQLI9",
        "colab": {
          "base_uri": "https://localhost:8080/"
        },
        "outputId": "a72ae0cc-1922-4aec-f7d9-28c9ec1feda0"
      },
      "execution_count": 108,
      "outputs": [
        {
          "output_type": "stream",
          "name": "stdout",
          "text": [
            "Index(['id', 'date', 'bedrooms', 'bathrooms', 'sqft_living', 'sqft_lot',\n",
            "       'floors', 'view', 'condition', 'grade',\n",
            "       ...\n",
            "       'zipcode_98146', 'zipcode_98148', 'zipcode_98155', 'zipcode_98166',\n",
            "       'zipcode_98168', 'zipcode_98177', 'zipcode_98178', 'zipcode_98188',\n",
            "       'zipcode_98198', 'zipcode_98199'],\n",
            "      dtype='object', length=205)\n"
          ]
        },
        {
          "output_type": "execute_result",
          "data": {
            "text/plain": [
              "0    221900.0\n",
              "1    180000.0\n",
              "2    510000.0\n",
              "3    257500.0\n",
              "4    291850.0\n",
              "Name: price, dtype: float64"
            ]
          },
          "metadata": {},
          "execution_count": 108
        }
      ]
    },
    {
      "cell_type": "code",
      "source": [
        "# 선형회귀 때와 같이 카테고리를 지웠을 때, 스코어 대참사 났다고 함\n",
        "# 여러번 시도 해 본 결과 이 두가지 값을 지우는게 제일 나았다고 함\n",
        "\n",
        "del train['id'], train['date']\n",
        "\n",
        "print(train.columns)"
      ],
      "metadata": {
        "id": "15Q6FGvEQzIt",
        "colab": {
          "base_uri": "https://localhost:8080/"
        },
        "outputId": "f439a664-6247-446f-9389-37bd3f487c98"
      },
      "execution_count": 109,
      "outputs": [
        {
          "output_type": "stream",
          "name": "stdout",
          "text": [
            "Index(['bedrooms', 'bathrooms', 'sqft_living', 'sqft_lot', 'floors', 'view',\n",
            "       'condition', 'grade', 'sqft_above', 'sqft_basement',\n",
            "       ...\n",
            "       'zipcode_98146', 'zipcode_98148', 'zipcode_98155', 'zipcode_98166',\n",
            "       'zipcode_98168', 'zipcode_98177', 'zipcode_98178', 'zipcode_98188',\n",
            "       'zipcode_98198', 'zipcode_98199'],\n",
            "      dtype='object', length=203)\n"
          ]
        }
      ]
    },
    {
      "cell_type": "code",
      "source": [
        "# train과 test column을 맞춰줘야한다\n",
        "\n",
        "test['date'] = test['date'].apply(lambda i: i[:6]).astype(int)\n",
        "\n",
        "del test['id'], test['date']\n",
        "\n",
        "print(test.columns)"
      ],
      "metadata": {
        "id": "ob62zg4sReTo",
        "colab": {
          "base_uri": "https://localhost:8080/"
        },
        "outputId": "9f08c377-df12-4398-a9bd-f52f0d1d01ec"
      },
      "execution_count": 110,
      "outputs": [
        {
          "output_type": "stream",
          "name": "stdout",
          "text": [
            "Index(['bedrooms', 'bathrooms', 'sqft_living', 'sqft_lot', 'floors', 'view',\n",
            "       'condition', 'grade', 'sqft_above', 'sqft_basement',\n",
            "       ...\n",
            "       'zipcode_98146', 'zipcode_98148', 'zipcode_98155', 'zipcode_98166',\n",
            "       'zipcode_98168', 'zipcode_98177', 'zipcode_98178', 'zipcode_98188',\n",
            "       'zipcode_98198', 'zipcode_98199'],\n",
            "      dtype='object', length=203)\n"
          ]
        }
      ]
    },
    {
      "cell_type": "code",
      "source": [
        "sns.kdeplot(y)\n",
        "plt.show()"
      ],
      "metadata": {
        "id": "qKb_t1MbSX9b",
        "colab": {
          "base_uri": "https://localhost:8080/",
          "height": 290
        },
        "outputId": "43d08945-f0c5-4413-fc17-ac86454770ee"
      },
      "execution_count": 111,
      "outputs": [
        {
          "output_type": "display_data",
          "data": {
            "text/plain": [
              "<Figure size 432x288 with 1 Axes>"
            ],
            "image/png": "[encoded data removed]"
          },
          "metadata": {
            "needs_background": "light"
          }
        }
      ]
    },
    {
      "cell_type": "markdown",
      "source": [
        "**값이 편향되어 있다는 것을 알 수 있다. 그래프 분포가 넓지 않으면, 예측 값이 편향되게 나올 수 있다.**"
      ],
      "metadata": {
        "id": "S5JJBaVaSqpv"
      }
    },
    {
      "cell_type": "code",
      "source": [
        "# log 를 이용하여, 값의 분포를 넓게 만들어보자\n",
        "\n",
        "y = np.log1p(y)"
      ],
      "metadata": {
        "id": "aHMGnyijS_Cu"
      },
      "execution_count": 112,
      "outputs": []
    },
    {
      "cell_type": "code",
      "source": [
        "sns.kdeplot(y)\n",
        "plt.show()"
      ],
      "metadata": {
        "id": "PEXt-sTyT4k9",
        "colab": {
          "base_uri": "https://localhost:8080/",
          "height": 280
        },
        "outputId": "5de4843f-f991-45e1-cf6c-7ccd60a57a63"
      },
      "execution_count": 113,
      "outputs": [
        {
          "output_type": "display_data",
          "data": {
            "text/plain": [
              "<Figure size 432x288 with 1 Axes>"
            ],
            "image/png": "[encoded data removed]"
          },
          "metadata": {
            "needs_background": "light"
          }
        }
      ]
    },
    {
      "cell_type": "code",
      "source": [
        "train.info()"
      ],
      "metadata": {
        "id": "ZmoJN-p2UHuN",
        "colab": {
          "base_uri": "https://localhost:8080/"
        },
        "outputId": "cef02873-0b4f-4d83-f3d8-e1407f716e8e"
      },
      "execution_count": 114,
      "outputs": [
        {
          "output_type": "stream",
          "name": "stdout",
          "text": [
            "<class 'pandas.core.frame.DataFrame'>\n",
            "RangeIndex: 15035 entries, 0 to 15034\n",
            "Columns: 203 entries, bedrooms to zipcode_98199\n",
            "dtypes: float64(4), int64(11), uint8(188)\n",
            "memory usage: 4.4 MB\n"
          ]
        }
      ]
    },
    {
      "cell_type": "code",
      "source": [
        "# rmse 오류값 측정 함수\n",
        "\n",
        "def rmse(y_test, y_pred):\n",
        "    return np.sqrt(mean_squared_error(np.expm1(y_test), np.expm1(y_pred))) "
      ],
      "metadata": {
        "id": "Jq0tTRegUwxk"
      },
      "execution_count": 115,
      "outputs": []
    },
    {
      "cell_type": "code",
      "source": [
        "from xgboost import XGBRegressor\n",
        "from lightgbm import LGBMRegressor\n",
        "from sklearn.ensemble import GradientBoostingRegressor,RandomForestRegressor"
      ],
      "metadata": {
        "id": "5CwbZ_6yVdWH"
      },
      "execution_count": 116,
      "outputs": []
    },
    {
      "cell_type": "code",
      "source": [
        "# 여러가지 함수로 돌려보자.\n",
        "\n",
        "random_state=10\n",
        "\n",
        "gboost = GradientBoostingRegressor(random_state=10) \n",
        "xgboost = XGBRegressor(random_state=random_state)\n",
        "lightgbm = LGBMRegressor(random_state=random_state)\n",
        "rdforest = RandomForestRegressor(random_state=random_state)\n",
        "\n",
        "models = [gboost, xgboost, lightgbm, rdforest]"
      ],
      "metadata": {
        "id": "eHYGTZKEWCpl"
      },
      "execution_count": 117,
      "outputs": []
    },
    {
      "cell_type": "code",
      "source": [
        "def get_scorce(models, train, y):\n",
        "  df = {}\n",
        "\n",
        "  for model in models:\n",
        "    # 모델 이름 획득\n",
        "      model_name = model.__class__.__name__\n",
        "\n",
        "      # 모델 학습\n",
        "      X_train, X_test, y_train, y_test = train_test_split(train, y, random_state=random_state, test_size=0.2)\n",
        "      model.fit(X_train, y_train)\n",
        "\n",
        "      # 예측\n",
        "      y_pred = model.predict(X_test)\n",
        "\n",
        "      # 예측 결과의 rmse(y_test, y_pred)\n",
        "      df[model_name] = rmse(y_test, y_pred)\n",
        "\n",
        "      # data frame에 저장\n",
        "      score_df = pd.DataFrame(df, index=['RMSE']).T.sort_values('RMSE', ascending=False)\n",
        "\n",
        "  return score_df \n",
        "      "
      ],
      "metadata": {
        "id": "FKudhV1YXePz"
      },
      "execution_count": 118,
      "outputs": []
    },
    {
      "cell_type": "code",
      "source": [
        "# 하이퍼 파라미터의 서막... (???)\n",
        "\n",
        "from sklearn.model_selection import GridSearchCV"
      ],
      "metadata": {
        "id": "rwNM1H9m6a1d"
      },
      "execution_count": 119,
      "outputs": []
    },
    {
      "cell_type": "code",
      "source": [
        "param_grid = {\n",
        "    'n_estimators': [608, 609, 610, 500],\n",
        "    \"max_depth\" : [10, 9, 8]\n",
        "}"
      ],
      "metadata": {
        "id": "c9rvKqmb6sQk"
      },
      "execution_count": 120,
      "outputs": []
    },
    {
      "cell_type": "code",
      "source": [
        "model = LGBMRegressor(random_state=random_state)"
      ],
      "metadata": {
        "id": "ZwME3AMh7pyv"
      },
      "execution_count": 121,
      "outputs": []
    },
    {
      "cell_type": "code",
      "source": [
        "grid_model = GridSearchCV(model, param_grid=param_grid, \n",
        "                          scoring='neg_mean_squared_error', \n",
        "                          cv = 5, verbose=1, n_jobs=-1)\n",
        "grid_model.fit(train, y)"
      ],
      "metadata": {
        "id": "MJ3gUUgO74kR",
        "colab": {
          "base_uri": "https://localhost:8080/"
        },
        "outputId": "9ab7e45f-d7e3-4c82-ffb7-aa7879ee9b01"
      },
      "execution_count": 122,
      "outputs": [
        {
          "output_type": "stream",
          "name": "stdout",
          "text": [
            "Fitting 5 folds for each of 12 candidates, totalling 60 fits\n"
          ]
        },
        {
          "output_type": "execute_result",
          "data": {
            "text/plain": [
              "GridSearchCV(cv=5, estimator=LGBMRegressor(random_state=10), n_jobs=-1,\n",
              "             param_grid={'max_depth': [10, 9, 8],\n",
              "                         'n_estimators': [608, 609, 610, 500]},\n",
              "             scoring='neg_mean_squared_error', verbose=1)"
            ]
          },
          "metadata": {},
          "execution_count": 122
        }
      ]
    },
    {
      "cell_type": "code",
      "source": [
        "grid_model.best_params_"
      ],
      "metadata": {
        "id": "jfz1X7On9bod",
        "colab": {
          "base_uri": "https://localhost:8080/"
        },
        "outputId": "394cc2ac-837d-49f0-c5f9-73b3fea32161"
      },
      "execution_count": 123,
      "outputs": [
        {
          "output_type": "execute_result",
          "data": {
            "text/plain": [
              "{'max_depth': 8, 'n_estimators': 500}"
            ]
          },
          "metadata": {},
          "execution_count": 123
        }
      ]
    },
    {
      "cell_type": "markdown",
      "source": [
        "**\"정보가 너무 많다\" --- 정보가 오히려 방해가 된다는 말인가~\n",
        " 필요한 정보는 어떤 파라미터 조합일 때, 점수가 어떻게 나오는 지이다.\n",
        " 파라미터 조합은 params에 저장되어 있고, 테스트 점수는 mean_test_score 에 저장되어 있다."
      ],
      "metadata": {
        "id": "O_Rz58Dk9vhI"
      }
    },
    {
      "cell_type": "code",
      "source": [
        ""
      ],
      "metadata": {
        "id": "QWqlD039N3LF"
      },
      "execution_count": 123,
      "outputs": []
    },
    {
      "cell_type": "code",
      "source": [
        "# 해당 파라미터로 구성된 모델을 준비\n",
        "\n",
        "model = LGBMRegressor(max_depth=8, n_estimators=608, random_state=random_state)\n",
        "model.fit(train, y)\n",
        "prediction = model.predict(test)\n",
        "prediction "
      ],
      "metadata": {
        "id": "vb95pFrHGS6U",
        "colab": {
          "base_uri": "https://localhost:8080/"
        },
        "outputId": "1e2d3651-2510-4e0f-a106-89caf447a1b6"
      },
      "execution_count": 124,
      "outputs": [
        {
          "output_type": "execute_result",
          "data": {
            "text/plain": [
              "array([13.10121536, 13.10316606, 14.151911  , ..., 13.06883401,\n",
              "       12.67564884, 13.05461905])"
            ]
          },
          "metadata": {},
          "execution_count": 124
        }
      ]
    },
    {
      "cell_type": "code",
      "source": [
        "# 예측 결과에 np.expm1()을 씌워서 다시 원래 스케일로 되돌린다.\n",
        "prediction = np.expm1(prediction)\n",
        "prediction "
      ],
      "metadata": {
        "id": "cFjZCASnG9ef",
        "colab": {
          "base_uri": "https://localhost:8080/"
        },
        "outputId": "b8d61261-50e4-4c4e-e8ae-1fb915b4b1fb"
      },
      "execution_count": 125,
      "outputs": [
        {
          "output_type": "execute_result",
          "data": {
            "text/plain": [
              "array([ 489536.01703062,  490491.88788643, 1399898.49528711, ...,\n",
              "        473938.05241594,  319862.25168767,  467248.6840021 ])"
            ]
          },
          "metadata": {},
          "execution_count": 125
        }
      ]
    },
    {
      "cell_type": "code",
      "source": [
        "submission = pd.read_csv('/content/submission.csv')\n",
        "submission.head()"
      ],
      "metadata": {
        "id": "DMGEK69AMIHF",
        "colab": {
          "base_uri": "https://localhost:8080/",
          "height": 206
        },
        "outputId": "db46541b-f4d5-4058-f794-51e5bdd3e9bd"
      },
      "execution_count": 126,
      "outputs": [
        {
          "output_type": "execute_result",
          "data": {
            "text/plain": [
              "      id         price\n",
              "0  15035  5.299667e+05\n",
              "1  15036  4.307262e+05\n",
              "2  15037  1.361677e+06\n",
              "3  15038  3.338036e+05\n",
              "4  15039  3.089006e+05"
            ],
            "text/html": [
              "\n",
              "  <div id=\"df-52f92982-a4c8-4329-a767-5d3c129fe537\">\n",
              "    <div class=\"colab-df-container\">\n",
              "      <div>\n",
              "<style scoped>\n",
              "    .dataframe tbody tr th:only-of-type {\n",
              "        vertical-align: middle;\n",
              "    }\n",
              "\n",
              "    .dataframe tbody tr th {\n",
              "        vertical-align: top;\n",
              "    }\n",
              "\n",
              "    .dataframe thead th {\n",
              "        text-align: right;\n",
              "    }\n",
              "</style>\n",
              "<table border=\"1\" class=\"dataframe\">\n",
              "  <thead>\n",
              "    <tr style=\"text-align: right;\">\n",
              "      <th></th>\n",
              "      <th>id</th>\n",
              "      <th>price</th>\n",
              "    </tr>\n",
              "  </thead>\n",
              "  <tbody>\n",
              "    <tr>\n",
              "      <th>0</th>\n",
              "      <td>15035</td>\n",
              "      <td>5.299667e+05</td>\n",
              "    </tr>\n",
              "    <tr>\n",
              "      <th>1</th>\n",
              "      <td>15036</td>\n",
              "      <td>4.307262e+05</td>\n",
              "    </tr>\n",
              "    <tr>\n",
              "      <th>2</th>\n",
              "      <td>15037</td>\n",
              "      <td>1.361677e+06</td>\n",
              "    </tr>\n",
              "    <tr>\n",
              "      <th>3</th>\n",
              "      <td>15038</td>\n",
              "      <td>3.338036e+05</td>\n",
              "    </tr>\n",
              "    <tr>\n",
              "      <th>4</th>\n",
              "      <td>15039</td>\n",
              "      <td>3.089006e+05</td>\n",
              "    </tr>\n",
              "  </tbody>\n",
              "</table>\n",
              "</div>\n",
              "      <button class=\"colab-df-convert\" onclick=\"convertToInteractive('df-52f92982-a4c8-4329-a767-5d3c129fe537')\"\n",
              "              title=\"Convert this dataframe to an interactive table.\"\n",
              "              style=\"display:none;\">\n",
              "        \n",
              "  <svg xmlns=\"http://www.w3.org/2000/svg\" height=\"24px\"viewBox=\"0 0 24 24\"\n",
              "       width=\"24px\">\n",
              "    <path d=\"M0 0h24v24H0V0z\" fill=\"none\"/>\n",
              "    <path d=\"M18.56 5.44l.94 2.06.94-2.06 2.06-.94-2.06-.94-.94-2.06-.94 2.06-2.06.94zm-11 1L8.5 8.5l.94-2.06 2.06-.94-2.06-.94L8.5 2.5l-.94 2.06-2.06.94zm10 10l.94 2.06.94-2.06 2.06-.94-2.06-.94-.94-2.06-.94 2.06-2.06.94z\"/><path d=\"M17.41 7.96l-1.37-1.37c-.4-.4-.92-.59-1.43-.59-.52 0-1.04.2-1.43.59L10.3 9.45l-7.72 7.72c-.78.78-.78 2.05 0 2.83L4 21.41c.39.39.9.59 1.41.59.51 0 1.02-.2 1.41-.59l7.78-7.78 2.81-2.81c.8-.78.8-2.07 0-2.86zM5.41 20L4 18.59l7.72-7.72 1.47 1.35L5.41 20z\"/>\n",
              "  </svg>\n",
              "      </button>\n",
              "      \n",
              "  <style>\n",
              "    .colab-df-container {\n",
              "      display:flex;\n",
              "      flex-wrap:wrap;\n",
              "      gap: 12px;\n",
              "    }\n",
              "\n",
              "    .colab-df-convert {\n",
              "      background-color: #E8F0FE;\n",
              "      border: none;\n",
              "      border-radius: 50%;\n",
              "      cursor: pointer;\n",
              "      display: none;\n",
              "      fill: #1967D2;\n",
              "      height: 32px;\n",
              "      padding: 0 0 0 0;\n",
              "      width: 32px;\n",
              "    }\n",
              "\n",
              "    .colab-df-convert:hover {\n",
              "      background-color: #E2EBFA;\n",
              "      box-shadow: 0px 1px 2px rgba(60, 64, 67, 0.3), 0px 1px 3px 1px rgba(60, 64, 67, 0.15);\n",
              "      fill: #174EA6;\n",
              "    }\n",
              "\n",
              "    [theme=dark] .colab-df-convert {\n",
              "      background-color: #3B4455;\n",
              "      fill: #D2E3FC;\n",
              "    }\n",
              "\n",
              "    [theme=dark] .colab-df-convert:hover {\n",
              "      background-color: #434B5C;\n",
              "      box-shadow: 0px 1px 3px 1px rgba(0, 0, 0, 0.15);\n",
              "      filter: drop-shadow(0px 1px 2px rgba(0, 0, 0, 0.3));\n",
              "      fill: #FFFFFF;\n",
              "    }\n",
              "  </style>\n",
              "\n",
              "      <script>\n",
              "        const buttonEl =\n",
              "          document.querySelector('#df-52f92982-a4c8-4329-a767-5d3c129fe537 button.colab-df-convert');\n",
              "        buttonEl.style.display =\n",
              "          google.colab.kernel.accessAllowed ? 'block' : 'none';\n",
              "\n",
              "        async function convertToInteractive(key) {\n",
              "          const element = document.querySelector('#df-52f92982-a4c8-4329-a767-5d3c129fe537');\n",
              "          const dataTable =\n",
              "            await google.colab.kernel.invokeFunction('convertToInteractive',\n",
              "                                                     [key], {});\n",
              "          if (!dataTable) return;\n",
              "\n",
              "          const docLinkHtml = 'Like what you see? Visit the ' +\n",
              "            '<a target=\"_blank\" href=https://colab.research.google.com/notebooks/data_table.ipynb>data table notebook</a>'\n",
              "            + ' to learn more about interactive tables.';\n",
              "          element.innerHTML = '';\n",
              "          dataTable['output_type'] = 'display_data';\n",
              "          await google.colab.output.renderOutput(dataTable, element);\n",
              "          const docLink = document.createElement('div');\n",
              "          docLink.innerHTML = docLinkHtml;\n",
              "          element.appendChild(docLink);\n",
              "        }\n",
              "      </script>\n",
              "    </div>\n",
              "  </div>\n",
              "  "
            ]
          },
          "metadata": {},
          "execution_count": 126
        }
      ]
    },
    {
      "cell_type": "code",
      "source": [
        "submission['price'] = prediction\n",
        "submission.head()"
      ],
      "metadata": {
        "id": "KOQCnRMDMwib",
        "colab": {
          "base_uri": "https://localhost:8080/",
          "height": 206
        },
        "outputId": "aa7c67a8-79de-4249-9b6f-abde24529b6e"
      },
      "execution_count": 128,
      "outputs": [
        {
          "output_type": "execute_result",
          "data": {
            "text/plain": [
              "      id         price\n",
              "0  15035  4.895360e+05\n",
              "1  15036  4.904919e+05\n",
              "2  15037  1.399898e+06\n",
              "3  15038  3.046650e+05\n",
              "4  15039  3.418841e+05"
            ],
            "text/html": [
              "\n",
              "  <div id=\"df-3b427c4d-84d7-4a04-bfc6-f53e325a67e8\">\n",
              "    <div class=\"colab-df-container\">\n",
              "      <div>\n",
              "<style scoped>\n",
              "    .dataframe tbody tr th:only-of-type {\n",
              "        vertical-align: middle;\n",
              "    }\n",
              "\n",
              "    .dataframe tbody tr th {\n",
              "        vertical-align: top;\n",
              "    }\n",
              "\n",
              "    .dataframe thead th {\n",
              "        text-align: right;\n",
              "    }\n",
              "</style>\n",
              "<table border=\"1\" class=\"dataframe\">\n",
              "  <thead>\n",
              "    <tr style=\"text-align: right;\">\n",
              "      <th></th>\n",
              "      <th>id</th>\n",
              "      <th>price</th>\n",
              "    </tr>\n",
              "  </thead>\n",
              "  <tbody>\n",
              "    <tr>\n",
              "      <th>0</th>\n",
              "      <td>15035</td>\n",
              "      <td>4.895360e+05</td>\n",
              "    </tr>\n",
              "    <tr>\n",
              "      <th>1</th>\n",
              "      <td>15036</td>\n",
              "      <td>4.904919e+05</td>\n",
              "    </tr>\n",
              "    <tr>\n",
              "      <th>2</th>\n",
              "      <td>15037</td>\n",
              "      <td>1.399898e+06</td>\n",
              "    </tr>\n",
              "    <tr>\n",
              "      <th>3</th>\n",
              "      <td>15038</td>\n",
              "      <td>3.046650e+05</td>\n",
              "    </tr>\n",
              "    <tr>\n",
              "      <th>4</th>\n",
              "      <td>15039</td>\n",
              "      <td>3.418841e+05</td>\n",
              "    </tr>\n",
              "  </tbody>\n",
              "</table>\n",
              "</div>\n",
              "      <button class=\"colab-df-convert\" onclick=\"convertToInteractive('df-3b427c4d-84d7-4a04-bfc6-f53e325a67e8')\"\n",
              "              title=\"Convert this dataframe to an interactive table.\"\n",
              "              style=\"display:none;\">\n",
              "        \n",
              "  <svg xmlns=\"http://www.w3.org/2000/svg\" height=\"24px\"viewBox=\"0 0 24 24\"\n",
              "       width=\"24px\">\n",
              "    <path d=\"M0 0h24v24H0V0z\" fill=\"none\"/>\n",
              "    <path d=\"M18.56 5.44l.94 2.06.94-2.06 2.06-.94-2.06-.94-.94-2.06-.94 2.06-2.06.94zm-11 1L8.5 8.5l.94-2.06 2.06-.94-2.06-.94L8.5 2.5l-.94 2.06-2.06.94zm10 10l.94 2.06.94-2.06 2.06-.94-2.06-.94-.94-2.06-.94 2.06-2.06.94z\"/><path d=\"M17.41 7.96l-1.37-1.37c-.4-.4-.92-.59-1.43-.59-.52 0-1.04.2-1.43.59L10.3 9.45l-7.72 7.72c-.78.78-.78 2.05 0 2.83L4 21.41c.39.39.9.59 1.41.59.51 0 1.02-.2 1.41-.59l7.78-7.78 2.81-2.81c.8-.78.8-2.07 0-2.86zM5.41 20L4 18.59l7.72-7.72 1.47 1.35L5.41 20z\"/>\n",
              "  </svg>\n",
              "      </button>\n",
              "      \n",
              "  <style>\n",
              "    .colab-df-container {\n",
              "      display:flex;\n",
              "      flex-wrap:wrap;\n",
              "      gap: 12px;\n",
              "    }\n",
              "\n",
              "    .colab-df-convert {\n",
              "      background-color: #E8F0FE;\n",
              "      border: none;\n",
              "      border-radius: 50%;\n",
              "      cursor: pointer;\n",
              "      display: none;\n",
              "      fill: #1967D2;\n",
              "      height: 32px;\n",
              "      padding: 0 0 0 0;\n",
              "      width: 32px;\n",
              "    }\n",
              "\n",
              "    .colab-df-convert:hover {\n",
              "      background-color: #E2EBFA;\n",
              "      box-shadow: 0px 1px 2px rgba(60, 64, 67, 0.3), 0px 1px 3px 1px rgba(60, 64, 67, 0.15);\n",
              "      fill: #174EA6;\n",
              "    }\n",
              "\n",
              "    [theme=dark] .colab-df-convert {\n",
              "      background-color: #3B4455;\n",
              "      fill: #D2E3FC;\n",
              "    }\n",
              "\n",
              "    [theme=dark] .colab-df-convert:hover {\n",
              "      background-color: #434B5C;\n",
              "      box-shadow: 0px 1px 3px 1px rgba(0, 0, 0, 0.15);\n",
              "      filter: drop-shadow(0px 1px 2px rgba(0, 0, 0, 0.3));\n",
              "      fill: #FFFFFF;\n",
              "    }\n",
              "  </style>\n",
              "\n",
              "      <script>\n",
              "        const buttonEl =\n",
              "          document.querySelector('#df-3b427c4d-84d7-4a04-bfc6-f53e325a67e8 button.colab-df-convert');\n",
              "        buttonEl.style.display =\n",
              "          google.colab.kernel.accessAllowed ? 'block' : 'none';\n",
              "\n",
              "        async function convertToInteractive(key) {\n",
              "          const element = document.querySelector('#df-3b427c4d-84d7-4a04-bfc6-f53e325a67e8');\n",
              "          const dataTable =\n",
              "            await google.colab.kernel.invokeFunction('convertToInteractive',\n",
              "                                                     [key], {});\n",
              "          if (!dataTable) return;\n",
              "\n",
              "          const docLinkHtml = 'Like what you see? Visit the ' +\n",
              "            '<a target=\"_blank\" href=https://colab.research.google.com/notebooks/data_table.ipynb>data table notebook</a>'\n",
              "            + ' to learn more about interactive tables.';\n",
              "          element.innerHTML = '';\n",
              "          dataTable['output_type'] = 'display_data';\n",
              "          await google.colab.output.renderOutput(dataTable, element);\n",
              "          const docLink = document.createElement('div');\n",
              "          docLink.innerHTML = docLinkHtml;\n",
              "          element.appendChild(docLink);\n",
              "        }\n",
              "      </script>\n",
              "    </div>\n",
              "  </div>\n",
              "  "
            ]
          },
          "metadata": {},
          "execution_count": 128
        }
      ]
    },
    {
      "cell_type": "code",
      "source": [
        "submission.to_csv('/content/submission2.csv', index = False)"
      ],
      "metadata": {
        "id": "4YRbghx1QECF"
      },
      "execution_count": 136,
      "outputs": []
    },
    {
      "cell_type": "code",
      "source": [
        "submission"
      ],
      "metadata": {
        "colab": {
          "base_uri": "https://localhost:8080/",
          "height": 424
        },
        "id": "QpdsVWEEQPL9",
        "outputId": "02299b3e-1b96-42dd-ab88-019b0e04a3c2"
      },
      "execution_count": 135,
      "outputs": [
        {
          "output_type": "execute_result",
          "data": {
            "text/plain": [
              "         id         price\n",
              "0     15035  4.895360e+05\n",
              "1     15036  4.904919e+05\n",
              "2     15037  1.399898e+06\n",
              "3     15038  3.046650e+05\n",
              "4     15039  3.418841e+05\n",
              "...     ...           ...\n",
              "6463  21498  2.188882e+05\n",
              "6464  21499  4.139543e+05\n",
              "6465  21500  4.739381e+05\n",
              "6466  21501  3.198623e+05\n",
              "6467  21502  4.672487e+05\n",
              "\n",
              "[6468 rows x 2 columns]"
            ],
            "text/html": [
              "\n",
              "  <div id=\"df-c151b38c-7893-41dd-9344-4c81eb9fb616\">\n",
              "    <div class=\"colab-df-container\">\n",
              "      <div>\n",
              "<style scoped>\n",
              "    .dataframe tbody tr th:only-of-type {\n",
              "        vertical-align: middle;\n",
              "    }\n",
              "\n",
              "    .dataframe tbody tr th {\n",
              "        vertical-align: top;\n",
              "    }\n",
              "\n",
              "    .dataframe thead th {\n",
              "        text-align: right;\n",
              "    }\n",
              "</style>\n",
              "<table border=\"1\" class=\"dataframe\">\n",
              "  <thead>\n",
              "    <tr style=\"text-align: right;\">\n",
              "      <th></th>\n",
              "      <th>id</th>\n",
              "      <th>price</th>\n",
              "    </tr>\n",
              "  </thead>\n",
              "  <tbody>\n",
              "    <tr>\n",
              "      <th>0</th>\n",
              "      <td>15035</td>\n",
              "      <td>4.895360e+05</td>\n",
              "    </tr>\n",
              "    <tr>\n",
              "      <th>1</th>\n",
              "      <td>15036</td>\n",
              "      <td>4.904919e+05</td>\n",
              "    </tr>\n",
              "    <tr>\n",
              "      <th>2</th>\n",
              "      <td>15037</td>\n",
              "      <td>1.399898e+06</td>\n",
              "    </tr>\n",
              "    <tr>\n",
              "      <th>3</th>\n",
              "      <td>15038</td>\n",
              "      <td>3.046650e+05</td>\n",
              "    </tr>\n",
              "    <tr>\n",
              "      <th>4</th>\n",
              "      <td>15039</td>\n",
              "      <td>3.418841e+05</td>\n",
              "    </tr>\n",
              "    <tr>\n",
              "      <th>...</th>\n",
              "      <td>...</td>\n",
              "      <td>...</td>\n",
              "    </tr>\n",
              "    <tr>\n",
              "      <th>6463</th>\n",
              "      <td>21498</td>\n",
              "      <td>2.188882e+05</td>\n",
              "    </tr>\n",
              "    <tr>\n",
              "      <th>6464</th>\n",
              "      <td>21499</td>\n",
              "      <td>4.139543e+05</td>\n",
              "    </tr>\n",
              "    <tr>\n",
              "      <th>6465</th>\n",
              "      <td>21500</td>\n",
              "      <td>4.739381e+05</td>\n",
              "    </tr>\n",
              "    <tr>\n",
              "      <th>6466</th>\n",
              "      <td>21501</td>\n",
              "      <td>3.198623e+05</td>\n",
              "    </tr>\n",
              "    <tr>\n",
              "      <th>6467</th>\n",
              "      <td>21502</td>\n",
              "      <td>4.672487e+05</td>\n",
              "    </tr>\n",
              "  </tbody>\n",
              "</table>\n",
              "<p>6468 rows × 2 columns</p>\n",
              "</div>\n",
              "      <button class=\"colab-df-convert\" onclick=\"convertToInteractive('df-c151b38c-7893-41dd-9344-4c81eb9fb616')\"\n",
              "              title=\"Convert this dataframe to an interactive table.\"\n",
              "              style=\"display:none;\">\n",
              "        \n",
              "  <svg xmlns=\"http://www.w3.org/2000/svg\" height=\"24px\"viewBox=\"0 0 24 24\"\n",
              "       width=\"24px\">\n",
              "    <path d=\"M0 0h24v24H0V0z\" fill=\"none\"/>\n",
              "    <path d=\"M18.56 5.44l.94 2.06.94-2.06 2.06-.94-2.06-.94-.94-2.06-.94 2.06-2.06.94zm-11 1L8.5 8.5l.94-2.06 2.06-.94-2.06-.94L8.5 2.5l-.94 2.06-2.06.94zm10 10l.94 2.06.94-2.06 2.06-.94-2.06-.94-.94-2.06-.94 2.06-2.06.94z\"/><path d=\"M17.41 7.96l-1.37-1.37c-.4-.4-.92-.59-1.43-.59-.52 0-1.04.2-1.43.59L10.3 9.45l-7.72 7.72c-.78.78-.78 2.05 0 2.83L4 21.41c.39.39.9.59 1.41.59.51 0 1.02-.2 1.41-.59l7.78-7.78 2.81-2.81c.8-.78.8-2.07 0-2.86zM5.41 20L4 18.59l7.72-7.72 1.47 1.35L5.41 20z\"/>\n",
              "  </svg>\n",
              "      </button>\n",
              "      \n",
              "  <style>\n",
              "    .colab-df-container {\n",
              "      display:flex;\n",
              "      flex-wrap:wrap;\n",
              "      gap: 12px;\n",
              "    }\n",
              "\n",
              "    .colab-df-convert {\n",
              "      background-color: #E8F0FE;\n",
              "      border: none;\n",
              "      border-radius: 50%;\n",
              "      cursor: pointer;\n",
              "      display: none;\n",
              "      fill: #1967D2;\n",
              "      height: 32px;\n",
              "      padding: 0 0 0 0;\n",
              "      width: 32px;\n",
              "    }\n",
              "\n",
              "    .colab-df-convert:hover {\n",
              "      background-color: #E2EBFA;\n",
              "      box-shadow: 0px 1px 2px rgba(60, 64, 67, 0.3), 0px 1px 3px 1px rgba(60, 64, 67, 0.15);\n",
              "      fill: #174EA6;\n",
              "    }\n",
              "\n",
              "    [theme=dark] .colab-df-convert {\n",
              "      background-color: #3B4455;\n",
              "      fill: #D2E3FC;\n",
              "    }\n",
              "\n",
              "    [theme=dark] .colab-df-convert:hover {\n",
              "      background-color: #434B5C;\n",
              "      box-shadow: 0px 1px 3px 1px rgba(0, 0, 0, 0.15);\n",
              "      filter: drop-shadow(0px 1px 2px rgba(0, 0, 0, 0.3));\n",
              "      fill: #FFFFFF;\n",
              "    }\n",
              "  </style>\n",
              "\n",
              "      <script>\n",
              "        const buttonEl =\n",
              "          document.querySelector('#df-c151b38c-7893-41dd-9344-4c81eb9fb616 button.colab-df-convert');\n",
              "        buttonEl.style.display =\n",
              "          google.colab.kernel.accessAllowed ? 'block' : 'none';\n",
              "\n",
              "        async function convertToInteractive(key) {\n",
              "          const element = document.querySelector('#df-c151b38c-7893-41dd-9344-4c81eb9fb616');\n",
              "          const dataTable =\n",
              "            await google.colab.kernel.invokeFunction('convertToInteractive',\n",
              "                                                     [key], {});\n",
              "          if (!dataTable) return;\n",
              "\n",
              "          const docLinkHtml = 'Like what you see? Visit the ' +\n",
              "            '<a target=\"_blank\" href=https://colab.research.google.com/notebooks/data_table.ipynb>data table notebook</a>'\n",
              "            + ' to learn more about interactive tables.';\n",
              "          element.innerHTML = '';\n",
              "          dataTable['output_type'] = 'display_data';\n",
              "          await google.colab.output.renderOutput(dataTable, element);\n",
              "          const docLink = document.createElement('div');\n",
              "          docLink.innerHTML = docLinkHtml;\n",
              "          element.appendChild(docLink);\n",
              "        }\n",
              "      </script>\n",
              "    </div>\n",
              "  </div>\n",
              "  "
            ]
          },
          "metadata": {},
          "execution_count": 135
        }
      ]
    },
    {
      "cell_type": "code",
      "source": [
        "def save_submission(model, train, y, test, model_name, rmsle=None):\n",
        "    model.fit(train, y)\n",
        "    prediction = model.predict(test)\n",
        "    prediction = np.expm1(prediction)\n",
        "    submission_path = ('/content/submission.csv')\n",
        "    submission = pd.read_csv(submission_path)\n",
        "    submission['price'] = prediction\n",
        "    submission_csv_path = 'submission_{}_RMSLE_{}.csv'.format(model_name, rmsle)\n",
        "    submission.to_csv(submission_csv_path)"
      ],
      "metadata": {
        "id": "wwO9lyqxM3KJ"
      },
      "execution_count": 129,
      "outputs": []
    },
    {
      "cell_type": "code",
      "source": [
        "save_submission(model, train, y, test, 'lgbm', rmsle='a')"
      ],
      "metadata": {
        "id": "GNOTPl6KZw9T"
      },
      "execution_count": 130,
      "outputs": []
    },
    {
      "cell_type": "markdown",
      "source": [
        "# 회고"
      ],
      "metadata": {
        "id": "og-1PrWVaR4t"
      }
    },
    {
      "cell_type": "markdown",
      "source": [
        "![image.png](data:image/png;base64,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)"
      ],
      "metadata": {
        "id": "HiXfZY9ARNRa"
      }
    },
    {
      "cell_type": "markdown",
      "source": [
        "오늘은 제출할 수 있을까~\n",
        "깃허브에 올리고, URL을 복사해서 제출하기 해야한다. 성취하기가 되려면. 12시 이전에.\n"
      ],
      "metadata": {
        "id": "f6t8wCy7aYwg"
      }
    },
    {
      "cell_type": "markdown",
      "source": [
        "명찬님의 회고는 직접 고민하고 실수하고 길을 찾은 사람의 땀냄새가 느껴진다.\n",
        "\n",
        "다른 사람의 길과 발자국만 보며 똑같이 따라 걸어 보았다. 나의 보폭이 아니고 내가 걷는 방식이 아니다. \n",
        "나의 보폭과 나의 방식으로 길과 답을 찾을 때가 되면 뒷 걸음도 즐거우리라~\n",
        "\n",
        "지나가다가도, 밥먹으려다가도, 집에 가려다가라도 나를 도와주는 그루들이 고맙다.\n",
        "대단하다. 새로운 삶의 스타일을 체험하는 시간이 즐겁다.\n",
        "\n",
        "코딩과 인공지능에 조금 익숙해지는 시간이 간절하다, 지금은 아직 꿈꾸고 있는 듯 하다.\n",
        "\n",
        "~~~~~~이렇게 끝내고 올릴 줄로 예상 했으나...\n",
        "재현님에게 도움을 요청하니 하나하나 설명을 해 준다.\n",
        "미안함이 밀물, 고마움이 썰물.\n",
        "\n",
        "최선을 다해 듣는다. 대답하고ㅡ 틀리고, 또 묻는다. \n",
        "코드를 고치는 것을 직접보고, 내손으로 직접 해보며 희열을 느낀다.\n",
        "\n",
        "혹시 이렇게 하다가 나도 코딩 할 수 있게 되는? 그런?\n",
        "진짜? 이건 꿈이야~~^^\n",
        "나는 무한히 기쁘다. 오늘도 한 발 더 걸었다."
      ],
      "metadata": {
        "id": "ROMm5bKBa6Za"
      }
    },
    {
      "cell_type": "code",
      "source": [
        ""
      ],
      "metadata": {
        "id": "yc_vgD0ga04J"
      },
      "execution_count": null,
      "outputs": []
    }
  ]
}