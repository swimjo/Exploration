{
  "nbformat": 4,
  "nbformat_minor": 0,
  "metadata": {
    "colab": {
      "name": "P1.당뇨병 수치: 선형회귀, 수치를 맞춰보자!",
      "provenance": [],
      "collapsed_sections": [
        "NSz06v0dfrfT",
        "UrAWmOUL8FYZ"
      ]
    },
    "kernelspec": {
      "name": "python3",
      "display_name": "Python 3"
    },
    "language_info": {
      "name": "python"
    }
  },
  "cells": [
    {
      "cell_type": "markdown",
      "source": [
        "# 데이터 준비\n"
      ],
      "metadata": {
        "id": "_CWZRJravcwk"
      }
    },
    {
      "cell_type": "markdown",
      "source": [
        "pandas 가져오기- 표 테이터 다룰 때 가장 많이쓰는 바로 그 라이브러리  -*판다스*"
      ],
      "metadata": {
        "id": "hAIWBT7AwpMn"
      }
    },
    {
      "cell_type": "code",
      "source": [
        ""
      ],
      "metadata": {
        "id": "mxWzDgyGXNAU"
      },
      "execution_count": 118,
      "outputs": []
    },
    {
      "cell_type": "code",
      "source": [
        "import pandas as pd\n",
        "print(\"가 즈 아!!~~\")"
      ],
      "metadata": {
        "colab": {
          "base_uri": "https://localhost:8080/"
        },
        "id": "ONGwptD8xG-s",
        "outputId": "3503113a-55e9-40d2-b0f9-eb07a26e7d59"
      },
      "execution_count": 119,
      "outputs": [
        {
          "output_type": "stream",
          "name": "stdout",
          "text": [
            "가 즈 아!!~~\n"
          ]
        }
      ]
    },
    {
      "cell_type": "markdown",
      "source": [
        "**(1)데이터 가져오기**"
      ],
      "metadata": {
        "id": "g5KhdSqbyhpE"
      }
    },
    {
      "cell_type": "code",
      "source": [
        "from sklearn.datasets import load_diabetes \n",
        "diabetes = load_diabetes()"
      ],
      "metadata": {
        "id": "bsRkSG8rzWfW"
      },
      "execution_count": 120,
      "outputs": []
    },
    {
      "cell_type": "code",
      "source": [
        "diabetes.keys()  # 데이터 확인하기"
      ],
      "metadata": {
        "colab": {
          "base_uri": "https://localhost:8080/"
        },
        "id": "G8R3eVOX8fBG",
        "outputId": "8d1d4a24-0817-4251-c087-c7dc65207b25"
      },
      "execution_count": 121,
      "outputs": [
        {
          "output_type": "execute_result",
          "data": {
            "text/plain": [
              "dict_keys(['data', 'target', 'frame', 'DESCR', 'feature_names', 'data_filename', 'target_filename', 'data_module'])"
            ]
          },
          "metadata": {},
          "execution_count": 121
        }
      ]
    },
    {
      "cell_type": "code",
      "source": [
        "print(diabetes.DESCR)"
      ],
      "metadata": {
        "colab": {
          "base_uri": "https://localhost:8080/"
        },
        "id": "Lp7hulfHXRJe",
        "outputId": "51e99ecb-f1d8-49e4-bd14-f260ef6a38a6"
      },
      "execution_count": 122,
      "outputs": [
        {
          "output_type": "stream",
          "name": "stdout",
          "text": [
            ".. _diabetes_dataset:\n",
            "\n",
            "Diabetes dataset\n",
            "----------------\n",
            "\n",
            "Ten baseline variables, age, sex, body mass index, average blood\n",
            "pressure, and six blood serum measurements were obtained for each of n =\n",
            "442 diabetes patients, as well as the response of interest, a\n",
            "quantitative measure of disease progression one year after baseline.\n",
            "\n",
            "**Data Set Characteristics:**\n",
            "\n",
            "  :Number of Instances: 442\n",
            "\n",
            "  :Number of Attributes: First 10 columns are numeric predictive values\n",
            "\n",
            "  :Target: Column 11 is a quantitative measure of disease progression one year after baseline\n",
            "\n",
            "  :Attribute Information:\n",
            "      - age     age in years\n",
            "      - sex\n",
            "      - bmi     body mass index\n",
            "      - bp      average blood pressure\n",
            "      - s1      tc, total serum cholesterol\n",
            "      - s2      ldl, low-density lipoproteins\n",
            "      - s3      hdl, high-density lipoproteins\n",
            "      - s4      tch, total cholesterol / HDL\n",
            "      - s5      ltg, possibly log of serum triglycerides level\n",
            "      - s6      glu, blood sugar level\n",
            "\n",
            "Note: Each of these 10 feature variables have been mean centered and scaled by the standard deviation times `n_samples` (i.e. the sum of squares of each column totals 1).\n",
            "\n",
            "Source URL:\n",
            "https://www4.stat.ncsu.edu/~boos/var.select/diabetes.html\n",
            "\n",
            "For more information see:\n",
            "Bradley Efron, Trevor Hastie, Iain Johnstone and Robert Tibshirani (2004) \"Least Angle Regression,\" Annals of Statistics (with discussion), 407-499.\n",
            "(https://web.stanford.edu/~hastie/Papers/LARS/LeastAngle_2002.pdf)\n"
          ]
        }
      ]
    },
    {
      "cell_type": "code",
      "source": [
        "df_X = diabetes.data\n",
        "df_y = diabetes.target\n",
        "\n",
        "print(df_X.shape)\n",
        "print(df_y.shape)"
      ],
      "metadata": {
        "colab": {
          "base_uri": "https://localhost:8080/"
        },
        "id": "INmX6lWz9D5W",
        "outputId": "916331d6-16f9-4fbf-fbcf-8117e1e54bc8"
      },
      "execution_count": 123,
      "outputs": [
        {
          "output_type": "stream",
          "name": "stdout",
          "text": [
            "(442, 10)\n",
            "(442,)\n"
          ]
        }
      ]
    },
    {
      "cell_type": "markdown",
      "source": [
        "**모델에 예측할 데이터 X와 y 준비하기**"
      ],
      "metadata": {
        "id": "PC_X7AlPAWPV"
      }
    },
    {
      "cell_type": "code",
      "source": [
        "import numpy as np\n",
        "X = np.array(df_X)  # df_X에 있는 값들을 numpy array로 변환해서 저장\n",
        "y = np.array(df_y)  # df_y에 있는 값들을 numpy array로 변환해서 저장\n",
        "\n",
        "print(X)\n",
        "print(y)"
      ],
      "metadata": {
        "colab": {
          "base_uri": "https://localhost:8080/"
        },
        "id": "IKAnlV8N9j7u",
        "outputId": "7c5e2149-a9a1-40a3-b590-75eb490cc840"
      },
      "execution_count": 124,
      "outputs": [
        {
          "output_type": "stream",
          "name": "stdout",
          "text": [
            "[[ 0.03807591  0.05068012  0.06169621 ... -0.00259226  0.01990842\n",
            "  -0.01764613]\n",
            " [-0.00188202 -0.04464164 -0.05147406 ... -0.03949338 -0.06832974\n",
            "  -0.09220405]\n",
            " [ 0.08529891  0.05068012  0.04445121 ... -0.00259226  0.00286377\n",
            "  -0.02593034]\n",
            " ...\n",
            " [ 0.04170844  0.05068012 -0.01590626 ... -0.01107952 -0.04687948\n",
            "   0.01549073]\n",
            " [-0.04547248 -0.04464164  0.03906215 ...  0.02655962  0.04452837\n",
            "  -0.02593034]\n",
            " [-0.04547248 -0.04464164 -0.0730303  ... -0.03949338 -0.00421986\n",
            "   0.00306441]]\n",
            "[151.  75. 141. 206. 135.  97. 138.  63. 110. 310. 101.  69. 179. 185.\n",
            " 118. 171. 166. 144.  97. 168.  68.  49.  68. 245. 184. 202. 137.  85.\n",
            " 131. 283. 129.  59. 341.  87.  65. 102. 265. 276. 252.  90. 100.  55.\n",
            "  61.  92. 259.  53. 190. 142.  75. 142. 155. 225.  59. 104. 182. 128.\n",
            "  52.  37. 170. 170.  61. 144.  52. 128.  71. 163. 150.  97. 160. 178.\n",
            "  48. 270. 202. 111.  85.  42. 170. 200. 252. 113. 143.  51.  52. 210.\n",
            "  65. 141.  55. 134.  42. 111.  98. 164.  48.  96.  90. 162. 150. 279.\n",
            "  92.  83. 128. 102. 302. 198.  95.  53. 134. 144. 232.  81. 104.  59.\n",
            " 246. 297. 258. 229. 275. 281. 179. 200. 200. 173. 180.  84. 121. 161.\n",
            "  99. 109. 115. 268. 274. 158. 107.  83. 103. 272.  85. 280. 336. 281.\n",
            " 118. 317. 235.  60. 174. 259. 178. 128.  96. 126. 288.  88. 292.  71.\n",
            " 197. 186.  25.  84.  96. 195.  53. 217. 172. 131. 214.  59.  70. 220.\n",
            " 268. 152.  47.  74. 295. 101. 151. 127. 237. 225.  81. 151. 107.  64.\n",
            " 138. 185. 265. 101. 137. 143. 141.  79. 292. 178.  91. 116.  86. 122.\n",
            "  72. 129. 142.  90. 158.  39. 196. 222. 277.  99. 196. 202. 155.  77.\n",
            " 191.  70.  73.  49.  65. 263. 248. 296. 214. 185.  78.  93. 252. 150.\n",
            "  77. 208.  77. 108. 160.  53. 220. 154. 259.  90. 246. 124.  67.  72.\n",
            " 257. 262. 275. 177.  71.  47. 187. 125.  78.  51. 258. 215. 303. 243.\n",
            "  91. 150. 310. 153. 346.  63.  89.  50.  39. 103. 308. 116. 145.  74.\n",
            "  45. 115. 264.  87. 202. 127. 182. 241.  66.  94. 283.  64. 102. 200.\n",
            " 265.  94. 230. 181. 156. 233.  60. 219.  80.  68. 332. 248.  84. 200.\n",
            "  55.  85.  89.  31. 129.  83. 275.  65. 198. 236. 253. 124.  44. 172.\n",
            " 114. 142. 109. 180. 144. 163. 147.  97. 220. 190. 109. 191. 122. 230.\n",
            " 242. 248. 249. 192. 131. 237.  78. 135. 244. 199. 270. 164.  72.  96.\n",
            " 306.  91. 214.  95. 216. 263. 178. 113. 200. 139. 139.  88. 148.  88.\n",
            " 243.  71.  77. 109. 272.  60.  54. 221.  90. 311. 281. 182. 321.  58.\n",
            " 262. 206. 233. 242. 123. 167.  63. 197.  71. 168. 140. 217. 121. 235.\n",
            " 245.  40.  52. 104. 132.  88.  69. 219.  72. 201. 110.  51. 277.  63.\n",
            " 118.  69. 273. 258.  43. 198. 242. 232. 175.  93. 168. 275. 293. 281.\n",
            "  72. 140. 189. 181. 209. 136. 261. 113. 131. 174. 257.  55.  84.  42.\n",
            " 146. 212. 233.  91. 111. 152. 120.  67. 310.  94. 183.  66. 173.  72.\n",
            "  49.  64.  48. 178. 104. 132. 220.  57.]\n"
          ]
        }
      ]
    },
    {
      "cell_type": "markdown",
      "source": [
        "**train 데이터와 test 데이터로 분리하기**"
      ],
      "metadata": {
        "id": "9WE1HS75D3hm"
      }
    },
    {
      "cell_type": "code",
      "source": [
        "from sklearn.model_selection import train_test_split\n",
        "X_train, X_test, y_train, y_test = train_test_split(X, y, test_size=0.2, random_state=42)\n",
        "print(\"가자고~~!!\")\n",
        "\n",
        "print(X_train.shape, y_train.shape)\n",
        "print(X_test.shape, y_test.shape)"
      ],
      "metadata": {
        "colab": {
          "base_uri": "https://localhost:8080/"
        },
        "id": "0H8i6tzXsUrr",
        "outputId": "77e16316-aa02-4701-f390-f316b0985154"
      },
      "execution_count": 125,
      "outputs": [
        {
          "output_type": "stream",
          "name": "stdout",
          "text": [
            "가자고~~!!\n",
            "(353, 10) (353,)\n",
            "(89, 10) (89,)\n"
          ]
        }
      ]
    },
    {
      "cell_type": "markdown",
      "source": [
        "**모델 준비하기**"
      ],
      "metadata": {
        "id": "w2rkSHdZqQM0"
      }
    },
    {
      "cell_type": "code",
      "source": [
        "w = np.random.rand(10)\n",
        "b = np.random.rand()\n",
        "\n",
        "print(w)\n",
        "print(b)"
      ],
      "metadata": {
        "colab": {
          "base_uri": "https://localhost:8080/"
        },
        "id": "LkwhNBjn3dsY",
        "outputId": "34dfc917-f69c-431f-dd8a-85ea13fe0fbb"
      },
      "execution_count": 126,
      "outputs": [
        {
          "output_type": "stream",
          "name": "stdout",
          "text": [
            "[0.25398116 0.05113852 0.36451897 0.03161889 0.58218954 0.87337814\n",
            " 0.76365114 0.68766609 0.41828858 0.33947373]\n",
            "0.12135071596827307\n"
          ]
        }
      ]
    },
    {
      "cell_type": "code",
      "source": [
        "def model(X, w, b):\n",
        "    predictions = 0\n",
        "    for i in range(10):\n",
        "        predictions += X[:, i]\n",
        "    predictions += b\n",
        "    return predictions\n",
        "print(\"나 그냥 갈까?\")\n"
      ],
      "metadata": {
        "colab": {
          "base_uri": "https://localhost:8080/"
        },
        "id": "t4dpjXvlCaaY",
        "outputId": "fd9f6331-ccdb-4eaa-dc2f-e2c4dcdb1c1d"
      },
      "execution_count": 127,
      "outputs": [
        {
          "output_type": "stream",
          "name": "stdout",
          "text": [
            "나 그냥 갈까?\n"
          ]
        }
      ]
    },
    {
      "cell_type": "markdown",
      "source": [
        "**손실함수 loss정의하기**"
      ],
      "metadata": {
        "id": "RSdNZFZEvMPo"
      }
    },
    {
      "cell_type": "code",
      "source": [
        "def MSE(a, b):\n",
        "    mse = ((a-b) ** 2).mean() # 두 값의 차이의 제곱의 평균\n",
        "    return mse\n",
        "print(\"왔으요?\")"
      ],
      "metadata": {
        "colab": {
          "base_uri": "https://localhost:8080/"
        },
        "id": "u5g8-_irvY-p",
        "outputId": "82d70225-a5f8-4a56-9346-79992eb553e1"
      },
      "execution_count": 128,
      "outputs": [
        {
          "output_type": "stream",
          "name": "stdout",
          "text": [
            "왔으요?\n"
          ]
        }
      ]
    },
    {
      "cell_type": "code",
      "source": [
        "def loss(X, w, b, y):\n",
        "    predictions = model(X, w, b)\n",
        "    L = MSE(predictions, y)\n",
        "    return L\n",
        "    print(\"갈끄나?\")"
      ],
      "metadata": {
        "id": "IkC8pCyXKyib"
      },
      "execution_count": 129,
      "outputs": []
    },
    {
      "cell_type": "markdown",
      "source": [
        "**기울기를 구하는 gradient 함수 구현하기**"
      ],
      "metadata": {
        "id": "U5YPG_fL02mh"
      }
    },
    {
      "cell_type": "code",
      "source": [
        "def gradient(X, w, b, y):\n",
        "    #N은 가중치의 개수\n",
        "    N = len(w)\n",
        "\n",
        "    # y_pred 준비\n",
        "    y_pred = model(X,w, b)\n",
        "\n",
        "    # 공식에 맞게 gradient 계산\n",
        "    dw = 1/N * 2 * X.T.dot(y_pred - y)\n",
        "\n",
        "    db = 2 * (y_pred - y).mean()\n",
        "    return dw, db \n",
        "print(\"잔다~\")"
      ],
      "metadata": {
        "colab": {
          "base_uri": "https://localhost:8080/"
        },
        "id": "f-05-by1Esky",
        "outputId": "b8637579-2a34-4ba6-b5a0-91c63aade166"
      },
      "execution_count": 130,
      "outputs": [
        {
          "output_type": "stream",
          "name": "stdout",
          "text": [
            "잔다~\n"
          ]
        }
      ]
    },
    {
      "cell_type": "code",
      "source": [
        "dw, db = gradient(X, w, b, y)\n",
        "print(\"dw:\", dw)\n",
        "print(\"db:\", db)"
      ],
      "metadata": {
        "colab": {
          "base_uri": "https://localhost:8080/"
        },
        "id": "b4TJnriKSIpp",
        "outputId": "d45798c9-f015-485c-bc31-ad81bc9e51df"
      },
      "execution_count": 131,
      "outputs": [
        {
          "output_type": "stream",
          "name": "stdout",
          "text": [
            "dw: [ -60.26167087  -13.54469074 -189.27476348 -142.29579226  -67.827052\n",
            "  -55.60140134  127.51794675 -138.63540264 -182.47211734 -123.14186894]\n",
            "db: -304.0242668938553\n"
          ]
        }
      ]
    },
    {
      "cell_type": "markdown",
      "source": [
        "**하이퍼 파라미터인 학습률 설정하기**"
      ],
      "metadata": {
        "id": "6ksusZOdHzU1"
      }
    },
    {
      "cell_type": "code",
      "source": [
        "LEARNING_RATE =0.01"
      ],
      "metadata": {
        "id": "KNh71Y79ICmN"
      },
      "execution_count": 132,
      "outputs": []
    },
    {
      "cell_type": "code",
      "source": [
        "losses = []\n",
        "\n",
        "for i in range(1, 1501):\n",
        "    dw, db = gradient(X_train, w, b, y_train)\n",
        "    w -= LEARNING_RATE * dw\n",
        "    b -= LEARNING_RATE * db\n",
        "    L = loss(X_train, w, b, y_train)\n",
        "    losses.append(L)\n",
        "    if i % 10 == 0:\n",
        "        print('Iteration %d : Loss %0.4f' % (i, L))\n"
      ],
      "metadata": {
        "colab": {
          "base_uri": "https://localhost:8080/"
        },
        "id": "OoZEfJwEIVt-",
        "outputId": "e80cf121-357a-4409-c851-5b681d1bb696"
      },
      "execution_count": 133,
      "outputs": [
        {
          "output_type": "stream",
          "name": "stdout",
          "text": [
            "Iteration 10 : Loss 21809.9500\n",
            "Iteration 20 : Loss 16573.8447\n",
            "Iteration 30 : Loss 13078.1790\n",
            "Iteration 40 : Loss 10744.4448\n",
            "Iteration 50 : Loss 9186.4252\n",
            "Iteration 60 : Loss 8146.2789\n",
            "Iteration 70 : Loss 7451.8689\n",
            "Iteration 80 : Loss 6988.2753\n",
            "Iteration 90 : Loss 6678.7765\n",
            "Iteration 100 : Loss 6472.1526\n",
            "Iteration 110 : Loss 6334.2089\n",
            "Iteration 120 : Loss 6242.1165\n",
            "Iteration 130 : Loss 6180.6349\n",
            "Iteration 140 : Loss 6139.5893\n",
            "Iteration 150 : Loss 6112.1870\n",
            "Iteration 160 : Loss 6093.8929\n",
            "Iteration 170 : Loss 6081.6797\n",
            "Iteration 180 : Loss 6073.5260\n",
            "Iteration 190 : Loss 6068.0826\n",
            "Iteration 200 : Loss 6064.4485\n",
            "Iteration 210 : Loss 6062.0224\n",
            "Iteration 220 : Loss 6060.4026\n",
            "Iteration 230 : Loss 6059.3213\n",
            "Iteration 240 : Loss 6058.5994\n",
            "Iteration 250 : Loss 6058.1174\n",
            "Iteration 260 : Loss 6057.7957\n",
            "Iteration 270 : Loss 6057.5809\n",
            "Iteration 280 : Loss 6057.4375\n",
            "Iteration 290 : Loss 6057.3417\n",
            "Iteration 300 : Loss 6057.2778\n",
            "Iteration 310 : Loss 6057.2352\n",
            "Iteration 320 : Loss 6057.2067\n",
            "Iteration 330 : Loss 6057.1876\n",
            "Iteration 340 : Loss 6057.1749\n",
            "Iteration 350 : Loss 6057.1665\n",
            "Iteration 360 : Loss 6057.1608\n",
            "Iteration 370 : Loss 6057.1570\n",
            "Iteration 380 : Loss 6057.1545\n",
            "Iteration 390 : Loss 6057.1528\n",
            "Iteration 400 : Loss 6057.1517\n",
            "Iteration 410 : Loss 6057.1510\n",
            "Iteration 420 : Loss 6057.1505\n",
            "Iteration 430 : Loss 6057.1501\n",
            "Iteration 440 : Loss 6057.1499\n",
            "Iteration 450 : Loss 6057.1497\n",
            "Iteration 460 : Loss 6057.1496\n",
            "Iteration 470 : Loss 6057.1496\n",
            "Iteration 480 : Loss 6057.1495\n",
            "Iteration 490 : Loss 6057.1495\n",
            "Iteration 500 : Loss 6057.1495\n",
            "Iteration 510 : Loss 6057.1495\n",
            "Iteration 520 : Loss 6057.1495\n",
            "Iteration 530 : Loss 6057.1495\n",
            "Iteration 540 : Loss 6057.1495\n",
            "Iteration 550 : Loss 6057.1495\n",
            "Iteration 560 : Loss 6057.1494\n",
            "Iteration 570 : Loss 6057.1494\n",
            "Iteration 580 : Loss 6057.1494\n",
            "Iteration 590 : Loss 6057.1494\n",
            "Iteration 600 : Loss 6057.1494\n",
            "Iteration 610 : Loss 6057.1494\n",
            "Iteration 620 : Loss 6057.1494\n",
            "Iteration 630 : Loss 6057.1494\n",
            "Iteration 640 : Loss 6057.1494\n",
            "Iteration 650 : Loss 6057.1494\n",
            "Iteration 660 : Loss 6057.1494\n",
            "Iteration 670 : Loss 6057.1494\n",
            "Iteration 680 : Loss 6057.1494\n",
            "Iteration 690 : Loss 6057.1494\n",
            "Iteration 700 : Loss 6057.1494\n",
            "Iteration 710 : Loss 6057.1494\n",
            "Iteration 720 : Loss 6057.1494\n",
            "Iteration 730 : Loss 6057.1494\n",
            "Iteration 740 : Loss 6057.1494\n",
            "Iteration 750 : Loss 6057.1494\n",
            "Iteration 760 : Loss 6057.1494\n",
            "Iteration 770 : Loss 6057.1494\n",
            "Iteration 780 : Loss 6057.1494\n",
            "Iteration 790 : Loss 6057.1494\n",
            "Iteration 800 : Loss 6057.1494\n",
            "Iteration 810 : Loss 6057.1494\n",
            "Iteration 820 : Loss 6057.1494\n",
            "Iteration 830 : Loss 6057.1494\n",
            "Iteration 840 : Loss 6057.1494\n",
            "Iteration 850 : Loss 6057.1494\n",
            "Iteration 860 : Loss 6057.1494\n",
            "Iteration 870 : Loss 6057.1494\n",
            "Iteration 880 : Loss 6057.1494\n",
            "Iteration 890 : Loss 6057.1494\n",
            "Iteration 900 : Loss 6057.1494\n",
            "Iteration 910 : Loss 6057.1494\n",
            "Iteration 920 : Loss 6057.1494\n",
            "Iteration 930 : Loss 6057.1494\n",
            "Iteration 940 : Loss 6057.1494\n",
            "Iteration 950 : Loss 6057.1494\n",
            "Iteration 960 : Loss 6057.1494\n",
            "Iteration 970 : Loss 6057.1494\n",
            "Iteration 980 : Loss 6057.1494\n",
            "Iteration 990 : Loss 6057.1494\n",
            "Iteration 1000 : Loss 6057.1494\n",
            "Iteration 1010 : Loss 6057.1494\n",
            "Iteration 1020 : Loss 6057.1494\n",
            "Iteration 1030 : Loss 6057.1494\n",
            "Iteration 1040 : Loss 6057.1494\n",
            "Iteration 1050 : Loss 6057.1494\n",
            "Iteration 1060 : Loss 6057.1494\n",
            "Iteration 1070 : Loss 6057.1494\n",
            "Iteration 1080 : Loss 6057.1494\n",
            "Iteration 1090 : Loss 6057.1494\n",
            "Iteration 1100 : Loss 6057.1494\n",
            "Iteration 1110 : Loss 6057.1494\n",
            "Iteration 1120 : Loss 6057.1494\n",
            "Iteration 1130 : Loss 6057.1494\n",
            "Iteration 1140 : Loss 6057.1494\n",
            "Iteration 1150 : Loss 6057.1494\n",
            "Iteration 1160 : Loss 6057.1494\n",
            "Iteration 1170 : Loss 6057.1494\n",
            "Iteration 1180 : Loss 6057.1494\n",
            "Iteration 1190 : Loss 6057.1494\n",
            "Iteration 1200 : Loss 6057.1494\n",
            "Iteration 1210 : Loss 6057.1494\n",
            "Iteration 1220 : Loss 6057.1494\n",
            "Iteration 1230 : Loss 6057.1494\n",
            "Iteration 1240 : Loss 6057.1494\n",
            "Iteration 1250 : Loss 6057.1494\n",
            "Iteration 1260 : Loss 6057.1494\n",
            "Iteration 1270 : Loss 6057.1494\n",
            "Iteration 1280 : Loss 6057.1494\n",
            "Iteration 1290 : Loss 6057.1494\n",
            "Iteration 1300 : Loss 6057.1494\n",
            "Iteration 1310 : Loss 6057.1494\n",
            "Iteration 1320 : Loss 6057.1494\n",
            "Iteration 1330 : Loss 6057.1494\n",
            "Iteration 1340 : Loss 6057.1494\n",
            "Iteration 1350 : Loss 6057.1494\n",
            "Iteration 1360 : Loss 6057.1494\n",
            "Iteration 1370 : Loss 6057.1494\n",
            "Iteration 1380 : Loss 6057.1494\n",
            "Iteration 1390 : Loss 6057.1494\n",
            "Iteration 1400 : Loss 6057.1494\n",
            "Iteration 1410 : Loss 6057.1494\n",
            "Iteration 1420 : Loss 6057.1494\n",
            "Iteration 1430 : Loss 6057.1494\n",
            "Iteration 1440 : Loss 6057.1494\n",
            "Iteration 1450 : Loss 6057.1494\n",
            "Iteration 1460 : Loss 6057.1494\n",
            "Iteration 1470 : Loss 6057.1494\n",
            "Iteration 1480 : Loss 6057.1494\n",
            "Iteration 1490 : Loss 6057.1494\n",
            "Iteration 1500 : Loss 6057.1494\n"
          ]
        }
      ]
    },
    {
      "cell_type": "markdown",
      "source": [
        "모델 **학습하기**"
      ],
      "metadata": {
        "id": "55KSlTvJMiYI"
      }
    },
    {
      "cell_type": "code",
      "source": [
        "# 정의된 손실함수와 기울기 함수로 모델을 학습\n",
        "import matplotlib.pyplot as plt\n",
        "plt.plot(losses)\n",
        "plt.show()"
      ],
      "metadata": {
        "colab": {
          "base_uri": "https://localhost:8080/",
          "height": 265
        },
        "id": "ciO7DivcMoLb",
        "outputId": "3e78828e-9bea-485e-bde5-28b43eb5a032"
      },
      "execution_count": 134,
      "outputs": [
        {
          "output_type": "display_data",
          "data": {
            "text/plain": [
              "<Figure size 432x288 with 1 Axes>"
            ],
            "image/png": "[encoded data removed]"
          },
          "metadata": {
            "needs_background": "light"
          }
        }
      ]
    },
    {
      "cell_type": "markdown",
      "source": [
        "**test 데이터에 대한 성능 확인**"
      ],
      "metadata": {
        "id": "PJCPo4jmWLRS"
      }
    },
    {
      "cell_type": "code",
      "source": [
        "w, b"
      ],
      "metadata": {
        "colab": {
          "base_uri": "https://localhost:8080/"
        },
        "id": "fn-b67nbWJAd",
        "outputId": "fb5ea6d4-751d-41a8-bc56-eb05d70b226f"
      },
      "execution_count": 135,
      "outputs": [
        {
          "output_type": "execute_result",
          "data": {
            "text/plain": [
              "(array([  752.0384918 ,    24.73758543,  2359.15652391,  1775.82099674,\n",
              "          773.62932718,   595.86138473, -1490.35681712,  1668.55324417,\n",
              "         2174.93700224,  1558.92008422]), 153.7308701399846)"
            ]
          },
          "metadata": {},
          "execution_count": 135
        }
      ]
    },
    {
      "cell_type": "code",
      "source": [
        "prediction = model(X_test, w, b)\n",
        "mse = loss(X_test, w, b, y_test)\n",
        "mse"
      ],
      "metadata": {
        "colab": {
          "base_uri": "https://localhost:8080/"
        },
        "id": "boBuCZSGYkPa",
        "outputId": "58cfa50e-3cfe-4c51-a622-5a3e99c9cc2f"
      },
      "execution_count": 136,
      "outputs": [
        {
          "output_type": "execute_result",
          "data": {
            "text/plain": [
              "5342.464020810699"
            ]
          },
          "metadata": {},
          "execution_count": 136
        }
      ]
    },
    {
      "cell_type": "code",
      "source": [
        "plt.scatter(X_test[:, 0], y_test)\n",
        "plt.scatter(X_test[:, 0], prediction)\n",
        "plt.show()"
      ],
      "metadata": {
        "colab": {
          "base_uri": "https://localhost:8080/",
          "height": 265
        },
        "id": "rc1jgX6qWcwt",
        "outputId": "d9982b10-26bc-4467-fef3-60a5d4a0dcff"
      },
      "execution_count": 137,
      "outputs": [
        {
          "output_type": "display_data",
          "data": {
            "text/plain": [
              "<Figure size 432x288 with 1 Axes>"
            ],
            "image/png": "[encoded data removed]"
          },
          "metadata": {
            "needs_background": "light"
          }
        }
      ]
    },
    {
      "cell_type": "markdown",
      "source": [
        "# 프로젝트 2. 날씨좋은 월요일 오후 세시,\n",
        "자전거 타는 사람은 몇 명?"
      ],
      "metadata": {
        "id": "NSz06v0dfrfT"
      }
    },
    {
      "cell_type": "markdown",
      "source": [
        "**데이터 가져오기**"
      ],
      "metadata": {
        "id": "7HproFz5gfz7"
      }
    },
    {
      "cell_type": "code",
      "source": [
        "train = pd.read_csv('/content/train.csv')\n",
        "train.head()"
      ],
      "metadata": {
        "colab": {
          "base_uri": "https://localhost:8080/",
          "height": 444
        },
        "id": "rp7LVBotjozi",
        "outputId": "c8340973-3e63-46c6-ba53-715a4d5b8dda"
      },
      "execution_count": 138,
      "outputs": [
        {
          "output_type": "execute_result",
          "data": {
            "text/plain": [
              "              datetime  season  holiday  workingday  weather  temp   atemp  \\\n",
              "0  2011-01-01 00:00:00       1        0           0        1  9.84  14.395   \n",
              "1  2011-01-01 01:00:00       1        0           0        1  9.02  13.635   \n",
              "2  2011-01-01 02:00:00       1        0           0        1  9.02  13.635   \n",
              "3  2011-01-01 03:00:00       1        0           0        1  9.84  14.395   \n",
              "4  2011-01-01 04:00:00       1        0           0        1  9.84  14.395   \n",
              "\n",
              "   humidity  windspeed  casual  registered  count  \n",
              "0        81        0.0       3          13     16  \n",
              "1        80        0.0       8          32     40  \n",
              "2        80        0.0       5          27     32  \n",
              "3        75        0.0       3          10     13  \n",
              "4        75        0.0       0           1      1  "
            ],
            "text/html": [
              "\n",
              "  <div id=\"df-ee047bb3-ae1c-4eb5-b715-166ea4749c8c\">\n",
              "    <div class=\"colab-df-container\">\n",
              "      <div>\n",
              "<style scoped>\n",
              "    .dataframe tbody tr th:only-of-type {\n",
              "        vertical-align: middle;\n",
              "    }\n",
              "\n",
              "    .dataframe tbody tr th {\n",
              "        vertical-align: top;\n",
              "    }\n",
              "\n",
              "    .dataframe thead th {\n",
              "        text-align: right;\n",
              "    }\n",
              "</style>\n",
              "<table border=\"1\" class=\"dataframe\">\n",
              "  <thead>\n",
              "    <tr style=\"text-align: right;\">\n",
              "      <th></th>\n",
              "      <th>datetime</th>\n",
              "      <th>season</th>\n",
              "      <th>holiday</th>\n",
              "      <th>workingday</th>\n",
              "      <th>weather</th>\n",
              "      <th>temp</th>\n",
              "      <th>atemp</th>\n",
              "      <th>humidity</th>\n",
              "      <th>windspeed</th>\n",
              "      <th>casual</th>\n",
              "      <th>registered</th>\n",
              "      <th>count</th>\n",
              "    </tr>\n",
              "  </thead>\n",
              "  <tbody>\n",
              "    <tr>\n",
              "      <th>0</th>\n",
              "      <td>2011-01-01 00:00:00</td>\n",
              "      <td>1</td>\n",
              "      <td>0</td>\n",
              "      <td>0</td>\n",
              "      <td>1</td>\n",
              "      <td>9.84</td>\n",
              "      <td>14.395</td>\n",
              "      <td>81</td>\n",
              "      <td>0.0</td>\n",
              "      <td>3</td>\n",
              "      <td>13</td>\n",
              "      <td>16</td>\n",
              "    </tr>\n",
              "    <tr>\n",
              "      <th>1</th>\n",
              "      <td>2011-01-01 01:00:00</td>\n",
              "      <td>1</td>\n",
              "      <td>0</td>\n",
              "      <td>0</td>\n",
              "      <td>1</td>\n",
              "      <td>9.02</td>\n",
              "      <td>13.635</td>\n",
              "      <td>80</td>\n",
              "      <td>0.0</td>\n",
              "      <td>8</td>\n",
              "      <td>32</td>\n",
              "      <td>40</td>\n",
              "    </tr>\n",
              "    <tr>\n",
              "      <th>2</th>\n",
              "      <td>2011-01-01 02:00:00</td>\n",
              "      <td>1</td>\n",
              "      <td>0</td>\n",
              "      <td>0</td>\n",
              "      <td>1</td>\n",
              "      <td>9.02</td>\n",
              "      <td>13.635</td>\n",
              "      <td>80</td>\n",
              "      <td>0.0</td>\n",
              "      <td>5</td>\n",
              "      <td>27</td>\n",
              "      <td>32</td>\n",
              "    </tr>\n",
              "    <tr>\n",
              "      <th>3</th>\n",
              "      <td>2011-01-01 03:00:00</td>\n",
              "      <td>1</td>\n",
              "      <td>0</td>\n",
              "      <td>0</td>\n",
              "      <td>1</td>\n",
              "      <td>9.84</td>\n",
              "      <td>14.395</td>\n",
              "      <td>75</td>\n",
              "      <td>0.0</td>\n",
              "      <td>3</td>\n",
              "      <td>10</td>\n",
              "      <td>13</td>\n",
              "    </tr>\n",
              "    <tr>\n",
              "      <th>4</th>\n",
              "      <td>2011-01-01 04:00:00</td>\n",
              "      <td>1</td>\n",
              "      <td>0</td>\n",
              "      <td>0</td>\n",
              "      <td>1</td>\n",
              "      <td>9.84</td>\n",
              "      <td>14.395</td>\n",
              "      <td>75</td>\n",
              "      <td>0.0</td>\n",
              "      <td>0</td>\n",
              "      <td>1</td>\n",
              "      <td>1</td>\n",
              "    </tr>\n",
              "  </tbody>\n",
              "</table>\n",
              "</div>\n",
              "      <button class=\"colab-df-convert\" onclick=\"convertToInteractive('df-ee047bb3-ae1c-4eb5-b715-166ea4749c8c')\"\n",
              "              title=\"Convert this dataframe to an interactive table.\"\n",
              "              style=\"display:none;\">\n",
              "        \n",
              "  <svg xmlns=\"http://www.w3.org/2000/svg\" height=\"24px\"viewBox=\"0 0 24 24\"\n",
              "       width=\"24px\">\n",
              "    <path d=\"M0 0h24v24H0V0z\" fill=\"none\"/>\n",
              "    <path d=\"M18.56 5.44l.94 2.06.94-2.06 2.06-.94-2.06-.94-.94-2.06-.94 2.06-2.06.94zm-11 1L8.5 8.5l.94-2.06 2.06-.94-2.06-.94L8.5 2.5l-.94 2.06-2.06.94zm10 10l.94 2.06.94-2.06 2.06-.94-2.06-.94-.94-2.06-.94 2.06-2.06.94z\"/><path d=\"M17.41 7.96l-1.37-1.37c-.4-.4-.92-.59-1.43-.59-.52 0-1.04.2-1.43.59L10.3 9.45l-7.72 7.72c-.78.78-.78 2.05 0 2.83L4 21.41c.39.39.9.59 1.41.59.51 0 1.02-.2 1.41-.59l7.78-7.78 2.81-2.81c.8-.78.8-2.07 0-2.86zM5.41 20L4 18.59l7.72-7.72 1.47 1.35L5.41 20z\"/>\n",
              "  </svg>\n",
              "      </button>\n",
              "      \n",
              "  <style>\n",
              "    .colab-df-container {\n",
              "      display:flex;\n",
              "      flex-wrap:wrap;\n",
              "      gap: 12px;\n",
              "    }\n",
              "\n",
              "    .colab-df-convert {\n",
              "      background-color: #E8F0FE;\n",
              "      border: none;\n",
              "      border-radius: 50%;\n",
              "      cursor: pointer;\n",
              "      display: none;\n",
              "      fill: #1967D2;\n",
              "      height: 32px;\n",
              "      padding: 0 0 0 0;\n",
              "      width: 32px;\n",
              "    }\n",
              "\n",
              "    .colab-df-convert:hover {\n",
              "      background-color: #E2EBFA;\n",
              "      box-shadow: 0px 1px 2px rgba(60, 64, 67, 0.3), 0px 1px 3px 1px rgba(60, 64, 67, 0.15);\n",
              "      fill: #174EA6;\n",
              "    }\n",
              "\n",
              "    [theme=dark] .colab-df-convert {\n",
              "      background-color: #3B4455;\n",
              "      fill: #D2E3FC;\n",
              "    }\n",
              "\n",
              "    [theme=dark] .colab-df-convert:hover {\n",
              "      background-color: #434B5C;\n",
              "      box-shadow: 0px 1px 3px 1px rgba(0, 0, 0, 0.15);\n",
              "      filter: drop-shadow(0px 1px 2px rgba(0, 0, 0, 0.3));\n",
              "      fill: #FFFFFF;\n",
              "    }\n",
              "  </style>\n",
              "\n",
              "      <script>\n",
              "        const buttonEl =\n",
              "          document.querySelector('#df-ee047bb3-ae1c-4eb5-b715-166ea4749c8c button.colab-df-convert');\n",
              "        buttonEl.style.display =\n",
              "          google.colab.kernel.accessAllowed ? 'block' : 'none';\n",
              "\n",
              "        async function convertToInteractive(key) {\n",
              "          const element = document.querySelector('#df-ee047bb3-ae1c-4eb5-b715-166ea4749c8c');\n",
              "          const dataTable =\n",
              "            await google.colab.kernel.invokeFunction('convertToInteractive',\n",
              "                                                     [key], {});\n",
              "          if (!dataTable) return;\n",
              "\n",
              "          const docLinkHtml = 'Like what you see? Visit the ' +\n",
              "            '<a target=\"_blank\" href=https://colab.research.google.com/notebooks/data_table.ipynb>data table notebook</a>'\n",
              "            + ' to learn more about interactive tables.';\n",
              "          element.innerHTML = '';\n",
              "          dataTable['output_type'] = 'display_data';\n",
              "          await google.colab.output.renderOutput(dataTable, element);\n",
              "          const docLink = document.createElement('div');\n",
              "          docLink.innerHTML = docLinkHtml;\n",
              "          element.appendChild(docLink);\n",
              "        }\n",
              "      </script>\n",
              "    </div>\n",
              "  </div>\n",
              "  "
            ]
          },
          "metadata": {},
          "execution_count": 138
        }
      ]
    },
    {
      "cell_type": "code",
      "source": [
        "test = pd.read_csv('/content/test.csv')"
      ],
      "metadata": {
        "id": "WV5_icegjpgl"
      },
      "execution_count": 139,
      "outputs": []
    },
    {
      "cell_type": "markdown",
      "source": [
        "datetime column을 datetime 자료형으로 변환.\n",
        "- 년, 월, 일, 시, 분, 초의 6개의 컬럼 생성**"
      ],
      "metadata": {
        "id": "8KTObIiAlqhI"
      }
    },
    {
      "cell_type": "code",
      "source": [
        "# https://jimmy-ai.tistory.com/156 참조"
      ],
      "metadata": {
        "id": "icWbGNdwkw-Y"
      },
      "execution_count": 140,
      "outputs": []
    },
    {
      "cell_type": "code",
      "source": [
        "train['datetime']"
      ],
      "metadata": {
        "colab": {
          "base_uri": "https://localhost:8080/"
        },
        "id": "8mj2xjAOnD3f",
        "outputId": "4ae27027-0fbf-4d8f-ff62-63dfa74a3313"
      },
      "execution_count": 141,
      "outputs": [
        {
          "output_type": "execute_result",
          "data": {
            "text/plain": [
              "0        2011-01-01 00:00:00\n",
              "1        2011-01-01 01:00:00\n",
              "2        2011-01-01 02:00:00\n",
              "3        2011-01-01 03:00:00\n",
              "4        2011-01-01 04:00:00\n",
              "                ...         \n",
              "10881    2012-12-19 19:00:00\n",
              "10882    2012-12-19 20:00:00\n",
              "10883    2012-12-19 21:00:00\n",
              "10884    2012-12-19 22:00:00\n",
              "10885    2012-12-19 23:00:00\n",
              "Name: datetime, Length: 10886, dtype: object"
            ]
          },
          "metadata": {},
          "execution_count": 141
        }
      ]
    },
    {
      "cell_type": "markdown",
      "source": [
        "type이 object라는 것을 알 수 이다. datetime은 시간 형식이기 때문에, 숫자형으로 바꿔야 한다."
      ],
      "metadata": {
        "id": "2qwjWJ0fnOCp"
      }
    },
    {
      "cell_type": "code",
      "source": [
        "train['datetime'] = pd.to_datetime(train['datetime'])"
      ],
      "metadata": {
        "id": "tXg1eyeVniQT"
      },
      "execution_count": 142,
      "outputs": []
    },
    {
      "cell_type": "code",
      "source": [
        "train['datetime']"
      ],
      "metadata": {
        "colab": {
          "base_uri": "https://localhost:8080/"
        },
        "id": "XRGvWuMYoa0a",
        "outputId": "32cb5e06-3d9e-4471-b0f3-9a313054fcc1"
      },
      "execution_count": 143,
      "outputs": [
        {
          "output_type": "execute_result",
          "data": {
            "text/plain": [
              "0       2011-01-01 00:00:00\n",
              "1       2011-01-01 01:00:00\n",
              "2       2011-01-01 02:00:00\n",
              "3       2011-01-01 03:00:00\n",
              "4       2011-01-01 04:00:00\n",
              "                ...        \n",
              "10881   2012-12-19 19:00:00\n",
              "10882   2012-12-19 20:00:00\n",
              "10883   2012-12-19 21:00:00\n",
              "10884   2012-12-19 22:00:00\n",
              "10885   2012-12-19 23:00:00\n",
              "Name: datetime, Length: 10886, dtype: datetime64[ns]"
            ]
          },
          "metadata": {},
          "execution_count": 143
        }
      ]
    },
    {
      "cell_type": "markdown",
      "source": [
        "**굵은 텍스트**"
      ],
      "metadata": {
        "id": "tfZkor__ondS"
      }
    },
    {
      "cell_type": "code",
      "source": [
        "train['datetime'].dt.year # dt.year이 하나의 명령어이다."
      ],
      "metadata": {
        "colab": {
          "base_uri": "https://localhost:8080/"
        },
        "id": "gr0AovBpofU0",
        "outputId": "5fcd338c-7d65-44c3-b7b1-6d8cf6e5e34b"
      },
      "execution_count": 144,
      "outputs": [
        {
          "output_type": "execute_result",
          "data": {
            "text/plain": [
              "0        2011\n",
              "1        2011\n",
              "2        2011\n",
              "3        2011\n",
              "4        2011\n",
              "         ... \n",
              "10881    2012\n",
              "10882    2012\n",
              "10883    2012\n",
              "10884    2012\n",
              "10885    2012\n",
              "Name: datetime, Length: 10886, dtype: int64"
            ]
          },
          "metadata": {},
          "execution_count": 144
        }
      ]
    },
    {
      "cell_type": "code",
      "source": [
        "train['datetime'].dt.month "
      ],
      "metadata": {
        "colab": {
          "base_uri": "https://localhost:8080/"
        },
        "id": "BEeRPDdypPB5",
        "outputId": "2d4f4cd9-fe99-4d9e-8839-39a18d08e0b2"
      },
      "execution_count": 145,
      "outputs": [
        {
          "output_type": "execute_result",
          "data": {
            "text/plain": [
              "0         1\n",
              "1         1\n",
              "2         1\n",
              "3         1\n",
              "4         1\n",
              "         ..\n",
              "10881    12\n",
              "10882    12\n",
              "10883    12\n",
              "10884    12\n",
              "10885    12\n",
              "Name: datetime, Length: 10886, dtype: int64"
            ]
          },
          "metadata": {},
          "execution_count": 145
        }
      ]
    },
    {
      "cell_type": "code",
      "source": [
        "train['datetime'].dt.day"
      ],
      "metadata": {
        "colab": {
          "base_uri": "https://localhost:8080/"
        },
        "id": "aMZWXHfbpYdU",
        "outputId": "0b2f9940-2f37-4e6b-8f1e-be2a081994e3"
      },
      "execution_count": 146,
      "outputs": [
        {
          "output_type": "execute_result",
          "data": {
            "text/plain": [
              "0         1\n",
              "1         1\n",
              "2         1\n",
              "3         1\n",
              "4         1\n",
              "         ..\n",
              "10881    19\n",
              "10882    19\n",
              "10883    19\n",
              "10884    19\n",
              "10885    19\n",
              "Name: datetime, Length: 10886, dtype: int64"
            ]
          },
          "metadata": {},
          "execution_count": 146
        }
      ]
    },
    {
      "cell_type": "code",
      "source": [
        "train['datetime'].dt.day"
      ],
      "metadata": {
        "colab": {
          "base_uri": "https://localhost:8080/"
        },
        "id": "GTCbV2BspiDp",
        "outputId": "0152acfb-1606-48de-f32a-9ac7cb2b10cb"
      },
      "execution_count": 147,
      "outputs": [
        {
          "output_type": "execute_result",
          "data": {
            "text/plain": [
              "0         1\n",
              "1         1\n",
              "2         1\n",
              "3         1\n",
              "4         1\n",
              "         ..\n",
              "10881    19\n",
              "10882    19\n",
              "10883    19\n",
              "10884    19\n",
              "10885    19\n",
              "Name: datetime, Length: 10886, dtype: int64"
            ]
          },
          "metadata": {},
          "execution_count": 147
        }
      ]
    },
    {
      "cell_type": "code",
      "source": [
        "train['datetime'].dt.hour "
      ],
      "metadata": {
        "colab": {
          "base_uri": "https://localhost:8080/"
        },
        "id": "Pz5FdeJxppZJ",
        "outputId": "d062bb77-c0af-4c37-fbce-3351bcb2d39e"
      },
      "execution_count": 148,
      "outputs": [
        {
          "output_type": "execute_result",
          "data": {
            "text/plain": [
              "0         0\n",
              "1         1\n",
              "2         2\n",
              "3         3\n",
              "4         4\n",
              "         ..\n",
              "10881    19\n",
              "10882    20\n",
              "10883    21\n",
              "10884    22\n",
              "10885    23\n",
              "Name: datetime, Length: 10886, dtype: int64"
            ]
          },
          "metadata": {},
          "execution_count": 148
        }
      ]
    },
    {
      "cell_type": "code",
      "source": [
        "train['datetime'].dt.minute"
      ],
      "metadata": {
        "colab": {
          "base_uri": "https://localhost:8080/"
        },
        "id": "SK4YeatHp1y5",
        "outputId": "30ad614f-0349-4ba7-e0e1-1a28bd0f6e72"
      },
      "execution_count": 149,
      "outputs": [
        {
          "output_type": "execute_result",
          "data": {
            "text/plain": [
              "0        0\n",
              "1        0\n",
              "2        0\n",
              "3        0\n",
              "4        0\n",
              "        ..\n",
              "10881    0\n",
              "10882    0\n",
              "10883    0\n",
              "10884    0\n",
              "10885    0\n",
              "Name: datetime, Length: 10886, dtype: int64"
            ]
          },
          "metadata": {},
          "execution_count": 149
        }
      ]
    },
    {
      "cell_type": "code",
      "source": [
        "train['datetime'].dt.second"
      ],
      "metadata": {
        "colab": {
          "base_uri": "https://localhost:8080/"
        },
        "id": "8Tco35o6qAWV",
        "outputId": "4ea4d395-f7e5-4b4d-b17c-806b64efa0b9"
      },
      "execution_count": 150,
      "outputs": [
        {
          "output_type": "execute_result",
          "data": {
            "text/plain": [
              "0        0\n",
              "1        0\n",
              "2        0\n",
              "3        0\n",
              "4        0\n",
              "        ..\n",
              "10881    0\n",
              "10882    0\n",
              "10883    0\n",
              "10884    0\n",
              "10885    0\n",
              "Name: datetime, Length: 10886, dtype: int64"
            ]
          },
          "metadata": {},
          "execution_count": 150
        }
      ]
    },
    {
      "cell_type": "code",
      "source": [
        "# column 생성\n",
        "\n",
        "train['year'] = train['datetime'].dt.year\n",
        "train['month'] = train['datetime'].dt.month\n",
        "train['day'] = train['datetime'].dt.day\n",
        "train['hour'] = train['datetime'].dt.hour\n",
        "train['minute'] = train['datetime'].dt.minute\n",
        "train['second'] = train['datetime'].dt.second"
      ],
      "metadata": {
        "id": "XW22w4c8qJeH"
      },
      "execution_count": 151,
      "outputs": []
    },
    {
      "cell_type": "code",
      "source": [
        "train.head() # 생성 이상 확인"
      ],
      "metadata": {
        "colab": {
          "base_uri": "https://localhost:8080/",
          "height": 444
        },
        "id": "Cb_J8_VHrjSy",
        "outputId": "46d81b77-8282-4a8f-ac4e-ee50a3c0d4a7"
      },
      "execution_count": 152,
      "outputs": [
        {
          "output_type": "execute_result",
          "data": {
            "text/plain": [
              "             datetime  season  holiday  workingday  weather  temp   atemp  \\\n",
              "0 2011-01-01 00:00:00       1        0           0        1  9.84  14.395   \n",
              "1 2011-01-01 01:00:00       1        0           0        1  9.02  13.635   \n",
              "2 2011-01-01 02:00:00       1        0           0        1  9.02  13.635   \n",
              "3 2011-01-01 03:00:00       1        0           0        1  9.84  14.395   \n",
              "4 2011-01-01 04:00:00       1        0           0        1  9.84  14.395   \n",
              "\n",
              "   humidity  windspeed  casual  registered  count  year  month  day  hour  \\\n",
              "0        81        0.0       3          13     16  2011      1    1     0   \n",
              "1        80        0.0       8          32     40  2011      1    1     1   \n",
              "2        80        0.0       5          27     32  2011      1    1     2   \n",
              "3        75        0.0       3          10     13  2011      1    1     3   \n",
              "4        75        0.0       0           1      1  2011      1    1     4   \n",
              "\n",
              "   minute  second  \n",
              "0       0       0  \n",
              "1       0       0  \n",
              "2       0       0  \n",
              "3       0       0  \n",
              "4       0       0  "
            ],
            "text/html": [
              "\n",
              "  <div id=\"df-67a03136-52e8-4116-924e-70b1bd3806a6\">\n",
              "    <div class=\"colab-df-container\">\n",
              "      <div>\n",
              "<style scoped>\n",
              "    .dataframe tbody tr th:only-of-type {\n",
              "        vertical-align: middle;\n",
              "    }\n",
              "\n",
              "    .dataframe tbody tr th {\n",
              "        vertical-align: top;\n",
              "    }\n",
              "\n",
              "    .dataframe thead th {\n",
              "        text-align: right;\n",
              "    }\n",
              "</style>\n",
              "<table border=\"1\" class=\"dataframe\">\n",
              "  <thead>\n",
              "    <tr style=\"text-align: right;\">\n",
              "      <th></th>\n",
              "      <th>datetime</th>\n",
              "      <th>season</th>\n",
              "      <th>holiday</th>\n",
              "      <th>workingday</th>\n",
              "      <th>weather</th>\n",
              "      <th>temp</th>\n",
              "      <th>atemp</th>\n",
              "      <th>humidity</th>\n",
              "      <th>windspeed</th>\n",
              "      <th>casual</th>\n",
              "      <th>registered</th>\n",
              "      <th>count</th>\n",
              "      <th>year</th>\n",
              "      <th>month</th>\n",
              "      <th>day</th>\n",
              "      <th>hour</th>\n",
              "      <th>minute</th>\n",
              "      <th>second</th>\n",
              "    </tr>\n",
              "  </thead>\n",
              "  <tbody>\n",
              "    <tr>\n",
              "      <th>0</th>\n",
              "      <td>2011-01-01 00:00:00</td>\n",
              "      <td>1</td>\n",
              "      <td>0</td>\n",
              "      <td>0</td>\n",
              "      <td>1</td>\n",
              "      <td>9.84</td>\n",
              "      <td>14.395</td>\n",
              "      <td>81</td>\n",
              "      <td>0.0</td>\n",
              "      <td>3</td>\n",
              "      <td>13</td>\n",
              "      <td>16</td>\n",
              "      <td>2011</td>\n",
              "      <td>1</td>\n",
              "      <td>1</td>\n",
              "      <td>0</td>\n",
              "      <td>0</td>\n",
              "      <td>0</td>\n",
              "    </tr>\n",
              "    <tr>\n",
              "      <th>1</th>\n",
              "      <td>2011-01-01 01:00:00</td>\n",
              "      <td>1</td>\n",
              "      <td>0</td>\n",
              "      <td>0</td>\n",
              "      <td>1</td>\n",
              "      <td>9.02</td>\n",
              "      <td>13.635</td>\n",
              "      <td>80</td>\n",
              "      <td>0.0</td>\n",
              "      <td>8</td>\n",
              "      <td>32</td>\n",
              "      <td>40</td>\n",
              "      <td>2011</td>\n",
              "      <td>1</td>\n",
              "      <td>1</td>\n",
              "      <td>1</td>\n",
              "      <td>0</td>\n",
              "      <td>0</td>\n",
              "    </tr>\n",
              "    <tr>\n",
              "      <th>2</th>\n",
              "      <td>2011-01-01 02:00:00</td>\n",
              "      <td>1</td>\n",
              "      <td>0</td>\n",
              "      <td>0</td>\n",
              "      <td>1</td>\n",
              "      <td>9.02</td>\n",
              "      <td>13.635</td>\n",
              "      <td>80</td>\n",
              "      <td>0.0</td>\n",
              "      <td>5</td>\n",
              "      <td>27</td>\n",
              "      <td>32</td>\n",
              "      <td>2011</td>\n",
              "      <td>1</td>\n",
              "      <td>1</td>\n",
              "      <td>2</td>\n",
              "      <td>0</td>\n",
              "      <td>0</td>\n",
              "    </tr>\n",
              "    <tr>\n",
              "      <th>3</th>\n",
              "      <td>2011-01-01 03:00:00</td>\n",
              "      <td>1</td>\n",
              "      <td>0</td>\n",
              "      <td>0</td>\n",
              "      <td>1</td>\n",
              "      <td>9.84</td>\n",
              "      <td>14.395</td>\n",
              "      <td>75</td>\n",
              "      <td>0.0</td>\n",
              "      <td>3</td>\n",
              "      <td>10</td>\n",
              "      <td>13</td>\n",
              "      <td>2011</td>\n",
              "      <td>1</td>\n",
              "      <td>1</td>\n",
              "      <td>3</td>\n",
              "      <td>0</td>\n",
              "      <td>0</td>\n",
              "    </tr>\n",
              "    <tr>\n",
              "      <th>4</th>\n",
              "      <td>2011-01-01 04:00:00</td>\n",
              "      <td>1</td>\n",
              "      <td>0</td>\n",
              "      <td>0</td>\n",
              "      <td>1</td>\n",
              "      <td>9.84</td>\n",
              "      <td>14.395</td>\n",
              "      <td>75</td>\n",
              "      <td>0.0</td>\n",
              "      <td>0</td>\n",
              "      <td>1</td>\n",
              "      <td>1</td>\n",
              "      <td>2011</td>\n",
              "      <td>1</td>\n",
              "      <td>1</td>\n",
              "      <td>4</td>\n",
              "      <td>0</td>\n",
              "      <td>0</td>\n",
              "    </tr>\n",
              "  </tbody>\n",
              "</table>\n",
              "</div>\n",
              "      <button class=\"colab-df-convert\" onclick=\"convertToInteractive('df-67a03136-52e8-4116-924e-70b1bd3806a6')\"\n",
              "              title=\"Convert this dataframe to an interactive table.\"\n",
              "              style=\"display:none;\">\n",
              "        \n",
              "  <svg xmlns=\"http://www.w3.org/2000/svg\" height=\"24px\"viewBox=\"0 0 24 24\"\n",
              "       width=\"24px\">\n",
              "    <path d=\"M0 0h24v24H0V0z\" fill=\"none\"/>\n",
              "    <path d=\"M18.56 5.44l.94 2.06.94-2.06 2.06-.94-2.06-.94-.94-2.06-.94 2.06-2.06.94zm-11 1L8.5 8.5l.94-2.06 2.06-.94-2.06-.94L8.5 2.5l-.94 2.06-2.06.94zm10 10l.94 2.06.94-2.06 2.06-.94-2.06-.94-.94-2.06-.94 2.06-2.06.94z\"/><path d=\"M17.41 7.96l-1.37-1.37c-.4-.4-.92-.59-1.43-.59-.52 0-1.04.2-1.43.59L10.3 9.45l-7.72 7.72c-.78.78-.78 2.05 0 2.83L4 21.41c.39.39.9.59 1.41.59.51 0 1.02-.2 1.41-.59l7.78-7.78 2.81-2.81c.8-.78.8-2.07 0-2.86zM5.41 20L4 18.59l7.72-7.72 1.47 1.35L5.41 20z\"/>\n",
              "  </svg>\n",
              "      </button>\n",
              "      \n",
              "  <style>\n",
              "    .colab-df-container {\n",
              "      display:flex;\n",
              "      flex-wrap:wrap;\n",
              "      gap: 12px;\n",
              "    }\n",
              "\n",
              "    .colab-df-convert {\n",
              "      background-color: #E8F0FE;\n",
              "      border: none;\n",
              "      border-radius: 50%;\n",
              "      cursor: pointer;\n",
              "      display: none;\n",
              "      fill: #1967D2;\n",
              "      height: 32px;\n",
              "      padding: 0 0 0 0;\n",
              "      width: 32px;\n",
              "    }\n",
              "\n",
              "    .colab-df-convert:hover {\n",
              "      background-color: #E2EBFA;\n",
              "      box-shadow: 0px 1px 2px rgba(60, 64, 67, 0.3), 0px 1px 3px 1px rgba(60, 64, 67, 0.15);\n",
              "      fill: #174EA6;\n",
              "    }\n",
              "\n",
              "    [theme=dark] .colab-df-convert {\n",
              "      background-color: #3B4455;\n",
              "      fill: #D2E3FC;\n",
              "    }\n",
              "\n",
              "    [theme=dark] .colab-df-convert:hover {\n",
              "      background-color: #434B5C;\n",
              "      box-shadow: 0px 1px 3px 1px rgba(0, 0, 0, 0.15);\n",
              "      filter: drop-shadow(0px 1px 2px rgba(0, 0, 0, 0.3));\n",
              "      fill: #FFFFFF;\n",
              "    }\n",
              "  </style>\n",
              "\n",
              "      <script>\n",
              "        const buttonEl =\n",
              "          document.querySelector('#df-67a03136-52e8-4116-924e-70b1bd3806a6 button.colab-df-convert');\n",
              "        buttonEl.style.display =\n",
              "          google.colab.kernel.accessAllowed ? 'block' : 'none';\n",
              "\n",
              "        async function convertToInteractive(key) {\n",
              "          const element = document.querySelector('#df-67a03136-52e8-4116-924e-70b1bd3806a6');\n",
              "          const dataTable =\n",
              "            await google.colab.kernel.invokeFunction('convertToInteractive',\n",
              "                                                     [key], {});\n",
              "          if (!dataTable) return;\n",
              "\n",
              "          const docLinkHtml = 'Like what you see? Visit the ' +\n",
              "            '<a target=\"_blank\" href=https://colab.research.google.com/notebooks/data_table.ipynb>data table notebook</a>'\n",
              "            + ' to learn more about interactive tables.';\n",
              "          element.innerHTML = '';\n",
              "          dataTable['output_type'] = 'display_data';\n",
              "          await google.colab.output.renderOutput(dataTable, element);\n",
              "          const docLink = document.createElement('div');\n",
              "          docLink.innerHTML = docLinkHtml;\n",
              "          element.appendChild(docLink);\n",
              "        }\n",
              "      </script>\n",
              "    </div>\n",
              "  </div>\n",
              "  "
            ]
          },
          "metadata": {},
          "execution_count": 152
        }
      ]
    },
    {
      "cell_type": "markdown",
      "source": [
        "*year, month, day, hour, minute, second 데이터 갯수 시각화**"
      ],
      "metadata": {
        "id": "u7zYJjxqrvic"
      }
    },
    {
      "cell_type": "code",
      "source": [
        "import seaborn as sns \n",
        "import matplotlib.pyplot"
      ],
      "metadata": {
        "id": "eRX0PM0Orrb_"
      },
      "execution_count": 153,
      "outputs": []
    },
    {
      "cell_type": "code",
      "source": [
        "# countplot 명령을 사용하면 각 카테고리 값별로 데이터가 얼마나 있는지 표시할 수 있다.\n",
        "# countplot(x=\"columnn_name\", data=dataframe)\n",
        "\n",
        "#matplotlib.pyplot 모듈의 subplot()함수는 여러 개의 그래프를 하나의 그림에 나타내도록\n",
        "#plt.subplot(row, column, index)\n",
        "\n",
        "#참조 https://www.tutorialspoint.com/how-do-i-plot-two-countplot-graphs-side-by-side-in-seaborn-using-matplotlib\n"
      ],
      "metadata": {
        "id": "IvvTk5gssSVt"
      },
      "execution_count": 154,
      "outputs": []
    },
    {
      "cell_type": "markdown",
      "source": [
        "![다운로드.png](data:image/png;base64,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)"
      ],
      "metadata": {
        "id": "QIL3VGcWuVgb"
      }
    },
    {
      "cell_type": "code",
      "source": [
        "# subplot 안 쓰고 하나씩 만들어보기\n",
        "\n",
        "sns.countplot(x= \"year\", data = train)\n",
        "plt.title('연도')\n",
        "plt. show()"
      ],
      "metadata": {
        "colab": {
          "base_uri": "https://localhost:8080/",
          "height": 464
        },
        "id": "EkQvM_IZu6yl",
        "outputId": "ed53b0e4-4f0a-43c7-ad32-f644a26c9117"
      },
      "execution_count": 155,
      "outputs": [
        {
          "output_type": "stream",
          "name": "stderr",
          "text": [
            "/usr/local/lib/python3.7/dist-packages/matplotlib/backends/backend_agg.py:214: RuntimeWarning: Glyph 50672 missing from current font.\n",
            "  font.set_text(s, 0.0, flags=flags)\n",
            "/usr/local/lib/python3.7/dist-packages/matplotlib/backends/backend_agg.py:214: RuntimeWarning: Glyph 46020 missing from current font.\n",
            "  font.set_text(s, 0.0, flags=flags)\n",
            "/usr/local/lib/python3.7/dist-packages/matplotlib/backends/backend_agg.py:183: RuntimeWarning: Glyph 50672 missing from current font.\n",
            "  font.set_text(s, 0, flags=flags)\n",
            "/usr/local/lib/python3.7/dist-packages/matplotlib/backends/backend_agg.py:183: RuntimeWarning: Glyph 46020 missing from current font.\n",
            "  font.set_text(s, 0, flags=flags)\n"
          ]
        },
        {
          "output_type": "display_data",
          "data": {
            "text/plain": [
              "<Figure size 432x288 with 1 Axes>"
            ],
            "image/png": "[encoded data removed]"
          },
          "metadata": {
            "needs_background": "light"
          }
        }
      ]
    },
    {
      "cell_type": "code",
      "source": [
        "sns.countplot(x= \"month\", data = train)\n",
        "plt.title('월')\n",
        "plt.show()"
      ],
      "metadata": {
        "colab": {
          "base_uri": "https://localhost:8080/",
          "height": 390
        },
        "id": "M_k5OGCjvKGX",
        "outputId": "147bc947-a421-4dde-dbca-9f572d9f2629"
      },
      "execution_count": 156,
      "outputs": [
        {
          "output_type": "stream",
          "name": "stderr",
          "text": [
            "/usr/local/lib/python3.7/dist-packages/matplotlib/backends/backend_agg.py:214: RuntimeWarning: Glyph 50900 missing from current font.\n",
            "  font.set_text(s, 0.0, flags=flags)\n",
            "/usr/local/lib/python3.7/dist-packages/matplotlib/backends/backend_agg.py:183: RuntimeWarning: Glyph 50900 missing from current font.\n",
            "  font.set_text(s, 0, flags=flags)\n"
          ]
        },
        {
          "output_type": "display_data",
          "data": {
            "text/plain": [
              "<Figure size 432x288 with 1 Axes>"
            ],
            "image/png": "[encoded data removed]"
          },
          "metadata": {
            "needs_background": "light"
          }
        }
      ]
    },
    {
      "cell_type": "code",
      "source": [
        "sns.countplot(x= \"day\", data = train)\n",
        "plt.title('일')\n",
        "plt.show()"
      ],
      "metadata": {
        "colab": {
          "base_uri": "https://localhost:8080/",
          "height": 390
        },
        "id": "WTHvZl4J261Z",
        "outputId": "2930b0d3-1f7a-49af-f48d-0f4778536451"
      },
      "execution_count": 157,
      "outputs": [
        {
          "output_type": "stream",
          "name": "stderr",
          "text": [
            "/usr/local/lib/python3.7/dist-packages/matplotlib/backends/backend_agg.py:214: RuntimeWarning: Glyph 51068 missing from current font.\n",
            "  font.set_text(s, 0.0, flags=flags)\n",
            "/usr/local/lib/python3.7/dist-packages/matplotlib/backends/backend_agg.py:183: RuntimeWarning: Glyph 51068 missing from current font.\n",
            "  font.set_text(s, 0, flags=flags)\n"
          ]
        },
        {
          "output_type": "display_data",
          "data": {
            "text/plain": [
              "<Figure size 432x288 with 1 Axes>"
            ],
            "image/png": "[encoded data removed]"
          },
          "metadata": {
            "needs_background": "light"
          }
        }
      ]
    },
    {
      "cell_type": "code",
      "source": [
        "sns.countplot(x= \"hour\", data = train)\n",
        "plt.title('시')\n",
        "plt.show()"
      ],
      "metadata": {
        "colab": {
          "base_uri": "https://localhost:8080/",
          "height": 390
        },
        "id": "leWXmwgHxA_L",
        "outputId": "ec0b6f59-a8d3-485c-e68a-55bb192bf6a4"
      },
      "execution_count": 158,
      "outputs": [
        {
          "output_type": "stream",
          "name": "stderr",
          "text": [
            "/usr/local/lib/python3.7/dist-packages/matplotlib/backends/backend_agg.py:214: RuntimeWarning: Glyph 49884 missing from current font.\n",
            "  font.set_text(s, 0.0, flags=flags)\n",
            "/usr/local/lib/python3.7/dist-packages/matplotlib/backends/backend_agg.py:183: RuntimeWarning: Glyph 49884 missing from current font.\n",
            "  font.set_text(s, 0, flags=flags)\n"
          ]
        },
        {
          "output_type": "display_data",
          "data": {
            "text/plain": [
              "<Figure size 432x288 with 1 Axes>"
            ],
            "image/png": "[encoded data removed]"
          },
          "metadata": {
            "needs_background": "light"
          }
        }
      ]
    },
    {
      "cell_type": "code",
      "source": [
        "sns.countplot(x= \"minute\", data = train)\n",
        "plt.title('분')\n",
        "plt.show()"
      ],
      "metadata": {
        "colab": {
          "base_uri": "https://localhost:8080/",
          "height": 390
        },
        "id": "INQMxq0KxVbJ",
        "outputId": "d0b41b9d-497e-42ea-c788-704fb81d6d08"
      },
      "execution_count": 159,
      "outputs": [
        {
          "output_type": "stream",
          "name": "stderr",
          "text": [
            "/usr/local/lib/python3.7/dist-packages/matplotlib/backends/backend_agg.py:214: RuntimeWarning: Glyph 48516 missing from current font.\n",
            "  font.set_text(s, 0.0, flags=flags)\n",
            "/usr/local/lib/python3.7/dist-packages/matplotlib/backends/backend_agg.py:183: RuntimeWarning: Glyph 48516 missing from current font.\n",
            "  font.set_text(s, 0, flags=flags)\n"
          ]
        },
        {
          "output_type": "display_data",
          "data": {
            "text/plain": [
              "<Figure size 432x288 with 1 Axes>"
            ],
            "image/png": "[encoded data removed]"
          },
          "metadata": {
            "needs_background": "light"
          }
        }
      ]
    },
    {
      "cell_type": "code",
      "source": [
        "sns.countplot(x= \"second\", data = train)\n",
        "plt.title('초')\n",
        "plt.show()"
      ],
      "metadata": {
        "colab": {
          "base_uri": "https://localhost:8080/",
          "height": 390
        },
        "id": "iySSrhr6xodk",
        "outputId": "d6371b2b-6844-4277-dd70-399c2f00d619"
      },
      "execution_count": 160,
      "outputs": [
        {
          "output_type": "stream",
          "name": "stderr",
          "text": [
            "/usr/local/lib/python3.7/dist-packages/matplotlib/backends/backend_agg.py:214: RuntimeWarning: Glyph 52488 missing from current font.\n",
            "  font.set_text(s, 0.0, flags=flags)\n",
            "/usr/local/lib/python3.7/dist-packages/matplotlib/backends/backend_agg.py:183: RuntimeWarning: Glyph 52488 missing from current font.\n",
            "  font.set_text(s, 0, flags=flags)\n"
          ]
        },
        {
          "output_type": "display_data",
          "data": {
            "text/plain": [
              "<Figure size 432x288 with 1 Axes>"
            ],
            "image/png": "[encoded data removed]"
          },
          "metadata": {
            "needs_background": "light"
          }
        }
      ]
    },
    {
      "cell_type": "code",
      "source": [
        "fig, ax = plt.subplots(3,2, figsize = (12, 10))\n",
        "sns.countplot(data = train, x = \"year\", ax = ax[0,0])\n",
        "sns.countplot(data = train, x = \"month\", ax = ax[0,1])\n",
        "sns.countplot(data = train, x = \"day\", ax = ax[1,0])\n",
        "sns.countplot(data = train, x = \"hour\", ax = ax[1,1])\n",
        "sns.countplot(data = train, x = \"minute\", ax = ax[2,0])\n",
        "sns.countplot(data = train, x = \"second\", ax = ax[2,1])\n",
        "\n",
        "fig.tight_layout()\n",
        "plt.subplots_adjust(left=4, bottom=4, right=5, top=5)\n",
        "\n",
        "# subplots_adjust(left, bottom, right, top, wspace, hspace)\n",
        "# 그래프들 간격 사이 조정"
      ],
      "metadata": {
        "colab": {
          "base_uri": "https://localhost:8080/",
          "height": 535
        },
        "id": "Q2pi4BBqx7NL",
        "outputId": "9c5a91ab-9645-447d-a16b-c8267c7e6e8a"
      },
      "execution_count": 161,
      "outputs": [
        {
          "output_type": "display_data",
          "data": {
            "text/plain": [
              "<Figure size 864x720 with 6 Axes>"
            ],
            "image/png": "[encoded data removed]"
          },
          "metadata": {
            "needs_background": "light"
          }
        }
      ]
    },
    {
      "cell_type": "markdown",
      "source": [
        "** X, y 컬럼 선택 및 train/test 데이터 분리**"
      ],
      "metadata": {
        "id": "H9Or1gkb38io"
      }
    },
    {
      "cell_type": "code",
      "source": [
        "train.head()"
      ],
      "metadata": {
        "colab": {
          "base_uri": "https://localhost:8080/",
          "height": 444
        },
        "id": "_XVuSYBK01Vv",
        "outputId": "a715a0cf-934f-4450-b64d-a63f04e647ae"
      },
      "execution_count": 162,
      "outputs": [
        {
          "output_type": "execute_result",
          "data": {
            "text/plain": [
              "             datetime  season  holiday  workingday  weather  temp   atemp  \\\n",
              "0 2011-01-01 00:00:00       1        0           0        1  9.84  14.395   \n",
              "1 2011-01-01 01:00:00       1        0           0        1  9.02  13.635   \n",
              "2 2011-01-01 02:00:00       1        0           0        1  9.02  13.635   \n",
              "3 2011-01-01 03:00:00       1        0           0        1  9.84  14.395   \n",
              "4 2011-01-01 04:00:00       1        0           0        1  9.84  14.395   \n",
              "\n",
              "   humidity  windspeed  casual  registered  count  year  month  day  hour  \\\n",
              "0        81        0.0       3          13     16  2011      1    1     0   \n",
              "1        80        0.0       8          32     40  2011      1    1     1   \n",
              "2        80        0.0       5          27     32  2011      1    1     2   \n",
              "3        75        0.0       3          10     13  2011      1    1     3   \n",
              "4        75        0.0       0           1      1  2011      1    1     4   \n",
              "\n",
              "   minute  second  \n",
              "0       0       0  \n",
              "1       0       0  \n",
              "2       0       0  \n",
              "3       0       0  \n",
              "4       0       0  "
            ],
            "text/html": [
              "\n",
              "  <div id=\"df-f6692511-2827-41b0-97ec-9571144596d3\">\n",
              "    <div class=\"colab-df-container\">\n",
              "      <div>\n",
              "<style scoped>\n",
              "    .dataframe tbody tr th:only-of-type {\n",
              "        vertical-align: middle;\n",
              "    }\n",
              "\n",
              "    .dataframe tbody tr th {\n",
              "        vertical-align: top;\n",
              "    }\n",
              "\n",
              "    .dataframe thead th {\n",
              "        text-align: right;\n",
              "    }\n",
              "</style>\n",
              "<table border=\"1\" class=\"dataframe\">\n",
              "  <thead>\n",
              "    <tr style=\"text-align: right;\">\n",
              "      <th></th>\n",
              "      <th>datetime</th>\n",
              "      <th>season</th>\n",
              "      <th>holiday</th>\n",
              "      <th>workingday</th>\n",
              "      <th>weather</th>\n",
              "      <th>temp</th>\n",
              "      <th>atemp</th>\n",
              "      <th>humidity</th>\n",
              "      <th>windspeed</th>\n",
              "      <th>casual</th>\n",
              "      <th>registered</th>\n",
              "      <th>count</th>\n",
              "      <th>year</th>\n",
              "      <th>month</th>\n",
              "      <th>day</th>\n",
              "      <th>hour</th>\n",
              "      <th>minute</th>\n",
              "      <th>second</th>\n",
              "    </tr>\n",
              "  </thead>\n",
              "  <tbody>\n",
              "    <tr>\n",
              "      <th>0</th>\n",
              "      <td>2011-01-01 00:00:00</td>\n",
              "      <td>1</td>\n",
              "      <td>0</td>\n",
              "      <td>0</td>\n",
              "      <td>1</td>\n",
              "      <td>9.84</td>\n",
              "      <td>14.395</td>\n",
              "      <td>81</td>\n",
              "      <td>0.0</td>\n",
              "      <td>3</td>\n",
              "      <td>13</td>\n",
              "      <td>16</td>\n",
              "      <td>2011</td>\n",
              "      <td>1</td>\n",
              "      <td>1</td>\n",
              "      <td>0</td>\n",
              "      <td>0</td>\n",
              "      <td>0</td>\n",
              "    </tr>\n",
              "    <tr>\n",
              "      <th>1</th>\n",
              "      <td>2011-01-01 01:00:00</td>\n",
              "      <td>1</td>\n",
              "      <td>0</td>\n",
              "      <td>0</td>\n",
              "      <td>1</td>\n",
              "      <td>9.02</td>\n",
              "      <td>13.635</td>\n",
              "      <td>80</td>\n",
              "      <td>0.0</td>\n",
              "      <td>8</td>\n",
              "      <td>32</td>\n",
              "      <td>40</td>\n",
              "      <td>2011</td>\n",
              "      <td>1</td>\n",
              "      <td>1</td>\n",
              "      <td>1</td>\n",
              "      <td>0</td>\n",
              "      <td>0</td>\n",
              "    </tr>\n",
              "    <tr>\n",
              "      <th>2</th>\n",
              "      <td>2011-01-01 02:00:00</td>\n",
              "      <td>1</td>\n",
              "      <td>0</td>\n",
              "      <td>0</td>\n",
              "      <td>1</td>\n",
              "      <td>9.02</td>\n",
              "      <td>13.635</td>\n",
              "      <td>80</td>\n",
              "      <td>0.0</td>\n",
              "      <td>5</td>\n",
              "      <td>27</td>\n",
              "      <td>32</td>\n",
              "      <td>2011</td>\n",
              "      <td>1</td>\n",
              "      <td>1</td>\n",
              "      <td>2</td>\n",
              "      <td>0</td>\n",
              "      <td>0</td>\n",
              "    </tr>\n",
              "    <tr>\n",
              "      <th>3</th>\n",
              "      <td>2011-01-01 03:00:00</td>\n",
              "      <td>1</td>\n",
              "      <td>0</td>\n",
              "      <td>0</td>\n",
              "      <td>1</td>\n",
              "      <td>9.84</td>\n",
              "      <td>14.395</td>\n",
              "      <td>75</td>\n",
              "      <td>0.0</td>\n",
              "      <td>3</td>\n",
              "      <td>10</td>\n",
              "      <td>13</td>\n",
              "      <td>2011</td>\n",
              "      <td>1</td>\n",
              "      <td>1</td>\n",
              "      <td>3</td>\n",
              "      <td>0</td>\n",
              "      <td>0</td>\n",
              "    </tr>\n",
              "    <tr>\n",
              "      <th>4</th>\n",
              "      <td>2011-01-01 04:00:00</td>\n",
              "      <td>1</td>\n",
              "      <td>0</td>\n",
              "      <td>0</td>\n",
              "      <td>1</td>\n",
              "      <td>9.84</td>\n",
              "      <td>14.395</td>\n",
              "      <td>75</td>\n",
              "      <td>0.0</td>\n",
              "      <td>0</td>\n",
              "      <td>1</td>\n",
              "      <td>1</td>\n",
              "      <td>2011</td>\n",
              "      <td>1</td>\n",
              "      <td>1</td>\n",
              "      <td>4</td>\n",
              "      <td>0</td>\n",
              "      <td>0</td>\n",
              "    </tr>\n",
              "  </tbody>\n",
              "</table>\n",
              "</div>\n",
              "      <button class=\"colab-df-convert\" onclick=\"convertToInteractive('df-f6692511-2827-41b0-97ec-9571144596d3')\"\n",
              "              title=\"Convert this dataframe to an interactive table.\"\n",
              "              style=\"display:none;\">\n",
              "        \n",
              "  <svg xmlns=\"http://www.w3.org/2000/svg\" height=\"24px\"viewBox=\"0 0 24 24\"\n",
              "       width=\"24px\">\n",
              "    <path d=\"M0 0h24v24H0V0z\" fill=\"none\"/>\n",
              "    <path d=\"M18.56 5.44l.94 2.06.94-2.06 2.06-.94-2.06-.94-.94-2.06-.94 2.06-2.06.94zm-11 1L8.5 8.5l.94-2.06 2.06-.94-2.06-.94L8.5 2.5l-.94 2.06-2.06.94zm10 10l.94 2.06.94-2.06 2.06-.94-2.06-.94-.94-2.06-.94 2.06-2.06.94z\"/><path d=\"M17.41 7.96l-1.37-1.37c-.4-.4-.92-.59-1.43-.59-.52 0-1.04.2-1.43.59L10.3 9.45l-7.72 7.72c-.78.78-.78 2.05 0 2.83L4 21.41c.39.39.9.59 1.41.59.51 0 1.02-.2 1.41-.59l7.78-7.78 2.81-2.81c.8-.78.8-2.07 0-2.86zM5.41 20L4 18.59l7.72-7.72 1.47 1.35L5.41 20z\"/>\n",
              "  </svg>\n",
              "      </button>\n",
              "      \n",
              "  <style>\n",
              "    .colab-df-container {\n",
              "      display:flex;\n",
              "      flex-wrap:wrap;\n",
              "      gap: 12px;\n",
              "    }\n",
              "\n",
              "    .colab-df-convert {\n",
              "      background-color: #E8F0FE;\n",
              "      border: none;\n",
              "      border-radius: 50%;\n",
              "      cursor: pointer;\n",
              "      display: none;\n",
              "      fill: #1967D2;\n",
              "      height: 32px;\n",
              "      padding: 0 0 0 0;\n",
              "      width: 32px;\n",
              "    }\n",
              "\n",
              "    .colab-df-convert:hover {\n",
              "      background-color: #E2EBFA;\n",
              "      box-shadow: 0px 1px 2px rgba(60, 64, 67, 0.3), 0px 1px 3px 1px rgba(60, 64, 67, 0.15);\n",
              "      fill: #174EA6;\n",
              "    }\n",
              "\n",
              "    [theme=dark] .colab-df-convert {\n",
              "      background-color: #3B4455;\n",
              "      fill: #D2E3FC;\n",
              "    }\n",
              "\n",
              "    [theme=dark] .colab-df-convert:hover {\n",
              "      background-color: #434B5C;\n",
              "      box-shadow: 0px 1px 3px 1px rgba(0, 0, 0, 0.15);\n",
              "      filter: drop-shadow(0px 1px 2px rgba(0, 0, 0, 0.3));\n",
              "      fill: #FFFFFF;\n",
              "    }\n",
              "  </style>\n",
              "\n",
              "      <script>\n",
              "        const buttonEl =\n",
              "          document.querySelector('#df-f6692511-2827-41b0-97ec-9571144596d3 button.colab-df-convert');\n",
              "        buttonEl.style.display =\n",
              "          google.colab.kernel.accessAllowed ? 'block' : 'none';\n",
              "\n",
              "        async function convertToInteractive(key) {\n",
              "          const element = document.querySelector('#df-f6692511-2827-41b0-97ec-9571144596d3');\n",
              "          const dataTable =\n",
              "            await google.colab.kernel.invokeFunction('convertToInteractive',\n",
              "                                                     [key], {});\n",
              "          if (!dataTable) return;\n",
              "\n",
              "          const docLinkHtml = 'Like what you see? Visit the ' +\n",
              "            '<a target=\"_blank\" href=https://colab.research.google.com/notebooks/data_table.ipynb>data table notebook</a>'\n",
              "            + ' to learn more about interactive tables.';\n",
              "          element.innerHTML = '';\n",
              "          dataTable['output_type'] = 'display_data';\n",
              "          await google.colab.output.renderOutput(dataTable, element);\n",
              "          const docLink = document.createElement('div');\n",
              "          docLink.innerHTML = docLinkHtml;\n",
              "          element.appendChild(docLink);\n",
              "        }\n",
              "      </script>\n",
              "    </div>\n",
              "  </div>\n",
              "  "
            ]
          },
          "metadata": {},
          "execution_count": 162
        }
      ]
    },
    {
      "cell_type": "markdown",
      "source": [
        "자전거 타기에 날씨가 영향을 많이 끼치는 것으로 나타난다. 계절, 날씨, 풍속, 월, 시간 등이 양의 상관관게로 나타난다. 휴일도 중요한 요인이다.****"
      ],
      "metadata": {
        "id": "Cf7Sozy94Y4h"
      }
    },
    {
      "cell_type": "markdown",
      "source": [
        "# X, y 컬럼 선택 및 train/test 데이터 분리"
      ],
      "metadata": {
        "id": "eOi5Sz0JVN9g"
      }
    },
    {
      "cell_type": "code",
      "source": [
        "train = train[['datetime',\t'season',\t'holiday',\t'workingday',\t'weather',\t'temp',\t'atemp',\t'humidity',\t'windspeed',\t'casual',\t'"
      ],
      "metadata": {
        "colab": {
          "base_uri": "https://localhost:8080/",
          "height": 176
        },
        "id": "qZ2YEzpmVsq7",
        "outputId": "30f14c09-d2ce-4d5f-a3d4-cb7134050a8f"
      },
      "execution_count": 166,
      "outputs": [
        {
          "output_type": "error",
          "ename": "SyntaxError",
          "evalue": "ignored",
          "traceback": [
            "\u001b[0;36m  File \u001b[0;32m\"<ipython-input-166-de0211c8fd43>\"\u001b[0;36m, line \u001b[0;32m1\u001b[0m\n\u001b[0;31m    train = train[['datetime',\t'season',\t'holiday',\t'workingday',\t'weather',\t'temp',\t'atemp',\t'humidity',\t'windspeed',\t'casual',\t'\u001b[0m\n\u001b[0m                              \t         \t          \t             \t          \t       \t        \t           \t            \t         \t ^\u001b[0m\n\u001b[0;31mSyntaxError\u001b[0m\u001b[0;31m:\u001b[0m EOL while scanning string literal\n"
          ]
        }
      ]
    },
    {
      "cell_type": "code",
      "source": [
        "X = train[['season', 'weather', 'windspeed', 'month', 'hour', 'workingday','holiday', 'temp', 'humidity']].values\n",
        "y = train['count'].values"
      ],
      "metadata": {
        "colab": {
          "base_uri": "https://localhost:8080/",
          "height": 289
        },
        "id": "qGIoiNMOWX7w",
        "outputId": "5864f72d-e02a-4f42-b8d1-30916df0d7c5"
      },
      "execution_count": 168,
      "outputs": [
        {
          "output_type": "stream",
          "name": "stderr",
          "text": [
            "/usr/local/lib/python3.7/dist-packages/ipykernel_launcher.py:1: FutureWarning: Using a non-tuple sequence for multidimensional indexing is deprecated; use `arr[tuple(seq)]` instead of `arr[seq]`. In the future this will be interpreted as an array index, `arr[np.array(seq)]`, which will result either in an error or a different result.\n",
            "  \"\"\"Entry point for launching an IPython kernel.\n"
          ]
        },
        {
          "output_type": "error",
          "ename": "IndexError",
          "evalue": "ignored",
          "traceback": [
            "\u001b[0;31m---------------------------------------------------------------------------\u001b[0m",
            "\u001b[0;31mIndexError\u001b[0m                                Traceback (most recent call last)",
            "\u001b[0;32m<ipython-input-168-bed02536aca8>\u001b[0m in \u001b[0;36m<module>\u001b[0;34m()\u001b[0m\n\u001b[0;32m----> 1\u001b[0;31m \u001b[0mX\u001b[0m \u001b[0;34m=\u001b[0m \u001b[0mtrain\u001b[0m\u001b[0;34m[\u001b[0m\u001b[0;34m[\u001b[0m\u001b[0;34m'season'\u001b[0m\u001b[0;34m,\u001b[0m \u001b[0;34m'weather'\u001b[0m\u001b[0;34m,\u001b[0m \u001b[0;34m'windspeed'\u001b[0m\u001b[0;34m,\u001b[0m \u001b[0;34m'month'\u001b[0m\u001b[0;34m,\u001b[0m \u001b[0;34m'hour'\u001b[0m\u001b[0;34m,\u001b[0m \u001b[0;34m'workingday'\u001b[0m\u001b[0;34m,\u001b[0m\u001b[0;34m'holiday'\u001b[0m\u001b[0;34m,\u001b[0m \u001b[0;34m'temp'\u001b[0m\u001b[0;34m,\u001b[0m \u001b[0;34m'humidity'\u001b[0m\u001b[0;34m]\u001b[0m\u001b[0;34m]\u001b[0m\u001b[0;34m.\u001b[0m\u001b[0mvalues\u001b[0m\u001b[0;34m\u001b[0m\u001b[0;34m\u001b[0m\u001b[0m\n\u001b[0m\u001b[1;32m      2\u001b[0m \u001b[0my\u001b[0m \u001b[0;34m=\u001b[0m \u001b[0mtrain\u001b[0m\u001b[0;34m[\u001b[0m\u001b[0;34m'count'\u001b[0m\u001b[0;34m]\u001b[0m\u001b[0;34m.\u001b[0m\u001b[0mvalues\u001b[0m\u001b[0;34m\u001b[0m\u001b[0;34m\u001b[0m\u001b[0m\n",
            "\u001b[0;31mIndexError\u001b[0m: only integers, slices (`:`), ellipsis (`...`), numpy.newaxis (`None`) and integer or boolean arrays are valid indices"
          ]
        }
      ]
    },
    {
      "cell_type": "code",
      "source": [
        ""
      ],
      "metadata": {
        "id": "Xh_LIwG4WM12"
      },
      "execution_count": null,
      "outputs": []
    },
    {
      "cell_type": "code",
      "source": [
        "X.shape, y.shape"
      ],
      "metadata": {
        "colab": {
          "base_uri": "https://localhost:8080/"
        },
        "id": "cO5dl-Yi6487",
        "outputId": "0d07c117-d6d7-4149-ec0b-a734f04d523b"
      },
      "execution_count": 169,
      "outputs": [
        {
          "output_type": "execute_result",
          "data": {
            "text/plain": [
              "((442, 10), (442,))"
            ]
          },
          "metadata": {},
          "execution_count": 169
        }
      ]
    },
    {
      "cell_type": "code",
      "source": [
        "from sklearn.model_selection import train_test_split\n",
        "\n",
        "X_train, X_test, y_train, y_test = train_test_split(X, y, test_size = 0.2, random_state=42)\n",
        "print(X_train.shape, y_train.shape)\n",
        "print(X_train.shape, y_test.shape)"
      ],
      "metadata": {
        "colab": {
          "base_uri": "https://localhost:8080/"
        },
        "id": "05J8h3EN7AIK",
        "outputId": "658dbe40-919b-46bf-e84a-83e8d31a487e"
      },
      "execution_count": 170,
      "outputs": [
        {
          "output_type": "stream",
          "name": "stdout",
          "text": [
            "(353, 10) (353,)\n",
            "(353, 10) (89,)\n"
          ]
        }
      ]
    },
    {
      "cell_type": "markdown",
      "source": [
        "# linearRegression 모델 학습"
      ],
      "metadata": {
        "id": "dtecQri6WxPL"
      }
    },
    {
      "cell_type": "code",
      "source": [
        "from sklearn.linear_model import LinearRegression\n",
        "\n",
        "model = LinearRegression()"
      ],
      "metadata": {
        "id": "et5i5PPQ8DiK"
      },
      "execution_count": 171,
      "outputs": []
    },
    {
      "cell_type": "code",
      "source": [
        "model.fit(X_train, y_train)"
      ],
      "metadata": {
        "colab": {
          "base_uri": "https://localhost:8080/"
        },
        "id": "Aipt9cDg8fIP",
        "outputId": "75ae6e77-d6a4-4f73-edad-1d5fa6e52e8f"
      },
      "execution_count": 172,
      "outputs": [
        {
          "output_type": "execute_result",
          "data": {
            "text/plain": [
              "LinearRegression()"
            ]
          },
          "metadata": {},
          "execution_count": 172
        }
      ]
    },
    {
      "cell_type": "markdown",
      "source": [
        "# 학습된 모델로 X_test어ㅔ 대한 예측값 출력 및 손실 함수값 계산"
      ],
      "metadata": {
        "id": "LhJlmjBf8sgb"
      }
    },
    {
      "cell_type": "code",
      "source": [
        "predictions = model.predict(X_test)\n",
        "predictions"
      ],
      "metadata": {
        "colab": {
          "base_uri": "https://localhost:8080/"
        },
        "id": "LHXe5-__8oGa",
        "outputId": "bb3b437b-0361-427f-c7b3-913d88929f51"
      },
      "execution_count": 173,
      "outputs": [
        {
          "output_type": "execute_result",
          "data": {
            "text/plain": [
              "array([139.5483133 , 179.52030578, 134.04133298, 291.41193598,\n",
              "       123.78723656,  92.17357677, 258.23409704, 181.33895238,\n",
              "        90.22217862, 108.63143298,  94.13938654, 168.43379636,\n",
              "        53.50669663, 206.63040068, 100.13238561, 130.66881649,\n",
              "       219.53270758, 250.78291772, 196.36682356, 218.57497401,\n",
              "       207.35002447,  88.48361667,  70.43428801, 188.95725301,\n",
              "       154.88720039, 159.35957695, 188.31587948, 180.38835506,\n",
              "        47.98988446, 108.97514644, 174.78080029,  86.36598906,\n",
              "       132.95890535, 184.5410226 , 173.83298051, 190.35863287,\n",
              "       124.41740796, 119.65426903, 147.95402494,  59.05311211,\n",
              "        71.62636914, 107.68722902, 165.45544477, 155.00784964,\n",
              "       171.04558668,  61.45763075,  71.66975626, 114.96330486,\n",
              "        51.57808027, 167.57781958, 152.52505798,  62.95827693,\n",
              "       103.49862017, 109.20495627, 175.63844013, 154.60247734,\n",
              "        94.41476124, 210.74244148, 120.25601864,  77.61590087,\n",
              "       187.93503183, 206.49543321, 140.63018684, 105.59463059,\n",
              "       130.704246  , 202.18650868, 171.1330116 , 164.91246096,\n",
              "       124.72637597, 144.81210187, 181.99631481, 199.41234515,\n",
              "       234.21402489, 145.96053305,  79.86349114, 157.36828831,\n",
              "       192.74737754, 208.8980067 , 158.58505486, 206.0226849 ,\n",
              "       107.47978402, 140.93428553,  54.81856678,  55.92807758,\n",
              "       115.00974554,  78.95886675,  81.55731377,  54.3774778 ,\n",
              "       166.25477778])"
            ]
          },
          "metadata": {},
          "execution_count": 173
        }
      ]
    },
    {
      "cell_type": "code",
      "source": [
        "from sklearn.metrics import mean_squared_error\n",
        "\n",
        "mse = mean_squared_error(y_test, predictions)\n",
        "mse"
      ],
      "metadata": {
        "colab": {
          "base_uri": "https://localhost:8080/"
        },
        "id": "w0Dvzwqq9Jtu",
        "outputId": "f0c136ac-21a6-457a-bfa3-e3b2181e8644"
      },
      "execution_count": 174,
      "outputs": [
        {
          "output_type": "execute_result",
          "data": {
            "text/plain": [
              "2900.1732878832318"
            ]
          },
          "metadata": {},
          "execution_count": 174
        }
      ]
    },
    {
      "cell_type": "code",
      "source": [
        "RMSE = mse ** 0.5\n",
        "RMSE"
      ],
      "metadata": {
        "colab": {
          "base_uri": "https://localhost:8080/"
        },
        "id": "AMRM4SJe9lBO",
        "outputId": "e6da0639-3fe9-41a6-d555-e1b2ecb11747"
      },
      "execution_count": 175,
      "outputs": [
        {
          "output_type": "execute_result",
          "data": {
            "text/plain": [
              "53.8532569849144"
            ]
          },
          "metadata": {},
          "execution_count": 175
        }
      ]
    },
    {
      "cell_type": "markdown",
      "source": [
        "## X축은 temp 또는 humidity 로, y축은 count로 예측결과 시각화하기"
      ],
      "metadata": {
        "id": "aASC3oxp9xfm"
      }
    },
    {
      "cell_type": "code",
      "source": [
        "# 참고 https://jimmy-ai.tistory.com/37"
      ],
      "metadata": {
        "id": "lnC6q5cR9uj3"
      },
      "execution_count": 176,
      "outputs": []
    },
    {
      "cell_type": "code",
      "source": [
        "plt.figure(figsize=(10,6))\n",
        "\n",
        "plt.scatter(train['temp'], # x축\n",
        "            train['count'], # y축\n",
        "            c = 'green', # 색깔(고정)\n",
        "            alpha = 0.5) # 투명도\n",
        "\n",
        "plt.xlabel('temp', size = 12)\n",
        "plt.ylabel('count', size = 12)\n",
        "plt.title('bike sharing bubble chart', size = 15)\n",
        "plt.show()"
      ],
      "metadata": {
        "colab": {
          "base_uri": "https://localhost:8080/",
          "height": 287
        },
        "id": "19zQEXn3X8XV",
        "outputId": "6c96cbc5-4b89-497e-bb72-00f4d4d754e5"
      },
      "execution_count": 179,
      "outputs": [
        {
          "output_type": "error",
          "ename": "IndexError",
          "evalue": "ignored",
          "traceback": [
            "\u001b[0;31m---------------------------------------------------------------------------\u001b[0m",
            "\u001b[0;31mIndexError\u001b[0m                                Traceback (most recent call last)",
            "\u001b[0;32m<ipython-input-179-956b155f2639>\u001b[0m in \u001b[0;36m<module>\u001b[0;34m()\u001b[0m\n\u001b[1;32m      1\u001b[0m \u001b[0mplt\u001b[0m\u001b[0;34m.\u001b[0m\u001b[0mfigure\u001b[0m\u001b[0;34m(\u001b[0m\u001b[0mfigsize\u001b[0m\u001b[0;34m=\u001b[0m\u001b[0;34m(\u001b[0m\u001b[0;36m10\u001b[0m\u001b[0;34m,\u001b[0m\u001b[0;36m6\u001b[0m\u001b[0;34m)\u001b[0m\u001b[0;34m)\u001b[0m\u001b[0;34m\u001b[0m\u001b[0;34m\u001b[0m\u001b[0m\n\u001b[1;32m      2\u001b[0m \u001b[0;34m\u001b[0m\u001b[0m\n\u001b[0;32m----> 3\u001b[0;31m plt.scatter(train['temp'], # x축\n\u001b[0m\u001b[1;32m      4\u001b[0m             \u001b[0mtrain\u001b[0m\u001b[0;34m[\u001b[0m\u001b[0;34m'count'\u001b[0m\u001b[0;34m]\u001b[0m\u001b[0;34m,\u001b[0m \u001b[0;31m# y축\u001b[0m\u001b[0;34m\u001b[0m\u001b[0;34m\u001b[0m\u001b[0m\n\u001b[1;32m      5\u001b[0m             \u001b[0mc\u001b[0m \u001b[0;34m=\u001b[0m \u001b[0;34m'green'\u001b[0m\u001b[0;34m,\u001b[0m \u001b[0;31m# 색깔(고정)\u001b[0m\u001b[0;34m\u001b[0m\u001b[0;34m\u001b[0m\u001b[0m\n",
            "\u001b[0;31mIndexError\u001b[0m: only integers, slices (`:`), ellipsis (`...`), numpy.newaxis (`None`) and integer or boolean arrays are valid indices"
          ]
        },
        {
          "output_type": "display_data",
          "data": {
            "text/plain": [
              "<Figure size 720x432 with 0 Axes>"
            ]
          },
          "metadata": {}
        }
      ]
    },
    {
      "cell_type": "markdown",
      "source": [
        "### 회고"
      ],
      "metadata": {
        "id": "SZNxAgl6YPdQ"
      }
    },
    {
      "cell_type": "markdown",
      "source": [
        "당뇨\n",
        "\n",
        "노드를 겨우겨우 따라가고 있지만, 이해되거나 소화되는 것이 없다.\n",
        "하지만, '당뇨' 프로젝트를 통해 팀원들과 대화하며 아무 의미도 모른채 여러번 반복해서 타이핑하고 수정하던 오타가 조금씩 의미있는 것임을 알게 되며 기쁨을 맛본다.\n",
        "\n",
        "모두들 무언가 해결되지 않는다며 고심하고 있을 때, 나는 밀린 여러가지를 하느라 대화에 끼여들을 짬도 없었으나, 모두들 한 발 한 발 배워나가고 있는 것이 느껴졌다.\n",
        "\n",
        "두려움을 떨쳐내고 한 번이라도 더 해 보기로 한다. \n",
        "\n",
        "자전거\n",
        "\n",
        "당뇨는 명찬님이 힘들더라도 직접 해 보라고 여러번 권한 덕에 이해가 되는 듯 하며 매우 기뻤는데 반해, 이 자전거 프로젝트는 처음부터 필사 라도 하려 했다.\n",
        "필사를 끝낸 마지막 순간에 \"저장\" 하지 못했으나. .. . .\n",
        "\n",
        "마감시간을 지난 이 시간에도 이 밤의 끝을 잡고 있을 만 하다는 생각이 든다.\n",
        "\n",
        "필사를 했음에도 마지막 오류는 뭐란 말인가.\n",
        "\n",
        "매우 급한 마음으로 친절하게 도와주는 여러 '님'들이 고맙다.\n",
        "철영 '님'은 무슨 도움을 누구에게 줄 수 있을꼬~~\n"
      ],
      "metadata": {
        "id": "RKHVk5CPY7kp"
      }
    }
  ]
}