{
  "nbformat": 4,
  "nbformat_minor": 0,
  "metadata": {
    "colab": {
      "name": "P1.당뇨병 수치: 선형회귀, 수치를 맞춰보자!",
      "provenance": []
    },
    "kernelspec": {
      "name": "python3",
      "display_name": "Python 3"
    },
    "language_info": {
      "name": "python"
    }
  },
  "cells": [
    {
      "cell_type": "markdown",
      "source": [
        "# 데이터 준비\n"
      ],
      "metadata": {
        "id": "_CWZRJravcwk"
      }
    },
    {
      "cell_type": "markdown",
      "source": [
        "pandas 가져오기- 표 테이터 다룰 때 가장 많이쓰는 바로 그 라이브러리  -*판다스*"
      ],
      "metadata": {
        "id": "hAIWBT7AwpMn"
      }
    },
    {
      "cell_type": "code",
      "source": [
        ""
      ],
      "metadata": {
        "id": "mxWzDgyGXNAU"
      },
      "execution_count": 20,
      "outputs": []
    },
    {
      "cell_type": "code",
      "source": [
        "import pandas as pd\n",
        "print(\"가 즈 아!!~~\")"
      ],
      "metadata": {
        "colab": {
          "base_uri": "https://localhost:8080/"
        },
        "id": "ONGwptD8xG-s",
        "outputId": "86f06d70-f646-4bf7-8a1d-5f4181f51e0b"
      },
      "execution_count": 21,
      "outputs": [
        {
          "output_type": "stream",
          "name": "stdout",
          "text": [
            "가 즈 아!!~~\n"
          ]
        }
      ]
    },
    {
      "cell_type": "markdown",
      "source": [
        "**(1)데이터 가져오기**"
      ],
      "metadata": {
        "id": "g5KhdSqbyhpE"
      }
    },
    {
      "cell_type": "code",
      "source": [
        "from sklearn.datasets import load_diabetes \n",
        "diabetes = load_diabetes()"
      ],
      "metadata": {
        "id": "bsRkSG8rzWfW"
      },
      "execution_count": 22,
      "outputs": []
    },
    {
      "cell_type": "code",
      "source": [
        "diabetes.keys()  # 데이터 확인하기"
      ],
      "metadata": {
        "colab": {
          "base_uri": "https://localhost:8080/"
        },
        "id": "G8R3eVOX8fBG",
        "outputId": "b8d97147-04ee-4b5f-eec3-b5b0291daa36"
      },
      "execution_count": 23,
      "outputs": [
        {
          "output_type": "execute_result",
          "data": {
            "text/plain": [
              "dict_keys(['data', 'target', 'frame', 'DESCR', 'feature_names', 'data_filename', 'target_filename', 'data_module'])"
            ]
          },
          "metadata": {},
          "execution_count": 23
        }
      ]
    },
    {
      "cell_type": "code",
      "source": [
        "print(diabetes.DESCR)"
      ],
      "metadata": {
        "colab": {
          "base_uri": "https://localhost:8080/"
        },
        "id": "Lp7hulfHXRJe",
        "outputId": "1b5ea584-f54c-4b54-a93b-cafba7dcb411"
      },
      "execution_count": 24,
      "outputs": [
        {
          "output_type": "stream",
          "name": "stdout",
          "text": [
            ".. _diabetes_dataset:\n",
            "\n",
            "Diabetes dataset\n",
            "----------------\n",
            "\n",
            "Ten baseline variables, age, sex, body mass index, average blood\n",
            "pressure, and six blood serum measurements were obtained for each of n =\n",
            "442 diabetes patients, as well as the response of interest, a\n",
            "quantitative measure of disease progression one year after baseline.\n",
            "\n",
            "**Data Set Characteristics:**\n",
            "\n",
            "  :Number of Instances: 442\n",
            "\n",
            "  :Number of Attributes: First 10 columns are numeric predictive values\n",
            "\n",
            "  :Target: Column 11 is a quantitative measure of disease progression one year after baseline\n",
            "\n",
            "  :Attribute Information:\n",
            "      - age     age in years\n",
            "      - sex\n",
            "      - bmi     body mass index\n",
            "      - bp      average blood pressure\n",
            "      - s1      tc, total serum cholesterol\n",
            "      - s2      ldl, low-density lipoproteins\n",
            "      - s3      hdl, high-density lipoproteins\n",
            "      - s4      tch, total cholesterol / HDL\n",
            "      - s5      ltg, possibly log of serum triglycerides level\n",
            "      - s6      glu, blood sugar level\n",
            "\n",
            "Note: Each of these 10 feature variables have been mean centered and scaled by the standard deviation times `n_samples` (i.e. the sum of squares of each column totals 1).\n",
            "\n",
            "Source URL:\n",
            "https://www4.stat.ncsu.edu/~boos/var.select/diabetes.html\n",
            "\n",
            "For more information see:\n",
            "Bradley Efron, Trevor Hastie, Iain Johnstone and Robert Tibshirani (2004) \"Least Angle Regression,\" Annals of Statistics (with discussion), 407-499.\n",
            "(https://web.stanford.edu/~hastie/Papers/LARS/LeastAngle_2002.pdf)\n"
          ]
        }
      ]
    },
    {
      "cell_type": "code",
      "source": [
        "df_X = diabetes.data\n",
        "df_y = diabetes.target\n",
        "\n",
        "print(df_X.shape)\n",
        "print(df_y.shape)"
      ],
      "metadata": {
        "colab": {
          "base_uri": "https://localhost:8080/"
        },
        "id": "INmX6lWz9D5W",
        "outputId": "8bf530e4-4b62-45c1-f9fc-d3f6493dcc4a"
      },
      "execution_count": 25,
      "outputs": [
        {
          "output_type": "stream",
          "name": "stdout",
          "text": [
            "(442, 10)\n",
            "(442,)\n"
          ]
        }
      ]
    },
    {
      "cell_type": "markdown",
      "source": [
        "**모델에 예측할 데이터 X와 y 준비하기**"
      ],
      "metadata": {
        "id": "PC_X7AlPAWPV"
      }
    },
    {
      "cell_type": "code",
      "source": [
        "import numpy as np\n",
        "X = np.array(df_X)  # df_X에 있는 값들을 numpy array로 변환해서 저장\n",
        "y = np.array(df_y)  # df_y에 있는 값들을 numpy array로 변환해서 저장\n",
        "\n",
        "print(X)\n",
        "print(y)"
      ],
      "metadata": {
        "colab": {
          "base_uri": "https://localhost:8080/"
        },
        "id": "IKAnlV8N9j7u",
        "outputId": "a45015c9-e751-4f7d-af4c-38521a66b342"
      },
      "execution_count": 26,
      "outputs": [
        {
          "output_type": "stream",
          "name": "stdout",
          "text": [
            "[[ 0.03807591  0.05068012  0.06169621 ... -0.00259226  0.01990842\n",
            "  -0.01764613]\n",
            " [-0.00188202 -0.04464164 -0.05147406 ... -0.03949338 -0.06832974\n",
            "  -0.09220405]\n",
            " [ 0.08529891  0.05068012  0.04445121 ... -0.00259226  0.00286377\n",
            "  -0.02593034]\n",
            " ...\n",
            " [ 0.04170844  0.05068012 -0.01590626 ... -0.01107952 -0.04687948\n",
            "   0.01549073]\n",
            " [-0.04547248 -0.04464164  0.03906215 ...  0.02655962  0.04452837\n",
            "  -0.02593034]\n",
            " [-0.04547248 -0.04464164 -0.0730303  ... -0.03949338 -0.00421986\n",
            "   0.00306441]]\n",
            "[151.  75. 141. 206. 135.  97. 138.  63. 110. 310. 101.  69. 179. 185.\n",
            " 118. 171. 166. 144.  97. 168.  68.  49.  68. 245. 184. 202. 137.  85.\n",
            " 131. 283. 129.  59. 341.  87.  65. 102. 265. 276. 252.  90. 100.  55.\n",
            "  61.  92. 259.  53. 190. 142.  75. 142. 155. 225.  59. 104. 182. 128.\n",
            "  52.  37. 170. 170.  61. 144.  52. 128.  71. 163. 150.  97. 160. 178.\n",
            "  48. 270. 202. 111.  85.  42. 170. 200. 252. 113. 143.  51.  52. 210.\n",
            "  65. 141.  55. 134.  42. 111.  98. 164.  48.  96.  90. 162. 150. 279.\n",
            "  92.  83. 128. 102. 302. 198.  95.  53. 134. 144. 232.  81. 104.  59.\n",
            " 246. 297. 258. 229. 275. 281. 179. 200. 200. 173. 180.  84. 121. 161.\n",
            "  99. 109. 115. 268. 274. 158. 107.  83. 103. 272.  85. 280. 336. 281.\n",
            " 118. 317. 235.  60. 174. 259. 178. 128.  96. 126. 288.  88. 292.  71.\n",
            " 197. 186.  25.  84.  96. 195.  53. 217. 172. 131. 214.  59.  70. 220.\n",
            " 268. 152.  47.  74. 295. 101. 151. 127. 237. 225.  81. 151. 107.  64.\n",
            " 138. 185. 265. 101. 137. 143. 141.  79. 292. 178.  91. 116.  86. 122.\n",
            "  72. 129. 142.  90. 158.  39. 196. 222. 277.  99. 196. 202. 155.  77.\n",
            " 191.  70.  73.  49.  65. 263. 248. 296. 214. 185.  78.  93. 252. 150.\n",
            "  77. 208.  77. 108. 160.  53. 220. 154. 259.  90. 246. 124.  67.  72.\n",
            " 257. 262. 275. 177.  71.  47. 187. 125.  78.  51. 258. 215. 303. 243.\n",
            "  91. 150. 310. 153. 346.  63.  89.  50.  39. 103. 308. 116. 145.  74.\n",
            "  45. 115. 264.  87. 202. 127. 182. 241.  66.  94. 283.  64. 102. 200.\n",
            " 265.  94. 230. 181. 156. 233.  60. 219.  80.  68. 332. 248.  84. 200.\n",
            "  55.  85.  89.  31. 129.  83. 275.  65. 198. 236. 253. 124.  44. 172.\n",
            " 114. 142. 109. 180. 144. 163. 147.  97. 220. 190. 109. 191. 122. 230.\n",
            " 242. 248. 249. 192. 131. 237.  78. 135. 244. 199. 270. 164.  72.  96.\n",
            " 306.  91. 214.  95. 216. 263. 178. 113. 200. 139. 139.  88. 148.  88.\n",
            " 243.  71.  77. 109. 272.  60.  54. 221.  90. 311. 281. 182. 321.  58.\n",
            " 262. 206. 233. 242. 123. 167.  63. 197.  71. 168. 140. 217. 121. 235.\n",
            " 245.  40.  52. 104. 132.  88.  69. 219.  72. 201. 110.  51. 277.  63.\n",
            " 118.  69. 273. 258.  43. 198. 242. 232. 175.  93. 168. 275. 293. 281.\n",
            "  72. 140. 189. 181. 209. 136. 261. 113. 131. 174. 257.  55.  84.  42.\n",
            " 146. 212. 233.  91. 111. 152. 120.  67. 310.  94. 183.  66. 173.  72.\n",
            "  49.  64.  48. 178. 104. 132. 220.  57.]\n"
          ]
        }
      ]
    },
    {
      "cell_type": "markdown",
      "source": [
        "**train 데이터와 test 데이터로 분리하기**"
      ],
      "metadata": {
        "id": "9WE1HS75D3hm"
      }
    },
    {
      "cell_type": "code",
      "source": [
        "from sklearn.model_selection import train_test_split\n",
        "X_train, X_test, y_train, y_test = train_test_split(X, y, test_size=0.2, random_state=42)\n",
        "print(\"가자고~~!!\")\n",
        "\n",
        "print(X_train.shape, y_train.shape)\n",
        "print(X_test.shape, y_test.shape)"
      ],
      "metadata": {
        "colab": {
          "base_uri": "https://localhost:8080/"
        },
        "id": "0H8i6tzXsUrr",
        "outputId": "36d6af11-0150-4602-8127-e8e011bcf3d0"
      },
      "execution_count": 27,
      "outputs": [
        {
          "output_type": "stream",
          "name": "stdout",
          "text": [
            "가자고~~!!\n",
            "(353, 10) (353,)\n",
            "(89, 10) (89,)\n"
          ]
        }
      ]
    },
    {
      "cell_type": "markdown",
      "source": [
        "**모델 준비하기**"
      ],
      "metadata": {
        "id": "w2rkSHdZqQM0"
      }
    },
    {
      "cell_type": "code",
      "source": [
        "w = np.random.rand(10)\n",
        "b = np.random.rand()\n",
        "\n",
        "print(w)\n",
        "print(b)"
      ],
      "metadata": {
        "colab": {
          "base_uri": "https://localhost:8080/"
        },
        "id": "LkwhNBjn3dsY",
        "outputId": "8a45e45b-db07-4616-e00a-1564e309e1e0"
      },
      "execution_count": 28,
      "outputs": [
        {
          "output_type": "stream",
          "name": "stdout",
          "text": [
            "[0.2930301  0.00775881 0.20118286 0.2053652  0.29989289 0.62361028\n",
            " 0.57493194 0.87826285 0.54354082 0.66795308]\n",
            "0.013826505997911687\n"
          ]
        }
      ]
    },
    {
      "cell_type": "code",
      "source": [
        "def model(X, w, b):\n",
        "    predictions = 0\n",
        "    for i in range(10):\n",
        "        predictions += X[:, i]\n",
        "    predictions += b\n",
        "    return predictions\n",
        "print(\"나 그냥 갈까?\")\n"
      ],
      "metadata": {
        "colab": {
          "base_uri": "https://localhost:8080/"
        },
        "id": "t4dpjXvlCaaY",
        "outputId": "fc0b0b0d-4016-4fc9-9f8a-34e845ad2fd5"
      },
      "execution_count": 29,
      "outputs": [
        {
          "output_type": "stream",
          "name": "stdout",
          "text": [
            "나 그냥 갈까?\n"
          ]
        }
      ]
    },
    {
      "cell_type": "markdown",
      "source": [
        "**손실함수 loss정의하기**"
      ],
      "metadata": {
        "id": "RSdNZFZEvMPo"
      }
    },
    {
      "cell_type": "code",
      "source": [
        "def MSE(a, b):\n",
        "    mse = ((a-b) ** 2).mean() # 두 값의 차이의 제곱의 평균\n",
        "    return mse\n",
        "print(\"왔으요?\")"
      ],
      "metadata": {
        "colab": {
          "base_uri": "https://localhost:8080/"
        },
        "id": "u5g8-_irvY-p",
        "outputId": "4375378f-5fa5-4670-b541-7a0010cd68c8"
      },
      "execution_count": 30,
      "outputs": [
        {
          "output_type": "stream",
          "name": "stdout",
          "text": [
            "왔으요?\n"
          ]
        }
      ]
    },
    {
      "cell_type": "code",
      "source": [
        "def loss(X, w, b, y):\n",
        "    predictions = model(X, w, b)\n",
        "    L = MSE(predictions, y)\n",
        "    return L\n",
        "    print(\"갈끄나?\")"
      ],
      "metadata": {
        "id": "IkC8pCyXKyib"
      },
      "execution_count": 31,
      "outputs": []
    },
    {
      "cell_type": "markdown",
      "source": [
        "**기울기를 구하는 gradient 함수 구현하기**"
      ],
      "metadata": {
        "id": "U5YPG_fL02mh"
      }
    },
    {
      "cell_type": "code",
      "source": [
        "def gradient(X, w, b, y):\n",
        "    #N은 가중치의 개수\n",
        "    N = len(w)\n",
        "\n",
        "    # y_pred 준비\n",
        "    y_pred = model(X,w, b)\n",
        "\n",
        "    # 공식에 맞게 gradient 계산\n",
        "    dw = 1/N * 2 * X.T.dot(y_pred - y)\n",
        "\n",
        "    db = 2 * (y_pred - y).mean()\n",
        "    return dw, db \n",
        "print(\"잔다~\")"
      ],
      "metadata": {
        "colab": {
          "base_uri": "https://localhost:8080/"
        },
        "id": "f-05-by1Esky",
        "outputId": "97d92815-ff3b-4a00-8cd6-7c3418941b9e"
      },
      "execution_count": 32,
      "outputs": [
        {
          "output_type": "stream",
          "name": "stdout",
          "text": [
            "잔다~\n"
          ]
        }
      ]
    },
    {
      "cell_type": "code",
      "source": [
        "dw, db = gradient(X, w, b, y)\n",
        "print(\"dw:\", dw)\n",
        "print(\"db:\", db)"
      ],
      "metadata": {
        "colab": {
          "base_uri": "https://localhost:8080/"
        },
        "id": "b4TJnriKSIpp",
        "outputId": "586631ae-2655-497d-f9ab-279585620551"
      },
      "execution_count": 33,
      "outputs": [
        {
          "output_type": "stream",
          "name": "stdout",
          "text": [
            "dw: [ -60.26167087  -13.54469074 -189.27476348 -142.29579226  -67.827052\n",
            "  -55.60140134  127.51794675 -138.63540264 -182.47211734 -123.14186894]\n",
            "db: -304.23931531379606\n"
          ]
        }
      ]
    },
    {
      "cell_type": "markdown",
      "source": [
        "**하이퍼 파라미터인 학습률 설정하기**"
      ],
      "metadata": {
        "id": "6ksusZOdHzU1"
      }
    },
    {
      "cell_type": "code",
      "source": [
        "LEARNING_RATE =0.01"
      ],
      "metadata": {
        "id": "KNh71Y79ICmN"
      },
      "execution_count": 34,
      "outputs": []
    },
    {
      "cell_type": "code",
      "source": [
        "losses = []\n",
        "\n",
        "for i in range(1, 1501):\n",
        "    dw, db = gradient(X_train, w, b, y_train)\n",
        "    w -= LEARNING_RATE * dw\n",
        "    b -= LEARNING_RATE * db\n",
        "    L = loss(X_train, w, b, y_train)\n",
        "    losses.append(L)\n",
        "    if i % 10 == 0:\n",
        "        print('Iteration %d : Loss %0.4f' % (i, L))\n"
      ],
      "metadata": {
        "colab": {
          "base_uri": "https://localhost:8080/"
        },
        "id": "OoZEfJwEIVt-",
        "outputId": "1323ddc9-ec7f-432d-e380-f6ad82c5be3b"
      },
      "execution_count": 35,
      "outputs": [
        {
          "output_type": "stream",
          "name": "stdout",
          "text": [
            "Iteration 10 : Loss 21832.0111\n",
            "Iteration 20 : Loss 16588.5729\n",
            "Iteration 30 : Loss 13088.0117\n",
            "Iteration 40 : Loss 10751.0091\n",
            "Iteration 50 : Loss 9190.8076\n",
            "Iteration 60 : Loss 8149.2046\n",
            "Iteration 70 : Loss 7453.8221\n",
            "Iteration 80 : Loss 6989.5793\n",
            "Iteration 90 : Loss 6679.6470\n",
            "Iteration 100 : Loss 6472.7338\n",
            "Iteration 110 : Loss 6334.5969\n",
            "Iteration 120 : Loss 6242.3756\n",
            "Iteration 130 : Loss 6180.8079\n",
            "Iteration 140 : Loss 6139.7048\n",
            "Iteration 150 : Loss 6112.2641\n",
            "Iteration 160 : Loss 6093.9444\n",
            "Iteration 170 : Loss 6081.7141\n",
            "Iteration 180 : Loss 6073.5490\n",
            "Iteration 190 : Loss 6068.0979\n",
            "Iteration 200 : Loss 6064.4587\n",
            "Iteration 210 : Loss 6062.0292\n",
            "Iteration 220 : Loss 6060.4072\n",
            "Iteration 230 : Loss 6059.3243\n",
            "Iteration 240 : Loss 6058.6014\n",
            "Iteration 250 : Loss 6058.1188\n",
            "Iteration 260 : Loss 6057.7966\n",
            "Iteration 270 : Loss 6057.5815\n",
            "Iteration 280 : Loss 6057.4379\n",
            "Iteration 290 : Loss 6057.3420\n",
            "Iteration 300 : Loss 6057.2780\n",
            "Iteration 310 : Loss 6057.2353\n",
            "Iteration 320 : Loss 6057.2067\n",
            "Iteration 330 : Loss 6057.1877\n",
            "Iteration 340 : Loss 6057.1750\n",
            "Iteration 350 : Loss 6057.1665\n",
            "Iteration 360 : Loss 6057.1608\n",
            "Iteration 370 : Loss 6057.1570\n",
            "Iteration 380 : Loss 6057.1545\n",
            "Iteration 390 : Loss 6057.1528\n",
            "Iteration 400 : Loss 6057.1517\n",
            "Iteration 410 : Loss 6057.1510\n",
            "Iteration 420 : Loss 6057.1505\n",
            "Iteration 430 : Loss 6057.1501\n",
            "Iteration 440 : Loss 6057.1499\n",
            "Iteration 450 : Loss 6057.1497\n",
            "Iteration 460 : Loss 6057.1496\n",
            "Iteration 470 : Loss 6057.1496\n",
            "Iteration 480 : Loss 6057.1495\n",
            "Iteration 490 : Loss 6057.1495\n",
            "Iteration 500 : Loss 6057.1495\n",
            "Iteration 510 : Loss 6057.1495\n",
            "Iteration 520 : Loss 6057.1495\n",
            "Iteration 530 : Loss 6057.1495\n",
            "Iteration 540 : Loss 6057.1495\n",
            "Iteration 550 : Loss 6057.1495\n",
            "Iteration 560 : Loss 6057.1494\n",
            "Iteration 570 : Loss 6057.1494\n",
            "Iteration 580 : Loss 6057.1494\n",
            "Iteration 590 : Loss 6057.1494\n",
            "Iteration 600 : Loss 6057.1494\n",
            "Iteration 610 : Loss 6057.1494\n",
            "Iteration 620 : Loss 6057.1494\n",
            "Iteration 630 : Loss 6057.1494\n",
            "Iteration 640 : Loss 6057.1494\n",
            "Iteration 650 : Loss 6057.1494\n",
            "Iteration 660 : Loss 6057.1494\n",
            "Iteration 670 : Loss 6057.1494\n",
            "Iteration 680 : Loss 6057.1494\n",
            "Iteration 690 : Loss 6057.1494\n",
            "Iteration 700 : Loss 6057.1494\n",
            "Iteration 710 : Loss 6057.1494\n",
            "Iteration 720 : Loss 6057.1494\n",
            "Iteration 730 : Loss 6057.1494\n",
            "Iteration 740 : Loss 6057.1494\n",
            "Iteration 750 : Loss 6057.1494\n",
            "Iteration 760 : Loss 6057.1494\n",
            "Iteration 770 : Loss 6057.1494\n",
            "Iteration 780 : Loss 6057.1494\n",
            "Iteration 790 : Loss 6057.1494\n",
            "Iteration 800 : Loss 6057.1494\n",
            "Iteration 810 : Loss 6057.1494\n",
            "Iteration 820 : Loss 6057.1494\n",
            "Iteration 830 : Loss 6057.1494\n",
            "Iteration 840 : Loss 6057.1494\n",
            "Iteration 850 : Loss 6057.1494\n",
            "Iteration 860 : Loss 6057.1494\n",
            "Iteration 870 : Loss 6057.1494\n",
            "Iteration 880 : Loss 6057.1494\n",
            "Iteration 890 : Loss 6057.1494\n",
            "Iteration 900 : Loss 6057.1494\n",
            "Iteration 910 : Loss 6057.1494\n",
            "Iteration 920 : Loss 6057.1494\n",
            "Iteration 930 : Loss 6057.1494\n",
            "Iteration 940 : Loss 6057.1494\n",
            "Iteration 950 : Loss 6057.1494\n",
            "Iteration 960 : Loss 6057.1494\n",
            "Iteration 970 : Loss 6057.1494\n",
            "Iteration 980 : Loss 6057.1494\n",
            "Iteration 990 : Loss 6057.1494\n",
            "Iteration 1000 : Loss 6057.1494\n",
            "Iteration 1010 : Loss 6057.1494\n",
            "Iteration 1020 : Loss 6057.1494\n",
            "Iteration 1030 : Loss 6057.1494\n",
            "Iteration 1040 : Loss 6057.1494\n",
            "Iteration 1050 : Loss 6057.1494\n",
            "Iteration 1060 : Loss 6057.1494\n",
            "Iteration 1070 : Loss 6057.1494\n",
            "Iteration 1080 : Loss 6057.1494\n",
            "Iteration 1090 : Loss 6057.1494\n",
            "Iteration 1100 : Loss 6057.1494\n",
            "Iteration 1110 : Loss 6057.1494\n",
            "Iteration 1120 : Loss 6057.1494\n",
            "Iteration 1130 : Loss 6057.1494\n",
            "Iteration 1140 : Loss 6057.1494\n",
            "Iteration 1150 : Loss 6057.1494\n",
            "Iteration 1160 : Loss 6057.1494\n",
            "Iteration 1170 : Loss 6057.1494\n",
            "Iteration 1180 : Loss 6057.1494\n",
            "Iteration 1190 : Loss 6057.1494\n",
            "Iteration 1200 : Loss 6057.1494\n",
            "Iteration 1210 : Loss 6057.1494\n",
            "Iteration 1220 : Loss 6057.1494\n",
            "Iteration 1230 : Loss 6057.1494\n",
            "Iteration 1240 : Loss 6057.1494\n",
            "Iteration 1250 : Loss 6057.1494\n",
            "Iteration 1260 : Loss 6057.1494\n",
            "Iteration 1270 : Loss 6057.1494\n",
            "Iteration 1280 : Loss 6057.1494\n",
            "Iteration 1290 : Loss 6057.1494\n",
            "Iteration 1300 : Loss 6057.1494\n",
            "Iteration 1310 : Loss 6057.1494\n",
            "Iteration 1320 : Loss 6057.1494\n",
            "Iteration 1330 : Loss 6057.1494\n",
            "Iteration 1340 : Loss 6057.1494\n",
            "Iteration 1350 : Loss 6057.1494\n",
            "Iteration 1360 : Loss 6057.1494\n",
            "Iteration 1370 : Loss 6057.1494\n",
            "Iteration 1380 : Loss 6057.1494\n",
            "Iteration 1390 : Loss 6057.1494\n",
            "Iteration 1400 : Loss 6057.1494\n",
            "Iteration 1410 : Loss 6057.1494\n",
            "Iteration 1420 : Loss 6057.1494\n",
            "Iteration 1430 : Loss 6057.1494\n",
            "Iteration 1440 : Loss 6057.1494\n",
            "Iteration 1450 : Loss 6057.1494\n",
            "Iteration 1460 : Loss 6057.1494\n",
            "Iteration 1470 : Loss 6057.1494\n",
            "Iteration 1480 : Loss 6057.1494\n",
            "Iteration 1490 : Loss 6057.1494\n",
            "Iteration 1500 : Loss 6057.1494\n"
          ]
        }
      ]
    },
    {
      "cell_type": "markdown",
      "source": [
        "모델 **학습하기**"
      ],
      "metadata": {
        "id": "55KSlTvJMiYI"
      }
    },
    {
      "cell_type": "code",
      "source": [
        "# 정의된 손실함수와 기울기 함수로 모델을 학습\n",
        "import matplotlib.pyplot as plt\n",
        "plt.plot(losses)\n",
        "plt.show()"
      ],
      "metadata": {
        "colab": {
          "base_uri": "https://localhost:8080/",
          "height": 265
        },
        "id": "ciO7DivcMoLb",
        "outputId": "76b86f3e-9b85-4f2a-f6a8-94a5cd6d3317"
      },
      "execution_count": 36,
      "outputs": [
        {
          "output_type": "display_data",
          "data": {
            "text/plain": [
              "<Figure size 432x288 with 1 Axes>"
            ],
            "image/png": "[encoded data removed]"
          },
          "metadata": {
            "needs_background": "light"
          }
        }
      ]
    },
    {
      "cell_type": "markdown",
      "source": [
        "**test 데이터에 대한 성능 확인**"
      ],
      "metadata": {
        "id": "PJCPo4jmWLRS"
      }
    },
    {
      "cell_type": "code",
      "source": [
        "w, b"
      ],
      "metadata": {
        "colab": {
          "base_uri": "https://localhost:8080/"
        },
        "id": "fn-b67nbWJAd",
        "outputId": "2c71cc95-b947-4591-ad47-279d067fdad2"
      },
      "execution_count": 37,
      "outputs": [
        {
          "output_type": "execute_result",
          "data": {
            "text/plain": [
              "(array([  752.08301328,    24.6949037 ,  2358.99977568,  1775.99921947,\n",
              "          773.34492203,   595.60855758, -1490.54929019,  1668.74527019,\n",
              "         2175.06686996,  1559.25574109]), 153.7308701399846)"
            ]
          },
          "metadata": {},
          "execution_count": 37
        }
      ]
    },
    {
      "cell_type": "code",
      "source": [
        "prediction = model(X_test, w, b)\n",
        "mse = loss(X_test, w, b, y_test)\n",
        "mse"
      ],
      "metadata": {
        "colab": {
          "base_uri": "https://localhost:8080/"
        },
        "id": "boBuCZSGYkPa",
        "outputId": "b04a5a6f-861d-4e51-f381-913b76ff2a1d"
      },
      "execution_count": 38,
      "outputs": [
        {
          "output_type": "execute_result",
          "data": {
            "text/plain": [
              "5342.464020810699"
            ]
          },
          "metadata": {},
          "execution_count": 38
        }
      ]
    },
    {
      "cell_type": "code",
      "source": [
        "plt.scatter(X_test[:, 0], y_test)\n",
        "plt.scatter(X_test[:, 0], prediction)\n",
        "plt.show()"
      ],
      "metadata": {
        "colab": {
          "base_uri": "https://localhost:8080/",
          "height": 265
        },
        "id": "rc1jgX6qWcwt",
        "outputId": "defdb277-75f0-41a4-acd1-af65e0e724ff"
      },
      "execution_count": 39,
      "outputs": [
        {
          "output_type": "display_data",
          "data": {
            "text/plain": [
              "<Figure size 432x288 with 1 Axes>"
            ],
            "image/png": "[encoded data removed]"
          },
          "metadata": {
            "needs_background": "light"
          }
        }
      ]
    }
  ]
}